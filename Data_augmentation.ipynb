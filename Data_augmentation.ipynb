{
 "cells": [
  {
   "cell_type": "code",
   "execution_count": 10,
   "id": "56ebd84d",
   "metadata": {},
   "outputs": [
    {
     "name": "stdout",
     "output_type": "stream",
     "text": [
      "3.9.12 (main, Jun  1 2022, 11:38:51) \n",
      "[GCC 7.5.0]\n"
     ]
    }
   ],
   "source": [
    "import sys\n",
    "print(sys.version)"
   ]
  },
  {
   "cell_type": "code",
   "execution_count": 11,
   "id": "4ae93cd5",
   "metadata": {},
   "outputs": [],
   "source": [
    "import matplotlib.pyplot as plt\n",
    "import numpy as np\n",
    "import pandas as pd\n",
    "import seaborn as sns\n",
    "from PIL import Image\n",
    "import os\n",
    "\n",
    "import cv2\n",
    "import imutils\n",
    "\n",
    "# Make NumPy printouts easier to read.\n",
    "np.set_printoptions(precision=3, suppress=True)"
   ]
  },
  {
   "cell_type": "code",
   "execution_count": 24,
   "id": "44b578ec",
   "metadata": {},
   "outputs": [],
   "source": [
    "folder = '../Magisterka/img_align_celeba/nowe/'\n",
    "docelowy = '../Magisterka/img_align_celeba/obrocone/'\n",
    "jpg = '.jpg'"
   ]
  },
  {
   "cell_type": "code",
   "execution_count": null,
   "id": "22964352",
   "metadata": {},
   "outputs": [],
   "source": []
  },
  {
   "cell_type": "code",
   "execution_count": 21,
   "id": "c63e6482",
   "metadata": {},
   "outputs": [],
   "source": [
    "#Konwersja zdjec na czarno - biale\n",
    "\n",
    "im = cv2.imread(folder+str(2)+jpg)\n",
    "gray = cv2.cvtColor(im, cv2.COLOR_BGR2GRAY)\n",
    "\n",
    "rot_2 = imutils.rotate(gray, angle=6)"
   ]
  },
  {
   "cell_type": "code",
   "execution_count": 22,
   "id": "b4f61532",
   "metadata": {},
   "outputs": [
    {
     "data": {
      "text/plain": [
       "<matplotlib.image.AxesImage at 0x7efce7e0f880>"
      ]
     },
     "execution_count": 22,
     "metadata": {},
     "output_type": "execute_result"
    },
    {
     "data": {
      "image/png": "[encoded data removed]",
      "text/plain": [
       "<Figure size 640x480 with 1 Axes>"
      ]
     },
     "metadata": {},
     "output_type": "display_data"
    }
   ],
   "source": [
    "plt.imshow(rot_2, cmap = 'gray')"
   ]
  },
  {
   "cell_type": "code",
   "execution_count": null,
   "id": "a2678ecb",
   "metadata": {},
   "outputs": [],
   "source": []
  },
  {
   "cell_type": "code",
   "execution_count": 25,
   "id": "440e9ac8",
   "metadata": {},
   "outputs": [],
   "source": [
    "#Wlasciwa czesc kodu\n",
    "\n",
    "for i in range(35):\n",
    "\n",
    "        \n",
    "    #Wczytanie obrazu\n",
    "    im = cv2.imread(folder+str(i)+jpg)\n",
    "        \n",
    "    #Konwersja zdjec na czarno - biale\n",
    "    gray = cv2.cvtColor(im, cv2.COLOR_BGR2GRAY)\n",
    "        \n",
    "    #Obracanie obrazu \n",
    "    rot_2 = imutils.rotate(gray, angle=2)    \n",
    "    rot_4 = imutils.rotate(gray, angle=4)\n",
    "    rot_6 = imutils.rotate(gray, angle=6)\n",
    "        \n",
    "    rot_min_2 = imutils.rotate(gray, angle=-2)\n",
    "    rot_min_4 = imutils.rotate(gray, angle=-4)\n",
    "    rot_min_6 = imutils.rotate(gray, angle=-6)\n",
    "            \n",
    "    #Zapisanie zmienionego zdjecia\n",
    "    cv2.imwrite(docelowy+str(i)+jpg, gray)  \n",
    "    \n",
    "    cv2.imwrite(docelowy+str(i + 100)+jpg, rot_2)  \n",
    "    cv2.imwrite(docelowy+str(i + 200)+jpg, rot_4) \n",
    "    cv2.imwrite(docelowy+str(i + 300)+jpg, rot_6) \n",
    "        \n",
    "    cv2.imwrite(docelowy+str(i + 400)+jpg, rot_min_2) \n",
    "    cv2.imwrite(docelowy+str(i + 500)+jpg, rot_min_4) \n",
    "    cv2.imwrite(docelowy+str(i + 600)+jpg, rot_min_6)"
   ]
  },
  {
   "cell_type": "code",
   "execution_count": null,
   "id": "7b3e5543",
   "metadata": {},
   "outputs": [],
   "source": []
  },
  {
   "cell_type": "code",
   "execution_count": null,
   "id": "453c9230",
   "metadata": {},
   "outputs": [],
   "source": []
  },
  {
   "cell_type": "code",
   "execution_count": null,
   "id": "072c9eb4",
   "metadata": {},
   "outputs": [],
   "source": []
  }
 ],
 "metadata": {
  "kernelspec": {
   "display_name": "py39",
   "language": "python",
   "name": "py39"
  },
  "language_info": {
   "codemirror_mode": {
    "name": "ipython",
    "version": 3
   },
   "file_extension": ".py",
   "mimetype": "text/x-python",
   "name": "python",
   "nbconvert_exporter": "python",
   "pygments_lexer": "ipython3",
   "version": "3.9.12"
  }
 },
 "nbformat": 4,
 "nbformat_minor": 5
}
