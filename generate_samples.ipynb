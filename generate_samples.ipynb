{
  "cells": [
    {
      "cell_type": "code",
      "execution_count": 1,
      "metadata": {
        "colab": {
          "base_uri": "https://localhost:8080/"
        },
        "id": "1Y-_BPIq_KMZ",
        "outputId": "7ba01445-6023-4f07-f28c-7e478995099b"
      },
      "outputs": [
        {
          "output_type": "stream",
          "name": "stdout",
          "text": [
            "3.10.12 (main, Nov 20 2023, 15:14:05) [GCC 11.4.0]\n"
          ]
        }
      ],
      "source": [
        "import sys\n",
        "print(sys.version)"
      ]
    },
    {
      "cell_type": "code",
      "execution_count": 4,
      "metadata": {
        "colab": {
          "base_uri": "https://localhost:8080/"
        },
        "id": "nH33yhfJ_KMc",
        "outputId": "c925be5f-b3b5-4640-c2a2-a49c52a8637f"
      },
      "outputs": [
        {
          "output_type": "stream",
          "name": "stdout",
          "text": [
            "Mounted at /content/drive\n"
          ]
        }
      ],
      "source": [
        "from google.colab import drive\n",
        "drive.mount(\"/content/drive\", force_remount=True)"
      ]
    },
    {
      "cell_type": "code",
      "execution_count": 5,
      "metadata": {
        "id": "UIw3Z1i9_KMc"
      },
      "outputs": [],
      "source": [
        "import matplotlib.pyplot as plt\n",
        "import numpy as np\n",
        "import pandas as pd\n",
        "import seaborn as sns\n",
        "from PIL import Image\n",
        "import os\n",
        "import csv\n",
        "import random\n",
        "\n",
        "import cv2\n",
        "import imutils\n",
        "\n",
        "# Make NumPy printouts easier to read.\n",
        "np.set_printoptions(precision=3, suppress=True)"
      ]
    },
    {
      "cell_type": "code",
      "source": [
        "#Sciezki do folderow\n",
        "folder = '/content/drive/MyDrive/Magisterka/Models/'\n",
        "folder_docelowy = '../../Dane/Przeplatane_kolumny_probki/'\n",
        "slesh = '/img/seed'\n",
        "png = '.png'"
      ],
      "metadata": {
        "id": "lQB7mck__YkZ"
      },
      "execution_count": 7,
      "outputs": []
    },
    {
      "cell_type": "code",
      "execution_count": 17,
      "metadata": {
        "colab": {
          "base_uri": "https://localhost:8080/",
          "height": 645
        },
        "id": "SUEF8Ua2_KMd",
        "outputId": "4f0b9c6e-c0c7-4193-e659-ae35c4bede84"
      },
      "outputs": [
        {
          "output_type": "stream",
          "name": "stdout",
          "text": [
            "1\n",
            "2\n",
            "3\n",
            "4\n",
            "5\n",
            "6\n",
            "7\n",
            "8\n",
            "9\n",
            "10\n",
            "32\n",
            "33\n",
            "34\n",
            "35\n",
            "36\n",
            "37\n",
            "38\n",
            "39\n"
          ]
        },
        {
          "output_type": "error",
          "ename": "FileNotFoundError",
          "evalue": "[Errno 2] No such file or directory: '/content/drive/MyDrive/Magisterka/Models/39/img/seed0001.png'",
          "traceback": [
            "\u001b[0;31m---------------------------------------------------------------------------\u001b[0m",
            "\u001b[0;31mFileNotFoundError\u001b[0m                         Traceback (most recent call last)",
            "\u001b[0;32m<ipython-input-17-9fa20de74845>\u001b[0m in \u001b[0;36m<cell line: 26>\u001b[0;34m()\u001b[0m\n\u001b[1;32m     29\u001b[0m     \u001b[0;32mfor\u001b[0m \u001b[0mj\u001b[0m \u001b[0;32min\u001b[0m \u001b[0mrange\u001b[0m\u001b[0;34m(\u001b[0m\u001b[0;36m1\u001b[0m\u001b[0;34m,\u001b[0m\u001b[0;36m200\u001b[0m\u001b[0;34m)\u001b[0m\u001b[0;34m:\u001b[0m\u001b[0;34m\u001b[0m\u001b[0;34m\u001b[0m\u001b[0m\n\u001b[1;32m     30\u001b[0m         \u001b[0mfor_num\u001b[0m \u001b[0;34m=\u001b[0m \u001b[0;34m\"{:04d}\"\u001b[0m\u001b[0;34m.\u001b[0m\u001b[0mformat\u001b[0m\u001b[0;34m(\u001b[0m\u001b[0mj\u001b[0m\u001b[0;34m)\u001b[0m\u001b[0;34m\u001b[0m\u001b[0;34m\u001b[0m\u001b[0m\n\u001b[0;32m---> 31\u001b[0;31m         \u001b[0mim\u001b[0m \u001b[0;34m=\u001b[0m \u001b[0mImage\u001b[0m\u001b[0;34m.\u001b[0m\u001b[0mopen\u001b[0m\u001b[0;34m(\u001b[0m\u001b[0mfolder\u001b[0m\u001b[0;34m+\u001b[0m\u001b[0mstr\u001b[0m\u001b[0;34m(\u001b[0m\u001b[0mi\u001b[0m\u001b[0;34m)\u001b[0m\u001b[0;34m+\u001b[0m\u001b[0mslesh\u001b[0m\u001b[0;34m+\u001b[0m\u001b[0mstr\u001b[0m\u001b[0;34m(\u001b[0m\u001b[0mfor_num\u001b[0m\u001b[0;34m)\u001b[0m\u001b[0;34m+\u001b[0m\u001b[0mpng\u001b[0m\u001b[0;34m)\u001b[0m\u001b[0;34m\u001b[0m\u001b[0;34m\u001b[0m\u001b[0m\n\u001b[0m\u001b[1;32m     32\u001b[0m         \u001b[0marr_im\u001b[0m \u001b[0;34m=\u001b[0m \u001b[0mnp\u001b[0m\u001b[0;34m.\u001b[0m\u001b[0marray\u001b[0m\u001b[0;34m(\u001b[0m\u001b[0mim\u001b[0m\u001b[0;34m)\u001b[0m\u001b[0;34m\u001b[0m\u001b[0;34m\u001b[0m\u001b[0m\n\u001b[1;32m     33\u001b[0m         \u001b[0mimages_2\u001b[0m\u001b[0;34m.\u001b[0m\u001b[0mappend\u001b[0m\u001b[0;34m(\u001b[0m\u001b[0marr_im\u001b[0m\u001b[0;34m)\u001b[0m\u001b[0;34m\u001b[0m\u001b[0;34m\u001b[0m\u001b[0m\n",
            "\u001b[0;32m/usr/local/lib/python3.10/dist-packages/PIL/Image.py\u001b[0m in \u001b[0;36mopen\u001b[0;34m(fp, mode, formats)\u001b[0m\n\u001b[1;32m   3225\u001b[0m \u001b[0;34m\u001b[0m\u001b[0m\n\u001b[1;32m   3226\u001b[0m     \u001b[0;32mif\u001b[0m \u001b[0mfilename\u001b[0m\u001b[0;34m:\u001b[0m\u001b[0;34m\u001b[0m\u001b[0;34m\u001b[0m\u001b[0m\n\u001b[0;32m-> 3227\u001b[0;31m         \u001b[0mfp\u001b[0m \u001b[0;34m=\u001b[0m \u001b[0mbuiltins\u001b[0m\u001b[0;34m.\u001b[0m\u001b[0mopen\u001b[0m\u001b[0;34m(\u001b[0m\u001b[0mfilename\u001b[0m\u001b[0;34m,\u001b[0m \u001b[0;34m\"rb\"\u001b[0m\u001b[0;34m)\u001b[0m\u001b[0;34m\u001b[0m\u001b[0;34m\u001b[0m\u001b[0m\n\u001b[0m\u001b[1;32m   3228\u001b[0m         \u001b[0mexclusive_fp\u001b[0m \u001b[0;34m=\u001b[0m \u001b[0;32mTrue\u001b[0m\u001b[0;34m\u001b[0m\u001b[0;34m\u001b[0m\u001b[0m\n\u001b[1;32m   3229\u001b[0m \u001b[0;34m\u001b[0m\u001b[0m\n",
            "\u001b[0;31mFileNotFoundError\u001b[0m: [Errno 2] No such file or directory: '/content/drive/MyDrive/Magisterka/Models/39/img/seed0001.png'"
          ]
        }
      ],
      "source": [
        "#Tablica przechowująca zdjęcia osób\n",
        "train_ppl = []\n",
        "for i in range(1,11):\n",
        "    images = []\n",
        "    print(i)\n",
        "    for j in range(1,200):\n",
        "        for_num = \"{:04d}\".format(j)\n",
        "        im = Image.open(folder+str(i)+slesh+str(for_num)+png)\n",
        "        arr_im = np.array(im)\n",
        "        images.append(arr_im)\n",
        "    train_ppl.append(images)\n",
        "\n",
        "valid_ppl = []\n",
        "for i in range(32,37):\n",
        "    images_1 = []\n",
        "    print(i)\n",
        "    for j in range(1,200):\n",
        "        for_num = \"{:04d}\".format(j)\n",
        "        im = Image.open(folder+str(i)+slesh+str(for_num)+png)\n",
        "        arr_im = np.array(im)\n",
        "        images_1.append(arr_im)\n",
        "    valid_ppl.append(images_1)\n",
        "\n",
        "\n",
        "test_ppl = []\n",
        "for i in range(37,41):\n",
        "    images_2 = []\n",
        "    print(i)\n",
        "    for j in range(1,200):\n",
        "        for_num = \"{:04d}\".format(j)\n",
        "        im = Image.open(folder+str(i)+slesh+str(for_num)+png)\n",
        "        arr_im = np.array(im)\n",
        "        images_2.append(arr_im)\n",
        "    test_ppl.append(images_2)\n",
        ""
      ]
    },
    {
      "cell_type": "code",
      "execution_count": null,
      "metadata": {
        "id": "zBMV9xjf_KMd"
      },
      "outputs": [],
      "source": [
        "w, h = 128, 64\n",
        "data = np.zeros((h, w), dtype=np.uint8)"
      ]
    },
    {
      "cell_type": "code",
      "source": [
        "#Laczna ilosc zdjec\n",
        "lacznie = 25200\n",
        "\n",
        "train = int(0.8*lacznie)      # 80% próbek jest treningowych\n",
        "\n",
        "valid = int(0.1*lacznie)        # 10% próbek jest testowych\n",
        "\n",
        "test = int(0.1*lacznie)        # 10% próbek jest testowych"
      ],
      "metadata": {
        "id": "D6pH_48qDa6n"
      },
      "execution_count": null,
      "outputs": []
    },
    {
      "cell_type": "code",
      "source": [
        "# Funkcja do tworzenia próbek z przeplatanych kolumn\n",
        "def connect(img_1, img_2):\n",
        "\n",
        "    pic = np.zeros((h, w), dtype=np.uint8)\n",
        "\n",
        "    img_1 = np.array(img_1)\n",
        "    img_2 = np.array(img_2)\n",
        "\n",
        "    for i in range(0, w, 2):\n",
        "\n",
        "        for j in range(h):\n",
        "\n",
        "            pic[j][i] = img_1[j][int(i/2)]\n",
        "            pic[j][i+1] = img_2[j][int(i/2)]\n",
        "\n",
        "    con_2 = Image.fromarray(pic)\n",
        "\n",
        "    return con_2\n",
        ""
      ],
      "metadata": {
        "id": "t-j7kA_bDa8q"
      },
      "execution_count": null,
      "outputs": []
    },
    {
      "cell_type": "code",
      "source": [
        "# Funkcja do odtworzenia zdjec z probek\n",
        "def re_connect(img):\n",
        "\n",
        "    pic_1 = np.zeros((h, h), dtype=np.uint8)\n",
        "    pic_2 = np.zeros((h, h), dtype=np.uint8)\n",
        "\n",
        "    img = np.array(img)\n",
        "\n",
        "\n",
        "    for i in range(0, w, 2):\n",
        "\n",
        "        for j in range(h):\n",
        "\n",
        "            pic_1[j][int(i/2)] = img[j][i]\n",
        "            pic_2[j][int(i/2)] = img[j][i+1]\n",
        "\n",
        "    con_1 = Image.fromarray(pic_1)\n",
        "    con_2 = Image.fromarray(pic_2)\n",
        "\n",
        "    plt.figure(figsize=(10,10))\n",
        "    plt.subplot(1,3,1)\n",
        "    plt.imshow(con_1,cmap = 'gray')\n",
        "\n",
        "    plt.subplot(1,3,2)\n",
        "    plt.imshow(con_2,cmap = 'gray')\n",
        "\n",
        "    plt.subplot(1,3,3)\n",
        "    plt.imshow(img,cmap = 'gray')"
      ],
      "metadata": {
        "id": "ZlmGT06HDa--"
      },
      "execution_count": null,
      "outputs": []
    },
    {
      "cell_type": "code",
      "source": [],
      "metadata": {
        "id": "Gi2ploKeDbBW"
      },
      "execution_count": null,
      "outputs": []
    },
    {
      "cell_type": "code",
      "source": [],
      "metadata": {
        "id": "H5lEFrgKDbDt"
      },
      "execution_count": null,
      "outputs": []
    },
    {
      "cell_type": "code",
      "source": [
        "#############################\n",
        "##### Zbior treningowy  #####\n",
        "#############################"
      ],
      "metadata": {
        "id": "gGnzztJMDbFy"
      },
      "execution_count": null,
      "outputs": []
    },
    {
      "cell_type": "code",
      "source": [
        "ilosc = 40\n",
        "rozmiar = 10\n",
        "train_img = []\n",
        "n = 0\n",
        "\n",
        "# Inicjalizacja tablicy zerami o rozmiarze 'rozmiar'\n",
        "tab_train = np.zeros(train, dtype=np.uint8)\n",
        "\n",
        "\n",
        "#Stworzenie nowego katalogu\n",
        "newpath = folder_docelowy+'Train/'\n",
        "if not os.path.exists(newpath):\n",
        "    os.makedirs(newpath)\n",
        "\n",
        "#Tworzenie probek treningowych - pozytywne\n",
        "\n",
        "#Petla przechodzi po ludziach\n",
        "for i in range(0,10):\n",
        "    #Petla przechodzi po zdjeciach\n",
        "\n",
        "    for l in range(0,199,10):\n",
        "\n",
        "        m = 10\n",
        "\n",
        "        for j in range(rozmiar):\n",
        "            m = m - 1\n",
        "\n",
        "            for k in range(m):\n",
        "\n",
        "                data = connect(train_ppl[i][j+l], train_ppl[i][9-k+l])\n",
        "\n",
        "                #Zapisanie utworzonej probki\n",
        "                data.save(newpath+str(n)+png)\n",
        "\n",
        "                train_img.append(data)\n",
        "                tab_train[n] = 1\n",
        "                n = n + 1\n",
        "print(n)"
      ],
      "metadata": {
        "id": "ThG_V4rhDbIN"
      },
      "execution_count": null,
      "outputs": []
    },
    {
      "cell_type": "code",
      "source": [],
      "metadata": {
        "id": "TtMySZvyDbLJ"
      },
      "execution_count": null,
      "outputs": []
    },
    {
      "cell_type": "code",
      "source": [],
      "metadata": {
        "id": "5mbiLZmODbNr"
      },
      "execution_count": null,
      "outputs": []
    },
    {
      "cell_type": "code",
      "source": [],
      "metadata": {
        "id": "iFkFGm-XDbP5"
      },
      "execution_count": null,
      "outputs": []
    },
    {
      "cell_type": "code",
      "execution_count": null,
      "metadata": {
        "id": "Zo2wfb-j_KMe"
      },
      "outputs": [],
      "source": []
    },
    {
      "cell_type": "code",
      "execution_count": null,
      "metadata": {
        "id": "potxmlpn_KMe"
      },
      "outputs": [],
      "source": []
    },
    {
      "cell_type": "code",
      "execution_count": null,
      "metadata": {
        "id": "17lDtwgN_KMe"
      },
      "outputs": [],
      "source": []
    }
  ],
  "metadata": {
    "language_info": {
      "name": "python"
    },
    "colab": {
      "provenance": []
    },
    "kernelspec": {
      "name": "python3",
      "display_name": "Python 3"
    }
  },
  "nbformat": 4,
  "nbformat_minor": 0
}