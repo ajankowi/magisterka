{
  "cells": [
    {
      "cell_type": "code",
      "execution_count": 1,
      "metadata": {
        "colab": {
          "base_uri": "https://localhost:8080/"
        },
        "id": "W_mAZNcjZOEj",
        "outputId": "8b6dcf7f-02af-4c89-99b8-3457696a56c2"
      },
      "outputs": [
        {
          "name": "stdout",
          "output_type": "stream",
          "text": [
            "Requirement already satisfied: torch in /home/adam_j4/anaconda3/envs/py39/lib/python3.9/site-packages (1.12.1)\n",
            "Requirement already satisfied: torchvision in /home/adam_j4/anaconda3/envs/py39/lib/python3.9/site-packages (0.13.1)\n",
            "Requirement already satisfied: tqdm in /home/adam_j4/anaconda3/envs/py39/lib/python3.9/site-packages (4.66.1)\n",
            "Requirement already satisfied: typing_extensions in /home/adam_j4/anaconda3/envs/py39/lib/python3.9/site-packages (from torch) (4.3.0)\n",
            "Requirement already satisfied: numpy in /home/adam_j4/anaconda3/envs/py39/lib/python3.9/site-packages (from torchvision) (1.22.3)\n",
            "Requirement already satisfied: requests in /home/adam_j4/anaconda3/envs/py39/lib/python3.9/site-packages (from torchvision) (2.28.1)\n",
            "Requirement already satisfied: pillow!=8.3.*,>=5.3.0 in /home/adam_j4/anaconda3/envs/py39/lib/python3.9/site-packages (from torchvision) (7.2.0)\n",
            "Requirement already satisfied: charset-normalizer<3,>=2 in /home/adam_j4/anaconda3/envs/py39/lib/python3.9/site-packages (from requests->torchvision) (2.1.1)\n",
            "Requirement already satisfied: certifi>=2017.4.17 in /home/adam_j4/anaconda3/envs/py39/lib/python3.9/site-packages (from requests->torchvision) (2024.2.2)\n",
            "Requirement already satisfied: idna<4,>=2.5 in /home/adam_j4/anaconda3/envs/py39/lib/python3.9/site-packages (from requests->torchvision) (3.3)\n",
            "Requirement already satisfied: urllib3<1.27,>=1.21.1 in /home/adam_j4/anaconda3/envs/py39/lib/python3.9/site-packages (from requests->torchvision) (1.26.11)\n"
          ]
        }
      ],
      "source": [
        "!pip install torch torchvision tqdm"
      ]
    },
    {
      "cell_type": "code",
      "execution_count": 2,
      "metadata": {
        "colab": {
          "base_uri": "https://localhost:8080/"
        },
        "id": "NscvTZHjayPm",
        "outputId": "4d3b9f4f-7fba-4f38-cb42-aadddf086e76"
      },
      "outputs": [
        {
          "name": "stdout",
          "output_type": "stream",
          "text": [
            "Mounted at /content/drive\n"
          ]
        }
      ],
      "source": [
        "from google.colab import drive\n",
        "drive.mount(\"/content/drive\", force_remount=True)"
      ]
    },
    {
      "cell_type": "code",
      "execution_count": 27,
      "metadata": {
        "colab": {
          "base_uri": "https://localhost:8080/"
        },
        "id": "pfgyInpsZSrf",
        "outputId": "4f8fd2a6-3a1b-4df1-9e1a-69ec1cb1f5a9"
      },
      "outputs": [
        {
          "data": {
            "text/plain": [
              "<torch._C.Generator at 0x7f54c4194130>"
            ]
          },
          "execution_count": 27,
          "metadata": {},
          "output_type": "execute_result"
        }
      ],
      "source": [
        "import torch\n",
        "from torch import nn\n",
        "from tqdm.auto import tqdm\n",
        "from torchvision import transforms\n",
        "from torchvision.datasets import MNIST\n",
        "from torchvision.utils import make_grid\n",
        "from torch.utils.data import DataLoader\n",
        "import matplotlib.pyplot as plt\n",
        "torch.manual_seed(123)\n",
        "\n"
      ]
    },
    {
      "cell_type": "code",
      "execution_count": 39,
      "metadata": {
        "id": "33kexF0lhfjY"
      },
      "outputs": [],
      "source": [
        "import os\n",
        "from PIL import Image\n",
        "import numpy as np\n"
      ]
    },
    {
      "cell_type": "code",
      "execution_count": 49,
      "metadata": {},
      "outputs": [
        {
          "name": "stdout",
          "output_type": "stream",
          "text": [
            "70\n"
          ]
        }
      ],
      "source": [
        "\n",
        "#Wczytanie zdjęć treningowych (\n",
        "images_train = []\n",
        "size = 70\n",
        "\n",
        "for i in range(1,size+1):\n",
        "    im = Image.open('../../Inz/mnist/Praca_inz/Zdjecia/Baza_zdjec_konwersja_64x64/s1/'+str(i)+'.png')\n",
        "    arr_im = np.array(im) \n",
        "    arr_im = arr_im / 255.0\n",
        "    images_train.append(arr_im) \n",
        "print(len(images_train))"
      ]
    },
    {
      "cell_type": "code",
      "execution_count": 28,
      "metadata": {
        "colab": {
          "base_uri": "https://localhost:8080/"
        },
        "id": "G1nRmsd8ZSx7",
        "outputId": "dd87d598-428a-4494-8460-ed91f7d0fb99"
      },
      "outputs": [
        {
          "name": "stdout",
          "output_type": "stream",
          "text": [
            "Downloading http://yann.lecun.com/exdb/mnist/train-images-idx3-ubyte.gz\n",
            "Downloading http://yann.lecun.com/exdb/mnist/train-images-idx3-ubyte.gz to ./MNIST/raw/train-images-idx3-ubyte.gz\n"
          ]
        },
        {
          "data": {
            "application/vnd.jupyter.widget-view+json": {
              "model_id": "344fb82ec79d4fbc8b86d69b0461c746",
              "version_major": 2,
              "version_minor": 0
            },
            "text/plain": [
              "  0%|          | 0/9912422 [00:00<?, ?it/s]"
            ]
          },
          "metadata": {},
          "output_type": "display_data"
        },
        {
          "name": "stdout",
          "output_type": "stream",
          "text": [
            "Extracting ./MNIST/raw/train-images-idx3-ubyte.gz to ./MNIST/raw\n",
            "\n",
            "Downloading http://yann.lecun.com/exdb/mnist/train-labels-idx1-ubyte.gz\n",
            "Downloading http://yann.lecun.com/exdb/mnist/train-labels-idx1-ubyte.gz to ./MNIST/raw/train-labels-idx1-ubyte.gz\n"
          ]
        },
        {
          "data": {
            "application/vnd.jupyter.widget-view+json": {
              "model_id": "9fe9491ba3954aa49ca2c8ecbbd29577",
              "version_major": 2,
              "version_minor": 0
            },
            "text/plain": [
              "  0%|          | 0/28881 [00:00<?, ?it/s]"
            ]
          },
          "metadata": {},
          "output_type": "display_data"
        },
        {
          "name": "stdout",
          "output_type": "stream",
          "text": [
            "Extracting ./MNIST/raw/train-labels-idx1-ubyte.gz to ./MNIST/raw\n",
            "\n",
            "Downloading http://yann.lecun.com/exdb/mnist/t10k-images-idx3-ubyte.gz\n",
            "Downloading http://yann.lecun.com/exdb/mnist/t10k-images-idx3-ubyte.gz to ./MNIST/raw/t10k-images-idx3-ubyte.gz\n"
          ]
        },
        {
          "data": {
            "application/vnd.jupyter.widget-view+json": {
              "model_id": "56ac60aaafc34c4b8d4420485e914c47",
              "version_major": 2,
              "version_minor": 0
            },
            "text/plain": [
              "  0%|          | 0/1648877 [00:00<?, ?it/s]"
            ]
          },
          "metadata": {},
          "output_type": "display_data"
        },
        {
          "name": "stdout",
          "output_type": "stream",
          "text": [
            "Extracting ./MNIST/raw/t10k-images-idx3-ubyte.gz to ./MNIST/raw\n",
            "\n",
            "Downloading http://yann.lecun.com/exdb/mnist/t10k-labels-idx1-ubyte.gz\n",
            "Downloading http://yann.lecun.com/exdb/mnist/t10k-labels-idx1-ubyte.gz to ./MNIST/raw/t10k-labels-idx1-ubyte.gz\n"
          ]
        },
        {
          "data": {
            "application/vnd.jupyter.widget-view+json": {
              "model_id": "8cdf36ddc76a463abe0c7f575c8b3fd3",
              "version_major": 2,
              "version_minor": 0
            },
            "text/plain": [
              "  0%|          | 0/4542 [00:00<?, ?it/s]"
            ]
          },
          "metadata": {},
          "output_type": "display_data"
        },
        {
          "name": "stdout",
          "output_type": "stream",
          "text": [
            "Extracting ./MNIST/raw/t10k-labels-idx1-ubyte.gz to ./MNIST/raw\n",
            "\n"
          ]
        }
      ],
      "source": [
        "# Load MNIST dataset as tensors using DataLoader class\n",
        "batch_size = 5\n",
        "dataloader = DataLoader(\n",
        "    MNIST('.', download=True, transform=transforms.ToTensor()),\n",
        "    batch_size=batch_size,\n",
        "    shuffle=True)\n",
        "\n",
        "def tensor_to_images(image_tensor, num_images=1, size=(1, 28, 28)):\n",
        "    image_unflat = image_tensor.detach().cpu().view(-1, *size)\n",
        "    image_grid = make_grid(image_unflat[:num_images], nrow=5)\n",
        "    plt.imshow(image_grid.permute(1, 2, 0).squeeze())\n",
        "    plt.show()"
      ]
    },
    {
      "cell_type": "code",
      "execution_count": 50,
      "metadata": {
        "colab": {
          "base_uri": "https://localhost:8080/"
        },
        "id": "eMrXN-7zZS0Y",
        "outputId": "766dfea6-2cee-4db2-fe89-07529fbde3b7"
      },
      "outputs": [
        {
          "name": "stdout",
          "output_type": "stream",
          "text": [
            "4096\n",
            "<class 'numpy.ndarray'>\n"
          ]
        }
      ],
      "source": [
        "print(images_train[0].size)\n",
        "print(type(images_train[0]))"
      ]
    },
    {
      "cell_type": "code",
      "execution_count": 52,
      "metadata": {},
      "outputs": [
        {
          "ename": "TypeError",
          "evalue": "can't convert np.ndarray of type numpy.object_. The only supported types are: float64, float32, float16, complex64, complex128, int64, int32, int16, int8, uint8, and bool.",
          "output_type": "error",
          "traceback": [
            "\u001b[0;31m---------------------------------------------------------------------------\u001b[0m",
            "\u001b[0;31mTypeError\u001b[0m                                 Traceback (most recent call last)",
            "Input \u001b[0;32mIn [52]\u001b[0m, in \u001b[0;36m<cell line: 5>\u001b[0;34m()\u001b[0m\n\u001b[1;32m      1\u001b[0m numpy_image \u001b[38;5;241m=\u001b[39m np\u001b[38;5;241m.\u001b[39marray(images_train)\n\u001b[1;32m      4\u001b[0m \u001b[38;5;66;03m# Assuming 'images' is your numpy array of images\u001b[39;00m\n\u001b[0;32m----> 5\u001b[0m tensor_images \u001b[38;5;241m=\u001b[39m \u001b[43mtorch\u001b[49m\u001b[38;5;241;43m.\u001b[39;49m\u001b[43mfrom_numpy\u001b[49m\u001b[43m(\u001b[49m\u001b[43mnumpy_images\u001b[49m\u001b[43m)\u001b[49m\n\u001b[1;32m      7\u001b[0m \u001b[38;5;66;03m# If your images are not already in float format or you want to normalize them to [0,1] range, you can do so\u001b[39;00m\n\u001b[1;32m      8\u001b[0m tensor_images \u001b[38;5;241m=\u001b[39m tensor_images\u001b[38;5;241m.\u001b[39mfloat() \u001b[38;5;241m/\u001b[39m \u001b[38;5;241m255.0\u001b[39m\n",
            "\u001b[0;31mTypeError\u001b[0m: can't convert np.ndarray of type numpy.object_. The only supported types are: float64, float32, float16, complex64, complex128, int64, int32, int16, int8, uint8, and bool."
          ]
        }
      ],
      "source": [
        "numpy_image = np.array(images_train)\n",
        "\n",
        "\n",
        "# Assuming 'images' is your numpy array of images\n",
        "tensor_images = torch.from_numpy(numpy_images)\n",
        "\n",
        "# If your images are not already in float format or you want to normalize them to [0,1] range, you can do so\n",
        "tensor_images = tensor_images.float() / 255.0"
      ]
    },
    {
      "cell_type": "code",
      "execution_count": 29,
      "metadata": {},
      "outputs": [],
      "source": [
        "sample_img = next(iter(dataloader))"
      ]
    },
    {
      "cell_type": "code",
      "execution_count": 30,
      "metadata": {},
      "outputs": [
        {
          "data": {
            "text/plain": [
              "torch.Size([5, 1, 28, 28])"
            ]
          },
          "execution_count": 30,
          "metadata": {},
          "output_type": "execute_result"
        }
      ],
      "source": [
        "sample_img[0].shape"
      ]
    },
    {
      "cell_type": "code",
      "execution_count": null,
      "metadata": {},
      "outputs": [],
      "source": []
    },
    {
      "cell_type": "code",
      "execution_count": null,
      "metadata": {},
      "outputs": [],
      "source": []
    },
    {
      "cell_type": "code",
      "execution_count": null,
      "metadata": {},
      "outputs": [],
      "source": []
    },
    {
      "cell_type": "code",
      "execution_count": null,
      "metadata": {},
      "outputs": [],
      "source": []
    },
    {
      "cell_type": "code",
      "execution_count": null,
      "metadata": {},
      "outputs": [],
      "source": []
    },
    {
      "cell_type": "code",
      "execution_count": null,
      "metadata": {},
      "outputs": [],
      "source": []
    },
    {
      "cell_type": "code",
      "execution_count": null,
      "metadata": {},
      "outputs": [],
      "source": []
    },
    {
      "cell_type": "code",
      "execution_count": null,
      "metadata": {},
      "outputs": [],
      "source": []
    },
    {
      "cell_type": "code",
      "execution_count": null,
      "metadata": {},
      "outputs": [],
      "source": []
    },
    {
      "cell_type": "code",
      "execution_count": 25,
      "metadata": {
        "id": "gM_I16pkZS2q"
      },
      "outputs": [],
      "source": [
        "class Generator(nn.Module):\n",
        "    def __init__(self, noise_dimension=64*64, image_dimension=4096, hidden_dimension=128):\n",
        "        super(Generator, self).__init__()\n",
        "\n",
        "        self.n_dim = noise_dimension\n",
        "        self.im_dim = image_dimension\n",
        "        self.h_dim = hidden_dimension\n",
        "\n",
        "        # Build the generator network\n",
        "        self.gen = nn.Sequential(\n",
        "            self.generator_block(self.n_dim, self.h_dim),\n",
        "            self.generator_block(self.h_dim, self.h_dim * 2),\n",
        "            self.generator_block(self.h_dim * 2, self.h_dim * 4),\n",
        "            self.generator_block(self.h_dim * 4, self.h_dim * 8),\n",
        "            nn.Linear(self.h_dim * 8, self.im_dim),\n",
        "            nn.Sigmoid()\n",
        "        )\n",
        "\n",
        "    def forward(self, noise):\n",
        "        return self.gen(noise)\n",
        "\n",
        "    def generator_block(self, in_dimension, out_dimension):\n",
        "        return nn.Sequential(\n",
        "            nn.Linear(in_dimension, out_dimension),\n",
        "            nn.BatchNorm1d(out_dimension),\n",
        "            nn.ReLU(inplace=True),\n",
        "        )"
      ]
    },
    {
      "cell_type": "code",
      "execution_count": 14,
      "metadata": {
        "id": "wcWurSImZS46"
      },
      "outputs": [],
      "source": [
        "def get_noise(n_samples, noise_vector_dimension, device='cpu'):\n",
        "    return torch.randn(n_samples, noise_vector_dimension,device=device)"
      ]
    },
    {
      "cell_type": "code",
      "execution_count": 15,
      "metadata": {
        "id": "KFCAglnrZS7C"
      },
      "outputs": [],
      "source": [
        "class Discriminator(nn.Module):\n",
        "    def __init__(self, \n",
        "                 image_dimension=4096, \n",
        "                 hidden_dimension=128):\n",
        "        super(Discriminator, self).__init__()\n",
        "\n",
        "        self.im_dim = image_dimension\n",
        "        self.h_dim = hidden_dimension\n",
        "\n",
        "        self.disc = nn.Sequential(\n",
        "            self.discriminator_block(self.im_dim, self.h_dim * 4),\n",
        "            self.discriminator_block(self.im_dim * 4, self.h_dim * 2),\n",
        "            self.discriminator_block(self.im_dim * 2, self.h_dim),\n",
        "            nn.Linear(self.h_dim, 1)\n",
        "        )\n",
        "\n",
        "    def forward(self, image):\n",
        "        return self.disc(image)\n",
        "\n",
        "    def discriminator_block(self, in_dimension, out_dimension):\n",
        "      return nn.Sequential(\n",
        "           nn.Linear(in_dimension, out_dimension),\n",
        "           nn.LeakyReLU(0.2, inplace=True)\n",
        "      )"
      ]
    },
    {
      "cell_type": "code",
      "execution_count": 16,
      "metadata": {
        "id": "XIDKK_GPZS9W"
      },
      "outputs": [],
      "source": [
        "# Hyperparameters for training loop\n",
        "criterion = nn.BCEWithLogitsLoss()\n",
        "n_epochs = 200\n",
        "noise_dimension = 64\n",
        "display_step = 500\n",
        "lr = 0.00001\n",
        "device = 'cuda' if torch.cuda.is_available() else 'cpu'"
      ]
    },
    {
      "cell_type": "code",
      "execution_count": 17,
      "metadata": {
        "id": "dq-kTeauZS_q"
      },
      "outputs": [],
      "source": [
        "gen = Generator(noise_dimension).to(device)\n",
        "gen_opt = torch.optim.Adam(gen.parameters(), lr=lr)\n",
        "disc = Discriminator().to(device)\n",
        "disc_opt = torch.optim.Adam(disc.parameters(), lr=lr)"
      ]
    },
    {
      "cell_type": "code",
      "execution_count": 18,
      "metadata": {
        "id": "WFuCaWMDZTB0"
      },
      "outputs": [
        {
          "name": "stdout",
          "output_type": "stream",
          "text": [
            "Discriminator(\n",
            "  (disc): Sequential(\n",
            "    (0): Sequential(\n",
            "      (0): Linear(in_features=4096, out_features=512, bias=True)\n",
            "      (1): LeakyReLU(negative_slope=0.2, inplace=True)\n",
            "    )\n",
            "    (1): Sequential(\n",
            "      (0): Linear(in_features=16384, out_features=256, bias=True)\n",
            "      (1): LeakyReLU(negative_slope=0.2, inplace=True)\n",
            "    )\n",
            "    (2): Sequential(\n",
            "      (0): Linear(in_features=8192, out_features=128, bias=True)\n",
            "      (1): LeakyReLU(negative_slope=0.2, inplace=True)\n",
            "    )\n",
            "    (3): Linear(in_features=128, out_features=1, bias=True)\n",
            "  )\n",
            ")\n"
          ]
        }
      ],
      "source": [
        "print(disc)"
      ]
    },
    {
      "cell_type": "code",
      "execution_count": 19,
      "metadata": {
        "id": "ymNAzLu9ZTEI"
      },
      "outputs": [],
      "source": [
        "def get_disc_loss(gen, disc, criterion, real, num_images, noise_dimension, device):\n",
        "    # Generate noise and pass to generator\n",
        "    fake_noise = get_noise(num_images, noise_dimension, device=device)\n",
        "    fake = gen(fake_noise)\n",
        "\n",
        "    # Pass fake features to discriminator\n",
        "    # All of them will got label as 0\n",
        "    # .detach() here is to ensure that only discriminator parameters will get update\n",
        "    disc_fake_pred = disc(fake.detach())\n",
        "    disc_fake_loss = criterion(disc_fake_pred,\n",
        "                               torch.zeros_like(disc_fake_pred))\n",
        "\n",
        "    # Pass real features to discriminator\n",
        "    # All of them will got label as 1\n",
        "    disc_real_pred = disc(real)\n",
        "    disc_real_loss = criterion(disc_real_pred,\n",
        "                               torch.ones_like(disc_real_pred))\n",
        "\n",
        "    # Average of loss from both real and fake features\n",
        "    disc_loss = (disc_fake_loss + disc_real_loss) / 2\n",
        "    return disc_loss\n",
        "\n",
        "def get_gen_loss(gen, disc, criterion, num_images, noise_dimension, device):\n",
        "    # Generate noise and pass to generator\n",
        "    fake_noise = get_noise(num_images, noise_dimension, device=device)\n",
        "    fake = gen(fake_noise)\n",
        "\n",
        "    # Pass fake features to discriminator\n",
        "    # But all of them will got label as 1\n",
        "    disc_fake_pred = disc(fake)\n",
        "    gen_loss = criterion(disc_fake_pred, torch.ones_like(disc_fake_pred))\n",
        "    return gen_loss"
      ]
    },
    {
      "cell_type": "code",
      "execution_count": 26,
      "metadata": {
        "id": "GNxODiH3ZTGd"
      },
      "outputs": [
        {
          "ename": "AttributeError",
          "evalue": "'PngImageFile' object has no attribute 'view'",
          "output_type": "error",
          "traceback": [
            "\u001b[0;31m---------------------------------------------------------------------------\u001b[0m",
            "\u001b[0;31mAttributeError\u001b[0m                            Traceback (most recent call last)",
            "Input \u001b[0;32mIn [26]\u001b[0m, in \u001b[0;36m<cell line: 6>\u001b[0;34m()\u001b[0m\n\u001b[1;32m      7\u001b[0m \u001b[38;5;28;01mfor\u001b[39;00m i, real \u001b[38;5;129;01min\u001b[39;00m \u001b[38;5;28menumerate\u001b[39m(images):\n\u001b[1;32m      8\u001b[0m     \u001b[38;5;66;03m# Get number of batch size (number of image)\u001b[39;00m\n\u001b[1;32m      9\u001b[0m     \u001b[38;5;66;03m# And get tensor for each image in batch\u001b[39;00m\n\u001b[1;32m     10\u001b[0m     \u001b[38;5;66;03m# cur_batch_size = len(real)\u001b[39;00m\n\u001b[1;32m     12\u001b[0m     cur_batch_size \u001b[38;5;241m=\u001b[39m \u001b[38;5;241m1\u001b[39m\n\u001b[0;32m---> 14\u001b[0m     real \u001b[38;5;241m=\u001b[39m \u001b[43mreal\u001b[49m\u001b[38;5;241;43m.\u001b[39;49m\u001b[43mview\u001b[49m(cur_batch_size, \u001b[38;5;241m-\u001b[39m\u001b[38;5;241m1\u001b[39m)\u001b[38;5;241m.\u001b[39mto(device)\n\u001b[1;32m     16\u001b[0m     \u001b[38;5;66;03m### Traing discriminator ###\u001b[39;00m\n\u001b[1;32m     17\u001b[0m     \u001b[38;5;66;03m# Zero out the gradient .zero_grad()\u001b[39;00m\n\u001b[1;32m     18\u001b[0m     \u001b[38;5;66;03m# Calculate discriminator loss get_disc_loss()\u001b[39;00m\n\u001b[1;32m     19\u001b[0m     \u001b[38;5;66;03m# Update gradient .gradient()\u001b[39;00m\n\u001b[1;32m     20\u001b[0m     \u001b[38;5;66;03m# Update optimizer .step()\u001b[39;00m\n\u001b[1;32m     21\u001b[0m     disc_opt\u001b[38;5;241m.\u001b[39mzero_grad()\n",
            "\u001b[0;31mAttributeError\u001b[0m: 'PngImageFile' object has no attribute 'view'"
          ]
        }
      ],
      "source": [
        "cur_step = 0\n",
        "mean_generator_loss = 0\n",
        "mean_discriminator_loss = 0\n",
        "gen_loss = False\n",
        "\n",
        "for epoch in range(n_epochs):\n",
        "    for i, real in enumerate(images):\n",
        "        # Get number of batch size (number of image)\n",
        "        # And get tensor for each image in batch\n",
        "        # cur_batch_size = len(real)\n",
        "\n",
        "        cur_batch_size = 1\n",
        "\n",
        "        real = real.view(cur_batch_size, -1).to(device)\n",
        "\n",
        "        ### Traing discriminator ###\n",
        "        # Zero out the gradient .zero_grad()\n",
        "        # Calculate discriminator loss get_disc_loss()\n",
        "        # Update gradient .gradient()\n",
        "        # Update optimizer .step()\n",
        "        disc_opt.zero_grad()\n",
        "        disc_loss = get_disc_loss(gen, disc, criterion, real, cur_batch_size, noise_dimension, device)\n",
        "        disc_loss.backward(retain_graph=True)\n",
        "        disc_opt.step()\n",
        "\n",
        "        ### Traing generator ###\n",
        "        # Zero out the gradient .zero_grad()\n",
        "        # Calculate discriminator loss get_gen_loss()\n",
        "        # Update gradient .gradient()\n",
        "        # Update optimizer .step()\n",
        "        gen_opt.zero_grad()\n",
        "        gen_loss = get_gen_loss(gen, disc, criterion, cur_batch_size, noise_dimension, device)\n",
        "        gen_loss.backward()\n",
        "        gen_opt.step()\n",
        "\n",
        "        mean_discriminator_loss += disc_loss.item() / display_step\n",
        "        mean_generator_loss += gen_loss.item() / display_step\n",
        "\n",
        "        if cur_step % display_step == 0 and cur_step > 0:\n",
        "            print(f\"Step {cur_step}: Generator loss: {mean_generator_loss}, discriminator loss: {mean_discriminator_loss}\")\n",
        "            fake_noise = get_noise(cur_batch_size, noise_dimension, device=device)\n",
        "            fake = gen(fake_noise)\n",
        "            tensor_to_images(fake)\n",
        "            tensor_to_images(real)\n",
        "            mean_generator_loss = 0\n",
        "            mean_discriminator_loss = 0\n",
        "\n",
        "        cur_step += 1"
      ]
    },
    {
      "cell_type": "code",
      "execution_count": null,
      "metadata": {
        "id": "VD3N-QdoZTIz"
      },
      "outputs": [],
      "source": []
    },
    {
      "cell_type": "code",
      "execution_count": null,
      "metadata": {
        "id": "yauIy8qIZTKo"
      },
      "outputs": [],
      "source": []
    }
  ],
  "metadata": {
    "colab": {
      "provenance": []
    },
    "kernelspec": {
      "display_name": "Python 3",
      "name": "python3"
    },
    "language_info": {
      "codemirror_mode": {
        "name": "ipython",
        "version": 3
      },
      "file_extension": ".py",
      "mimetype": "text/x-python",
      "name": "python",
      "nbconvert_exporter": "python",
      "pygments_lexer": "ipython3",
      "version": "3.9.12"
    }
  },
  "nbformat": 4,
  "nbformat_minor": 0
}
