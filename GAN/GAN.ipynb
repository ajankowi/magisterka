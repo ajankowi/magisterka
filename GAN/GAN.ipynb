{
  "cells": [
    {
      "cell_type": "code",
      "execution_count": 1,
      "metadata": {
        "id": "W_mAZNcjZOEj",
        "outputId": "8b6dcf7f-02af-4c89-99b8-3457696a56c2",
        "colab": {
          "base_uri": "https://localhost:8080/"
        }
      },
      "outputs": [
        {
          "output_type": "stream",
          "name": "stdout",
          "text": [
            "Requirement already satisfied: torch in /usr/local/lib/python3.10/dist-packages (2.2.1+cu121)\n",
            "Requirement already satisfied: torchvision in /usr/local/lib/python3.10/dist-packages (0.17.1+cu121)\n",
            "Requirement already satisfied: tqdm in /usr/local/lib/python3.10/dist-packages (4.66.2)\n",
            "Requirement already satisfied: filelock in /usr/local/lib/python3.10/dist-packages (from torch) (3.13.1)\n",
            "Requirement already satisfied: typing-extensions>=4.8.0 in /usr/local/lib/python3.10/dist-packages (from torch) (4.10.0)\n",
            "Requirement already satisfied: sympy in /usr/local/lib/python3.10/dist-packages (from torch) (1.12)\n",
            "Requirement already satisfied: networkx in /usr/local/lib/python3.10/dist-packages (from torch) (3.2.1)\n",
            "Requirement already satisfied: jinja2 in /usr/local/lib/python3.10/dist-packages (from torch) (3.1.3)\n",
            "Requirement already satisfied: fsspec in /usr/local/lib/python3.10/dist-packages (from torch) (2023.6.0)\n",
            "Collecting nvidia-cuda-nvrtc-cu12==12.1.105 (from torch)\n",
            "  Downloading nvidia_cuda_nvrtc_cu12-12.1.105-py3-none-manylinux1_x86_64.whl (23.7 MB)\n",
            "\u001b[2K     \u001b[90m━━━━━━━━━━━━━━━━━━━━━━━━━━━━━━━━━━━━━━━━\u001b[0m \u001b[32m23.7/23.7 MB\u001b[0m \u001b[31m21.7 MB/s\u001b[0m eta \u001b[36m0:00:00\u001b[0m\n",
            "\u001b[?25hCollecting nvidia-cuda-runtime-cu12==12.1.105 (from torch)\n",
            "  Downloading nvidia_cuda_runtime_cu12-12.1.105-py3-none-manylinux1_x86_64.whl (823 kB)\n",
            "\u001b[2K     \u001b[90m━━━━━━━━━━━━━━━━━━━━━━━━━━━━━━━━━━━━━━━━\u001b[0m \u001b[32m823.6/823.6 kB\u001b[0m \u001b[31m49.9 MB/s\u001b[0m eta \u001b[36m0:00:00\u001b[0m\n",
            "\u001b[?25hCollecting nvidia-cuda-cupti-cu12==12.1.105 (from torch)\n",
            "  Downloading nvidia_cuda_cupti_cu12-12.1.105-py3-none-manylinux1_x86_64.whl (14.1 MB)\n",
            "\u001b[2K     \u001b[90m━━━━━━━━━━━━━━━━━━━━━━━━━━━━━━━━━━━━━━━━\u001b[0m \u001b[32m14.1/14.1 MB\u001b[0m \u001b[31m22.0 MB/s\u001b[0m eta \u001b[36m0:00:00\u001b[0m\n",
            "\u001b[?25hCollecting nvidia-cudnn-cu12==8.9.2.26 (from torch)\n",
            "  Downloading nvidia_cudnn_cu12-8.9.2.26-py3-none-manylinux1_x86_64.whl (731.7 MB)\n",
            "\u001b[2K     \u001b[90m━━━━━━━━━━━━━━━━━━━━━━━━━━━━━━━━━━━━━━━━\u001b[0m \u001b[32m731.7/731.7 MB\u001b[0m \u001b[31m1.1 MB/s\u001b[0m eta \u001b[36m0:00:00\u001b[0m\n",
            "\u001b[?25hCollecting nvidia-cublas-cu12==12.1.3.1 (from torch)\n",
            "  Downloading nvidia_cublas_cu12-12.1.3.1-py3-none-manylinux1_x86_64.whl (410.6 MB)\n",
            "\u001b[2K     \u001b[90m━━━━━━━━━━━━━━━━━━━━━━━━━━━━━━━━━━━━━━━━\u001b[0m \u001b[32m410.6/410.6 MB\u001b[0m \u001b[31m1.0 MB/s\u001b[0m eta \u001b[36m0:00:00\u001b[0m\n",
            "\u001b[?25hCollecting nvidia-cufft-cu12==11.0.2.54 (from torch)\n",
            "  Downloading nvidia_cufft_cu12-11.0.2.54-py3-none-manylinux1_x86_64.whl (121.6 MB)\n",
            "\u001b[2K     \u001b[90m━━━━━━━━━━━━━━━━━━━━━━━━━━━━━━━━━━━━━━━━\u001b[0m \u001b[32m121.6/121.6 MB\u001b[0m \u001b[31m1.6 MB/s\u001b[0m eta \u001b[36m0:00:00\u001b[0m\n",
            "\u001b[?25hCollecting nvidia-curand-cu12==10.3.2.106 (from torch)\n",
            "  Downloading nvidia_curand_cu12-10.3.2.106-py3-none-manylinux1_x86_64.whl (56.5 MB)\n",
            "\u001b[2K     \u001b[90m━━━━━━━━━━━━━━━━━━━━━━━━━━━━━━━━━━━━━━━━\u001b[0m \u001b[32m56.5/56.5 MB\u001b[0m \u001b[31m1.8 MB/s\u001b[0m eta \u001b[36m0:00:00\u001b[0m\n",
            "\u001b[?25hCollecting nvidia-cusolver-cu12==11.4.5.107 (from torch)\n",
            "  Downloading nvidia_cusolver_cu12-11.4.5.107-py3-none-manylinux1_x86_64.whl (124.2 MB)\n",
            "\u001b[2K     \u001b[90m━━━━━━━━━━━━━━━━━━━━━━━━━━━━━━━━━━━━━━━━\u001b[0m \u001b[32m124.2/124.2 MB\u001b[0m \u001b[31m1.7 MB/s\u001b[0m eta \u001b[36m0:00:00\u001b[0m\n",
            "\u001b[?25hCollecting nvidia-cusparse-cu12==12.1.0.106 (from torch)\n",
            "  Downloading nvidia_cusparse_cu12-12.1.0.106-py3-none-manylinux1_x86_64.whl (196.0 MB)\n",
            "\u001b[2K     \u001b[90m━━━━━━━━━━━━━━━━━━━━━━━━━━━━━━━━━━━━━━━━\u001b[0m \u001b[32m196.0/196.0 MB\u001b[0m \u001b[31m1.7 MB/s\u001b[0m eta \u001b[36m0:00:00\u001b[0m\n",
            "\u001b[?25hCollecting nvidia-nccl-cu12==2.19.3 (from torch)\n",
            "  Downloading nvidia_nccl_cu12-2.19.3-py3-none-manylinux1_x86_64.whl (166.0 MB)\n",
            "\u001b[2K     \u001b[90m━━━━━━━━━━━━━━━━━━━━━━━━━━━━━━━━━━━━━━━━\u001b[0m \u001b[32m166.0/166.0 MB\u001b[0m \u001b[31m1.7 MB/s\u001b[0m eta \u001b[36m0:00:00\u001b[0m\n",
            "\u001b[?25hCollecting nvidia-nvtx-cu12==12.1.105 (from torch)\n",
            "  Downloading nvidia_nvtx_cu12-12.1.105-py3-none-manylinux1_x86_64.whl (99 kB)\n",
            "\u001b[2K     \u001b[90m━━━━━━━━━━━━━━━━━━━━━━━━━━━━━━━━━━━━━━━━\u001b[0m \u001b[32m99.1/99.1 kB\u001b[0m \u001b[31m1.7 MB/s\u001b[0m eta \u001b[36m0:00:00\u001b[0m\n",
            "\u001b[?25hRequirement already satisfied: triton==2.2.0 in /usr/local/lib/python3.10/dist-packages (from torch) (2.2.0)\n",
            "Collecting nvidia-nvjitlink-cu12 (from nvidia-cusolver-cu12==11.4.5.107->torch)\n",
            "  Downloading nvidia_nvjitlink_cu12-12.4.99-py3-none-manylinux2014_x86_64.whl (21.1 MB)\n",
            "\u001b[2K     \u001b[90m━━━━━━━━━━━━━━━━━━━━━━━━━━━━━━━━━━━━━━━━\u001b[0m \u001b[32m21.1/21.1 MB\u001b[0m \u001b[31m2.7 MB/s\u001b[0m eta \u001b[36m0:00:00\u001b[0m\n",
            "\u001b[?25hRequirement already satisfied: numpy in /usr/local/lib/python3.10/dist-packages (from torchvision) (1.25.2)\n",
            "Requirement already satisfied: pillow!=8.3.*,>=5.3.0 in /usr/local/lib/python3.10/dist-packages (from torchvision) (9.4.0)\n",
            "Requirement already satisfied: MarkupSafe>=2.0 in /usr/local/lib/python3.10/dist-packages (from jinja2->torch) (2.1.5)\n",
            "Requirement already satisfied: mpmath>=0.19 in /usr/local/lib/python3.10/dist-packages (from sympy->torch) (1.3.0)\n",
            "Installing collected packages: nvidia-nvtx-cu12, nvidia-nvjitlink-cu12, nvidia-nccl-cu12, nvidia-curand-cu12, nvidia-cufft-cu12, nvidia-cuda-runtime-cu12, nvidia-cuda-nvrtc-cu12, nvidia-cuda-cupti-cu12, nvidia-cublas-cu12, nvidia-cusparse-cu12, nvidia-cudnn-cu12, nvidia-cusolver-cu12\n",
            "Successfully installed nvidia-cublas-cu12-12.1.3.1 nvidia-cuda-cupti-cu12-12.1.105 nvidia-cuda-nvrtc-cu12-12.1.105 nvidia-cuda-runtime-cu12-12.1.105 nvidia-cudnn-cu12-8.9.2.26 nvidia-cufft-cu12-11.0.2.54 nvidia-curand-cu12-10.3.2.106 nvidia-cusolver-cu12-11.4.5.107 nvidia-cusparse-cu12-12.1.0.106 nvidia-nccl-cu12-2.19.3 nvidia-nvjitlink-cu12-12.4.99 nvidia-nvtx-cu12-12.1.105\n"
          ]
        }
      ],
      "source": [
        "!pip install torch torchvision tqdm"
      ]
    },
    {
      "cell_type": "code",
      "source": [
        "from google.colab import drive\n",
        "drive.mount(\"/content/drive\", force_remount=True)"
      ],
      "metadata": {
        "id": "NscvTZHjayPm",
        "outputId": "4d3b9f4f-7fba-4f38-cb42-aadddf086e76",
        "colab": {
          "base_uri": "https://localhost:8080/"
        }
      },
      "execution_count": 2,
      "outputs": [
        {
          "output_type": "stream",
          "name": "stdout",
          "text": [
            "Mounted at /content/drive\n"
          ]
        }
      ]
    },
    {
      "cell_type": "code",
      "source": [
        "import torch\n",
        "from torch import nn\n",
        "from tqdm.auto import tqdm\n",
        "from torchvision import transforms\n",
        "from torchvision.utils import make_grid\n",
        "from torch.utils.data import DataLoader\n",
        "import matplotlib.pyplot as plt\n",
        "torch.manual_seed(123)\n",
        "\n"
      ],
      "metadata": {
        "id": "pfgyInpsZSrf",
        "outputId": "4f8fd2a6-3a1b-4df1-9e1a-69ec1cb1f5a9",
        "colab": {
          "base_uri": "https://localhost:8080/"
        }
      },
      "execution_count": 3,
      "outputs": [
        {
          "output_type": "execute_result",
          "data": {
            "text/plain": [
              "<torch._C.Generator at 0x7b8bfc1b1b70>"
            ]
          },
          "metadata": {},
          "execution_count": 3
        }
      ]
    },
    {
      "cell_type": "code",
      "source": [
        "import os\n",
        "from PIL import Image"
      ],
      "metadata": {
        "id": "33kexF0lhfjY"
      },
      "execution_count": 6,
      "outputs": []
    },
    {
      "cell_type": "code",
      "source": [
        "!unzip '/content/drive/MyDrive/Magisterka/Twarz/twarz_1.zip' -d '/content/dataset/'\n",
        "\n"
      ],
      "metadata": {
        "id": "G1nRmsd8ZSx7",
        "outputId": "dd87d598-428a-4494-8460-ed91f7d0fb99",
        "colab": {
          "base_uri": "https://localhost:8080/"
        }
      },
      "execution_count": 5,
      "outputs": [
        {
          "output_type": "stream",
          "name": "stdout",
          "text": [
            "Archive:  /content/drive/MyDrive/Magisterka/Twarz/twarz_1.zip\n",
            "  inflating: /content/dataset/621.jpg  \n",
            "  inflating: /content/dataset/622.jpg  \n",
            "  inflating: /content/dataset/623.jpg  \n",
            "  inflating: /content/dataset/624.jpg  \n",
            "  inflating: /content/dataset/625.jpg  \n",
            "  inflating: /content/dataset/626.jpg  \n",
            "  inflating: /content/dataset/627.jpg  \n",
            "  inflating: /content/dataset/628.jpg  \n",
            "  inflating: /content/dataset/629.jpg  \n",
            "  inflating: /content/dataset/630.jpg  \n",
            "  inflating: /content/dataset/631.jpg  \n",
            "  inflating: /content/dataset/632.jpg  \n",
            "  inflating: /content/dataset/633.jpg  \n",
            "  inflating: /content/dataset/634.jpg  \n",
            "  inflating: /content/dataset/0.jpg  \n",
            "  inflating: /content/dataset/1.jpg  \n",
            "  inflating: /content/dataset/2.jpg  \n",
            "  inflating: /content/dataset/3.jpg  \n",
            "  inflating: /content/dataset/4.jpg  \n",
            "  inflating: /content/dataset/5.jpg  \n",
            "  inflating: /content/dataset/6.jpg  \n",
            "  inflating: /content/dataset/7.jpg  \n",
            "  inflating: /content/dataset/8.jpg  \n",
            "  inflating: /content/dataset/9.jpg  \n",
            "  inflating: /content/dataset/10.jpg  \n",
            "  inflating: /content/dataset/11.jpg  \n",
            "  inflating: /content/dataset/12.jpg  \n",
            "  inflating: /content/dataset/13.jpg  \n",
            "  inflating: /content/dataset/14.jpg  \n",
            "  inflating: /content/dataset/15.jpg  \n",
            "  inflating: /content/dataset/16.jpg  \n",
            "  inflating: /content/dataset/17.jpg  \n",
            "  inflating: /content/dataset/18.jpg  \n",
            "  inflating: /content/dataset/19.jpg  \n",
            "  inflating: /content/dataset/20.jpg  \n",
            "  inflating: /content/dataset/21.jpg  \n",
            "  inflating: /content/dataset/22.jpg  \n",
            "  inflating: /content/dataset/23.jpg  \n",
            "  inflating: /content/dataset/24.jpg  \n",
            "  inflating: /content/dataset/25.jpg  \n",
            "  inflating: /content/dataset/26.jpg  \n",
            "  inflating: /content/dataset/27.jpg  \n",
            "  inflating: /content/dataset/28.jpg  \n",
            "  inflating: /content/dataset/29.jpg  \n",
            "  inflating: /content/dataset/30.jpg  \n",
            "  inflating: /content/dataset/31.jpg  \n",
            "  inflating: /content/dataset/32.jpg  \n",
            "  inflating: /content/dataset/33.jpg  \n",
            "  inflating: /content/dataset/34.jpg  \n",
            "  inflating: /content/dataset/100.jpg  \n",
            "  inflating: /content/dataset/101.jpg  \n",
            "  inflating: /content/dataset/102.jpg  \n",
            "  inflating: /content/dataset/103.jpg  \n",
            "  inflating: /content/dataset/104.jpg  \n",
            "  inflating: /content/dataset/105.jpg  \n",
            "  inflating: /content/dataset/106.jpg  \n",
            "  inflating: /content/dataset/107.jpg  \n",
            "  inflating: /content/dataset/108.jpg  \n",
            "  inflating: /content/dataset/109.jpg  \n",
            "  inflating: /content/dataset/110.jpg  \n",
            "  inflating: /content/dataset/111.jpg  \n",
            "  inflating: /content/dataset/112.jpg  \n",
            "  inflating: /content/dataset/113.jpg  \n",
            "  inflating: /content/dataset/114.jpg  \n",
            "  inflating: /content/dataset/115.jpg  \n",
            "  inflating: /content/dataset/116.jpg  \n",
            "  inflating: /content/dataset/117.jpg  \n",
            "  inflating: /content/dataset/118.jpg  \n",
            "  inflating: /content/dataset/119.jpg  \n",
            "  inflating: /content/dataset/120.jpg  \n",
            "  inflating: /content/dataset/121.jpg  \n",
            "  inflating: /content/dataset/122.jpg  \n",
            "  inflating: /content/dataset/123.jpg  \n",
            "  inflating: /content/dataset/124.jpg  \n",
            "  inflating: /content/dataset/125.jpg  \n",
            "  inflating: /content/dataset/126.jpg  \n",
            "  inflating: /content/dataset/127.jpg  \n",
            "  inflating: /content/dataset/128.jpg  \n",
            "  inflating: /content/dataset/129.jpg  \n",
            "  inflating: /content/dataset/130.jpg  \n",
            "  inflating: /content/dataset/131.jpg  \n",
            "  inflating: /content/dataset/132.jpg  \n",
            "  inflating: /content/dataset/133.jpg  \n",
            "  inflating: /content/dataset/134.jpg  \n",
            "  inflating: /content/dataset/200.jpg  \n",
            "  inflating: /content/dataset/201.jpg  \n",
            "  inflating: /content/dataset/202.jpg  \n",
            "  inflating: /content/dataset/203.jpg  \n",
            "  inflating: /content/dataset/204.jpg  \n",
            "  inflating: /content/dataset/205.jpg  \n",
            "  inflating: /content/dataset/206.jpg  \n",
            "  inflating: /content/dataset/207.jpg  \n",
            "  inflating: /content/dataset/208.jpg  \n",
            "  inflating: /content/dataset/209.jpg  \n",
            "  inflating: /content/dataset/210.jpg  \n",
            "  inflating: /content/dataset/211.jpg  \n",
            "  inflating: /content/dataset/212.jpg  \n",
            "  inflating: /content/dataset/213.jpg  \n",
            "  inflating: /content/dataset/214.jpg  \n",
            "  inflating: /content/dataset/215.jpg  \n",
            "  inflating: /content/dataset/216.jpg  \n",
            "  inflating: /content/dataset/217.jpg  \n",
            "  inflating: /content/dataset/218.jpg  \n",
            "  inflating: /content/dataset/219.jpg  \n",
            "  inflating: /content/dataset/220.jpg  \n",
            "  inflating: /content/dataset/221.jpg  \n",
            "  inflating: /content/dataset/222.jpg  \n",
            "  inflating: /content/dataset/223.jpg  \n",
            "  inflating: /content/dataset/224.jpg  \n",
            "  inflating: /content/dataset/225.jpg  \n",
            "  inflating: /content/dataset/226.jpg  \n",
            "  inflating: /content/dataset/227.jpg  \n",
            "  inflating: /content/dataset/228.jpg  \n",
            "  inflating: /content/dataset/229.jpg  \n",
            "  inflating: /content/dataset/230.jpg  \n",
            "  inflating: /content/dataset/231.jpg  \n",
            "  inflating: /content/dataset/232.jpg  \n",
            "  inflating: /content/dataset/233.jpg  \n",
            "  inflating: /content/dataset/234.jpg  \n",
            "  inflating: /content/dataset/300.jpg  \n",
            "  inflating: /content/dataset/301.jpg  \n",
            "  inflating: /content/dataset/302.jpg  \n",
            "  inflating: /content/dataset/303.jpg  \n",
            "  inflating: /content/dataset/304.jpg  \n",
            "  inflating: /content/dataset/305.jpg  \n",
            "  inflating: /content/dataset/306.jpg  \n",
            "  inflating: /content/dataset/307.jpg  \n",
            "  inflating: /content/dataset/308.jpg  \n",
            "  inflating: /content/dataset/309.jpg  \n",
            "  inflating: /content/dataset/310.jpg  \n",
            "  inflating: /content/dataset/311.jpg  \n",
            "  inflating: /content/dataset/312.jpg  \n",
            "  inflating: /content/dataset/313.jpg  \n",
            "  inflating: /content/dataset/314.jpg  \n",
            "  inflating: /content/dataset/315.jpg  \n",
            "  inflating: /content/dataset/316.jpg  \n",
            "  inflating: /content/dataset/317.jpg  \n",
            "  inflating: /content/dataset/318.jpg  \n",
            "  inflating: /content/dataset/319.jpg  \n",
            "  inflating: /content/dataset/320.jpg  \n",
            "  inflating: /content/dataset/321.jpg  \n",
            "  inflating: /content/dataset/322.jpg  \n",
            "  inflating: /content/dataset/323.jpg  \n",
            "  inflating: /content/dataset/324.jpg  \n",
            "  inflating: /content/dataset/325.jpg  \n",
            "  inflating: /content/dataset/326.jpg  \n",
            "  inflating: /content/dataset/327.jpg  \n",
            "  inflating: /content/dataset/328.jpg  \n",
            "  inflating: /content/dataset/329.jpg  \n",
            "  inflating: /content/dataset/330.jpg  \n",
            "  inflating: /content/dataset/331.jpg  \n",
            "  inflating: /content/dataset/332.jpg  \n",
            "  inflating: /content/dataset/333.jpg  \n",
            "  inflating: /content/dataset/334.jpg  \n",
            "  inflating: /content/dataset/400.jpg  \n",
            "  inflating: /content/dataset/401.jpg  \n",
            "  inflating: /content/dataset/402.jpg  \n",
            "  inflating: /content/dataset/403.jpg  \n",
            "  inflating: /content/dataset/404.jpg  \n",
            "  inflating: /content/dataset/405.jpg  \n",
            "  inflating: /content/dataset/406.jpg  \n",
            "  inflating: /content/dataset/407.jpg  \n",
            "  inflating: /content/dataset/408.jpg  \n",
            "  inflating: /content/dataset/409.jpg  \n",
            "  inflating: /content/dataset/410.jpg  \n",
            "  inflating: /content/dataset/411.jpg  \n",
            "  inflating: /content/dataset/412.jpg  \n",
            "  inflating: /content/dataset/413.jpg  \n",
            "  inflating: /content/dataset/414.jpg  \n",
            "  inflating: /content/dataset/415.jpg  \n",
            "  inflating: /content/dataset/416.jpg  \n",
            "  inflating: /content/dataset/417.jpg  \n",
            "  inflating: /content/dataset/418.jpg  \n",
            "  inflating: /content/dataset/419.jpg  \n",
            "  inflating: /content/dataset/420.jpg  \n",
            "  inflating: /content/dataset/421.jpg  \n",
            "  inflating: /content/dataset/422.jpg  \n",
            "  inflating: /content/dataset/423.jpg  \n",
            "  inflating: /content/dataset/424.jpg  \n",
            "  inflating: /content/dataset/425.jpg  \n",
            "  inflating: /content/dataset/426.jpg  \n",
            "  inflating: /content/dataset/427.jpg  \n",
            "  inflating: /content/dataset/428.jpg  \n",
            "  inflating: /content/dataset/429.jpg  \n",
            "  inflating: /content/dataset/430.jpg  \n",
            "  inflating: /content/dataset/431.jpg  \n",
            "  inflating: /content/dataset/432.jpg  \n",
            "  inflating: /content/dataset/433.jpg  \n",
            "  inflating: /content/dataset/434.jpg  \n",
            "  inflating: /content/dataset/500.jpg  \n",
            "  inflating: /content/dataset/501.jpg  \n",
            "  inflating: /content/dataset/502.jpg  \n",
            "  inflating: /content/dataset/503.jpg  \n",
            "  inflating: /content/dataset/504.jpg  \n",
            "  inflating: /content/dataset/505.jpg  \n",
            "  inflating: /content/dataset/506.jpg  \n",
            "  inflating: /content/dataset/507.jpg  \n",
            "  inflating: /content/dataset/508.jpg  \n",
            "  inflating: /content/dataset/509.jpg  \n",
            "  inflating: /content/dataset/510.jpg  \n",
            "  inflating: /content/dataset/511.jpg  \n",
            "  inflating: /content/dataset/512.jpg  \n",
            "  inflating: /content/dataset/513.jpg  \n",
            "  inflating: /content/dataset/514.jpg  \n",
            "  inflating: /content/dataset/515.jpg  \n",
            "  inflating: /content/dataset/516.jpg  \n",
            "  inflating: /content/dataset/517.jpg  \n",
            "  inflating: /content/dataset/518.jpg  \n",
            "  inflating: /content/dataset/519.jpg  \n",
            "  inflating: /content/dataset/520.jpg  \n",
            "  inflating: /content/dataset/521.jpg  \n",
            "  inflating: /content/dataset/522.jpg  \n",
            "  inflating: /content/dataset/523.jpg  \n",
            "  inflating: /content/dataset/524.jpg  \n",
            "  inflating: /content/dataset/525.jpg  \n",
            "  inflating: /content/dataset/526.jpg  \n",
            "  inflating: /content/dataset/527.jpg  \n",
            "  inflating: /content/dataset/528.jpg  \n",
            "  inflating: /content/dataset/529.jpg  \n",
            "  inflating: /content/dataset/530.jpg  \n",
            "  inflating: /content/dataset/531.jpg  \n",
            "  inflating: /content/dataset/532.jpg  \n",
            "  inflating: /content/dataset/533.jpg  \n",
            "  inflating: /content/dataset/534.jpg  \n",
            "  inflating: /content/dataset/600.jpg  \n",
            "  inflating: /content/dataset/601.jpg  \n",
            "  inflating: /content/dataset/602.jpg  \n",
            "  inflating: /content/dataset/603.jpg  \n",
            "  inflating: /content/dataset/604.jpg  \n",
            "  inflating: /content/dataset/605.jpg  \n",
            "  inflating: /content/dataset/606.jpg  \n",
            "  inflating: /content/dataset/607.jpg  \n",
            "  inflating: /content/dataset/608.jpg  \n",
            "  inflating: /content/dataset/609.jpg  \n",
            "  inflating: /content/dataset/610.jpg  \n",
            "  inflating: /content/dataset/611.jpg  \n",
            "  inflating: /content/dataset/612.jpg  \n",
            "  inflating: /content/dataset/613.jpg  \n",
            "  inflating: /content/dataset/614.jpg  \n",
            "  inflating: /content/dataset/615.jpg  \n",
            "  inflating: /content/dataset/616.jpg  \n",
            "  inflating: /content/dataset/617.jpg  \n",
            "  inflating: /content/dataset/618.jpg  \n",
            "  inflating: /content/dataset/619.jpg  \n",
            "  inflating: /content/dataset/620.jpg  \n"
          ]
        }
      ]
    },
    {
      "cell_type": "code",
      "source": [
        "folder_path = '/content/dataset'\n",
        "image_files = os.listdir(folder_path)\n",
        "\n",
        "images = []\n",
        "for image_file in image_files:\n",
        "    if image_file.endswith('.jpg') or image_file.endswith('.png'):\n",
        "        image_path = os.path.join(folder_path, image_file)\n",
        "        image = Image.open(image_path)\n",
        "        images.append(image)"
      ],
      "metadata": {
        "id": "0aVhe4ERhQKG"
      },
      "execution_count": null,
      "outputs": []
    },
    {
      "cell_type": "code",
      "source": [
        "\n",
        "\n",
        "\n",
        "sample_img[0].shape"
      ],
      "metadata": {
        "id": "eMrXN-7zZS0Y"
      },
      "execution_count": null,
      "outputs": []
    },
    {
      "cell_type": "code",
      "source": [],
      "metadata": {
        "id": "gM_I16pkZS2q"
      },
      "execution_count": null,
      "outputs": []
    },
    {
      "cell_type": "code",
      "source": [],
      "metadata": {
        "id": "wcWurSImZS46"
      },
      "execution_count": null,
      "outputs": []
    },
    {
      "cell_type": "code",
      "source": [],
      "metadata": {
        "id": "KFCAglnrZS7C"
      },
      "execution_count": null,
      "outputs": []
    },
    {
      "cell_type": "code",
      "source": [],
      "metadata": {
        "id": "XIDKK_GPZS9W"
      },
      "execution_count": null,
      "outputs": []
    },
    {
      "cell_type": "code",
      "source": [],
      "metadata": {
        "id": "dq-kTeauZS_q"
      },
      "execution_count": null,
      "outputs": []
    },
    {
      "cell_type": "code",
      "source": [],
      "metadata": {
        "id": "WFuCaWMDZTB0"
      },
      "execution_count": null,
      "outputs": []
    },
    {
      "cell_type": "code",
      "source": [],
      "metadata": {
        "id": "ymNAzLu9ZTEI"
      },
      "execution_count": null,
      "outputs": []
    },
    {
      "cell_type": "code",
      "source": [],
      "metadata": {
        "id": "GNxODiH3ZTGd"
      },
      "execution_count": null,
      "outputs": []
    },
    {
      "cell_type": "code",
      "source": [],
      "metadata": {
        "id": "VD3N-QdoZTIz"
      },
      "execution_count": null,
      "outputs": []
    },
    {
      "cell_type": "code",
      "source": [],
      "metadata": {
        "id": "yauIy8qIZTKo"
      },
      "execution_count": null,
      "outputs": []
    }
  ],
  "metadata": {
    "language_info": {
      "name": "python"
    },
    "colab": {
      "provenance": []
    },
    "kernelspec": {
      "name": "python3",
      "display_name": "Python 3"
    }
  },
  "nbformat": 4,
  "nbformat_minor": 0
}