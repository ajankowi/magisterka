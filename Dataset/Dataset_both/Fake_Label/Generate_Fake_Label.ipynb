{
 "cells": [
  {
   "cell_type": "code",
   "execution_count": 1,
   "metadata": {},
   "outputs": [
    {
     "name": "stdout",
     "output_type": "stream",
     "text": [
      "3.10.14 | packaged by Anaconda, Inc. | (main, May  6 2024, 19:44:50) [MSC v.1916 64 bit (AMD64)]\n"
     ]
    }
   ],
   "source": [
    "import sys\n",
    "print(sys.version)"
   ]
  },
  {
   "cell_type": "code",
   "execution_count": 2,
   "metadata": {},
   "outputs": [],
   "source": [
    "import matplotlib.pyplot as plt\n",
    "import numpy as np\n",
    "import pandas as pd\n",
    "import seaborn as sns\n",
    "from PIL import Image\n",
    "import os\n",
    "import csv\n",
    "import random\n",
    "import zipfile\n",
    "\n",
    "#import cv2\n",
    "#import imutils\n",
    "\n",
    "# Make NumPy printouts easier to read.\n",
    "np.set_printoptions(precision=3, suppress=True)"
   ]
  },
  {
   "cell_type": "code",
   "execution_count": 31,
   "metadata": {},
   "outputs": [],
   "source": [
    "folder = r\"C:\\Users\\jankowiaka\\Documents\\python\\mag\\Generated_img\\Selected\\Labels\\\\\"\n",
    "png = '.png'"
   ]
  },
  {
   "cell_type": "code",
   "execution_count": 25,
   "metadata": {},
   "outputs": [],
   "source": [
    "def load_images_from_folder(folder, max_images=140):\n",
    "    images = []\n",
    "    count = 0\n",
    "    \n",
    "    for filename in os.listdir(folder):\n",
    "        if count >= max_images:\n",
    "            break\n",
    "        \n",
    "        file_path = os.path.join(folder, filename)\n",
    "        try:\n",
    "            img = Image.open(file_path).convert('L')\n",
    "            arr_im = np.array(img)\n",
    "            images.append(arr_im)\n",
    "            count += 1\n",
    "        except (IOError, OSError) as e:\n",
    "            print(f\"Cannot open {file_path}: {e}\")\n",
    "    \n",
    "    return images\n"
   ]
  },
  {
   "cell_type": "code",
   "execution_count": 26,
   "metadata": {},
   "outputs": [],
   "source": [
    "#Tablica przechowująca zdjęcia osób\n",
    "train_ppl = []\n",
    "\n",
    "for i in range(24):\n",
    "    images = []\n",
    "    images = load_images_from_folder(folder+str(i))\n",
    "    train_ppl.append(images)"
   ]
  },
  {
   "cell_type": "code",
   "execution_count": 27,
   "metadata": {},
   "outputs": [],
   "source": [
    "w, h = 64, 128\n",
    "data = np.zeros((h, w), dtype=np.uint8)"
   ]
  },
  {
   "cell_type": "code",
   "execution_count": 33,
   "metadata": {},
   "outputs": [
    {
     "name": "stdout",
     "output_type": "stream",
     "text": [
      "7560\n"
     ]
    }
   ],
   "source": [
    "#############################################\n",
    "#       Tworzenie próbek treningowych       #\n",
    "#                  Pozytywne                #\n",
    "#############################################\n",
    "\n",
    "\n",
    "#Laczna ilosc zdjec\n",
    "train_len = 15120\n",
    "\n",
    "rozmiar = 100\n",
    "train = []\n",
    "n = 0\n",
    "\n",
    "# Inicjalizacja tablicy zerami \n",
    "train_labels = np.zeros(train_len, dtype=np.uint8)\n",
    "\n",
    "#Stworzenie nowego katalogu\n",
    "train_path = r\"C:\\Users\\jankowiaka\\Documents\\python\\mag\\Dataset_both\\Fake_Label\\Train\\\\\"\n",
    "if not os.path.exists(train_path):\n",
    "    os.makedirs(train_path)\n",
    "\n",
    "#Petla przechodzi po ludziach\n",
    "for i in range(24):\n",
    "    #Petla przechodzi po zdjeciach\n",
    "    \n",
    "    for l in range(0,70,10):\n",
    "    \n",
    "        m = 10\n",
    "    \n",
    "        for j in range(rozmiar):       \n",
    "            m = m - 1\n",
    "        \n",
    "            for k in range(m):\n",
    "                \n",
    "                a = 0\n",
    "                \n",
    "                #Pętla służy do przeplatania wierszy zdjęć\n",
    "                for p in range(len(train_ppl[i][j+l])):\n",
    "                    p = 2*p\n",
    "                    data[p] = train_ppl[i][j+l][a]\n",
    "                    data[p+1] = train_ppl[i][9-k+l][a]\n",
    "                    a = a + 1\n",
    "    \n",
    "                #Zapisanie zmienionego zdjecia\n",
    "                con = Image.fromarray(data)\n",
    "                con.save(train_path+str(n)+png) \n",
    "      \n",
    "                train.append(con)\n",
    "                train_labels[n] = 1\n",
    "                n = n + 1   \n",
    "print(n)"
   ]
  },
  {
   "cell_type": "code",
   "execution_count": 34,
   "metadata": {},
   "outputs": [
    {
     "name": "stdout",
     "output_type": "stream",
     "text": [
      "27600\n"
     ]
    }
   ],
   "source": [
    "#############################################\n",
    "#       Tworzenie próbek treningowych       #\n",
    "#                  Neagtywne                #\n",
    "#############################################\n",
    "w, h = 64, 128\n",
    "\n",
    "x = 0 #Licznik \n",
    "\n",
    "m = 25\n",
    "rozne = []\n",
    "\n",
    "\n",
    "for i in range(24):\n",
    "\n",
    "    rand_1 = random.randint(0,8)\n",
    "    rand_2 = random.randint(0,8)\n",
    "   \n",
    "    \n",
    "    m = m - 1\n",
    "    \n",
    "    for k in range(1,m):\n",
    "    \n",
    "        for j in range(10):\n",
    "       \n",
    "            for l in range(10):\n",
    "            \n",
    "                a = 0\n",
    "                data = np.zeros((h, w), dtype=np.uint8)\n",
    "                \n",
    "                #Pętla służy do przeplatania wierszy zdjęć\n",
    "                for p in range(w):\n",
    "                    p = 2*p\n",
    "                    data[p] = train_ppl[i][10*rand_1+j][a]\n",
    "                    data[p+1] = train_ppl[i+k][10*rand_2+l][a]\n",
    "                    a = a + 1\n",
    "            \n",
    "                con = Image.fromarray(data)\n",
    "                            \n",
    "                x = x + 1\n",
    "                rozne.append(con)\n",
    "print(x)"
   ]
  },
  {
   "cell_type": "code",
   "execution_count": 35,
   "metadata": {},
   "outputs": [
    {
     "name": "stdout",
     "output_type": "stream",
     "text": [
      "15120\n"
     ]
    }
   ],
   "source": [
    "# Wybranie odpowiedniej ilości próbke\n",
    "for i in range(train_len - n):\n",
    "    \n",
    "    rand_1 = random.randint(0,x-1)\n",
    "    \n",
    "    con = rozne[rand_1]\n",
    "    \n",
    "    con.save(train_path+str(n)+png) \n",
    "    \n",
    "    train.append(con)\n",
    "    \n",
    "    train_labels[n] = 0\n",
    "    n = n + 1\n",
    "    \n",
    "print(n)"
   ]
  },
  {
   "cell_type": "code",
   "execution_count": 37,
   "metadata": {},
   "outputs": [
    {
     "name": "stdout",
     "output_type": "stream",
     "text": [
      "15120\n",
      "15120\n",
      "0\n"
     ]
    }
   ],
   "source": [
    "print(n)\n",
    "print(len(train))\n",
    "\n",
    "print(train_labels[10000])"
   ]
  },
  {
   "cell_type": "code",
   "execution_count": 38,
   "metadata": {},
   "outputs": [],
   "source": [
    "#Zapis tablicy do pliku CSV\n",
    "train_labels.tofile(train_path+'train.csv', sep = ' ')  "
   ]
  },
  {
   "cell_type": "code",
   "execution_count": null,
   "metadata": {},
   "outputs": [],
   "source": []
  },
  {
   "cell_type": "code",
   "execution_count": null,
   "metadata": {},
   "outputs": [],
   "source": []
  },
  {
   "cell_type": "code",
   "execution_count": 10,
   "metadata": {},
   "outputs": [
    {
     "data": {
      "text/plain": [
       "<matplotlib.image.AxesImage at 0x1d2ff260a00>"
      ]
     },
     "execution_count": 10,
     "metadata": {},
     "output_type": "execute_result"
    },
    {
     "data": {
      "image/png": "[encoded data removed]",
      "text/plain": [
       "<Figure size 640x480 with 1 Axes>"
      ]
     },
     "metadata": {},
     "output_type": "display_data"
    }
   ],
   "source": [
    "plt.imshow(images[120], cmap = 'gray')\n"
   ]
  },
  {
   "cell_type": "code",
   "execution_count": null,
   "metadata": {},
   "outputs": [],
   "source": []
  },
  {
   "cell_type": "code",
   "execution_count": null,
   "metadata": {},
   "outputs": [],
   "source": []
  },
  {
   "cell_type": "code",
   "execution_count": null,
   "metadata": {},
   "outputs": [],
   "source": []
  },
  {
   "cell_type": "code",
   "execution_count": null,
   "metadata": {},
   "outputs": [],
   "source": []
  },
  {
   "cell_type": "code",
   "execution_count": null,
   "metadata": {},
   "outputs": [],
   "source": []
  }
 ],
 "metadata": {
  "kernelspec": {
   "display_name": "py310",
   "language": "python",
   "name": "python3"
  },
  "language_info": {
   "codemirror_mode": {
    "name": "ipython",
    "version": 3
   },
   "file_extension": ".py",
   "mimetype": "text/x-python",
   "name": "python",
   "nbconvert_exporter": "python",
   "pygments_lexer": "ipython3",
   "version": "3.10.14"
  }
 },
 "nbformat": 4,
 "nbformat_minor": 2
}
