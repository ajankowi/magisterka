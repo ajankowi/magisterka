{
 "cells": [
  {
   "cell_type": "code",
   "execution_count": 1,
   "metadata": {},
   "outputs": [
    {
     "name": "stdout",
     "output_type": "stream",
     "text": [
      "3.10.14 | packaged by Anaconda, Inc. | (main, May  6 2024, 19:44:50) [MSC v.1916 64 bit (AMD64)]\n"
     ]
    }
   ],
   "source": [
    "import sys\n",
    "print(sys.version)"
   ]
  },
  {
   "cell_type": "code",
   "execution_count": 2,
   "metadata": {},
   "outputs": [],
   "source": [
    "import matplotlib.pyplot as plt\n",
    "import numpy as np\n",
    "import pandas as pd\n",
    "import seaborn as sns\n",
    "from PIL import Image\n",
    "import os\n",
    "import csv\n",
    "import random\n",
    "\n",
    "#import cv2\n",
    "#import imutils\n",
    "\n",
    "# Make NumPy printouts easier to read.\n",
    "np.set_printoptions(precision=3, suppress=True)"
   ]
  },
  {
   "cell_type": "code",
   "execution_count": 7,
   "metadata": {},
   "outputs": [],
   "source": [
    "folder = r\"C:\\Users\\jankowiaka\\Documents\\python\\mag\\project\\Baza_zdjec_konwersja_64x64\\\\s\"\n",
    "slesh = '/'\n",
    "png = '.png'"
   ]
  },
  {
   "cell_type": "code",
   "execution_count": 8,
   "metadata": {},
   "outputs": [],
   "source": [
    "#Tablica przechowująca zdjęcia osób\n",
    "train_ppl = []\n",
    "for i in range(1,11):\n",
    "    images = []\n",
    "    for j in range(1,141):\n",
    "        im = Image.open(folder+str(i)+slesh+str(j)+png)\n",
    "        arr_im = np.array(im) \n",
    "        images.append(arr_im) \n",
    "    train_ppl.append(images)\n",
    "\n",
    "for i in range(27,41):\n",
    "    images = []\n",
    "    for j in range(1,141):\n",
    "        im = Image.open(folder+str(i)+slesh+str(j)+png)\n",
    "        arr_im = np.array(im) \n",
    "        images.append(arr_im) \n",
    "    train_ppl.append(images)\n",
    "\n",
    "valid_ppl = []    \n",
    "for i in range(11,15):\n",
    "    images_4 = []\n",
    "    for j in range(1,141):\n",
    "        im = Image.open(folder+str(i)+slesh+str(j)+png)\n",
    "        arr_im = np.array(im) \n",
    "        images_4.append(arr_im) \n",
    "    valid_ppl.append(images_4) \n",
    "    \n",
    "    \n",
    "test_ppl = []    \n",
    "for i in range(15,19):\n",
    "    images_2 = []\n",
    "    for j in range(1,141):\n",
    "        im = Image.open(folder+str(i)+slesh+str(j)+png)\n",
    "        arr_im = np.array(im) \n",
    "        images_2.append(arr_im) \n",
    "    test_ppl.append(images_2) "
   ]
  },
  {
   "cell_type": "code",
   "execution_count": 9,
   "metadata": {},
   "outputs": [],
   "source": [
    "w, h = 64, 128\n",
    "data = np.zeros((h, w), dtype=np.uint8)"
   ]
  },
  {
   "cell_type": "code",
   "execution_count": null,
   "metadata": {},
   "outputs": [],
   "source": []
  },
  {
   "cell_type": "code",
   "execution_count": null,
   "metadata": {},
   "outputs": [],
   "source": []
  },
  {
   "cell_type": "code",
   "execution_count": 14,
   "metadata": {},
   "outputs": [
    {
     "name": "stdout",
     "output_type": "stream",
     "text": [
      "15120\n"
     ]
    }
   ],
   "source": [
    "#############################################\n",
    "#       Tworzenie próbek treningowych       #\n",
    "#                  Pozytywne                #\n",
    "#############################################\n",
    "\n",
    "\n",
    "#Laczna ilosc zdjec\n",
    "train_len = 15120*2\n",
    "\n",
    "rozmiar = 10\n",
    "train = []\n",
    "n = 0\n",
    "\n",
    "# Inicjalizacja tablicy zerami \n",
    "train_labels = np.zeros(train_len, dtype=np.uint8)\n",
    "\n",
    "#Stworzenie nowego katalogu\n",
    "train_path = r\"C:\\Users\\jankowiaka\\Documents\\python\\mag\\Dataset_both\\Real\\Szum\\Train\\\\\"\n",
    "if not os.path.exists(train_path):\n",
    "    os.makedirs(train_path)\n",
    "\n",
    "#Petla przechodzi po ludziach\n",
    "for i in range(0,24):\n",
    "    #Petla przechodzi po zdjeciach\n",
    "    \n",
    "    for l in range(0,140,10):\n",
    "    \n",
    "        m = 10\n",
    "    \n",
    "        for j in range(rozmiar):       \n",
    "            m = m - 1\n",
    "        \n",
    "            for k in range(m):\n",
    "                \n",
    "                a = 0\n",
    "                \n",
    "                #Pętla służy do przeplatania wierszy zdjęć\n",
    "                for p in range(len(train_ppl[i][j+l])):\n",
    "                    p = 2*p\n",
    "                    data[p] = train_ppl[i][j+l][a]\n",
    "                    data[p+1] = train_ppl[i][9-k+l][a]\n",
    "                    a = a + 1\n",
    "    \n",
    "                #Zapisanie zmienionego zdjecia\n",
    "                con = Image.fromarray(data)\n",
    "                con.save(train_path+str(n)+png) \n",
    "      \n",
    "                train.append(con)\n",
    "                train_labels[n] = 1\n",
    "                n = n + 1   \n",
    "print(n)"
   ]
  },
  {
   "cell_type": "code",
   "execution_count": null,
   "metadata": {},
   "outputs": [],
   "source": []
  },
  {
   "cell_type": "code",
   "execution_count": null,
   "metadata": {},
   "outputs": [],
   "source": []
  },
  {
   "cell_type": "code",
   "execution_count": 16,
   "metadata": {},
   "outputs": [
    {
     "name": "stdout",
     "output_type": "stream",
     "text": [
      "27600\n"
     ]
    }
   ],
   "source": [
    "#############################################\n",
    "#       Tworzenie próbek treningowych       #\n",
    "#                  Neagtywne                #\n",
    "#############################################\n",
    "w, h = 64, 128\n",
    "\n",
    "x = 0 #Licznik \n",
    "\n",
    "m = 25\n",
    "rozne = []\n",
    "\n",
    "\n",
    "for i in range(24):\n",
    "\n",
    "    rand_1 = random.randint(0,8)\n",
    "    rand_2 = random.randint(0,8)\n",
    "   \n",
    "    \n",
    "    m = m - 1\n",
    "    \n",
    "    for k in range(1,m):\n",
    "    \n",
    "        for j in range(10):\n",
    "       \n",
    "            for l in range(10):\n",
    "            \n",
    "                a = 0\n",
    "                data = np.zeros((h, w), dtype=np.uint8)\n",
    "                \n",
    "                #Pętla służy do przeplatania wierszy zdjęć\n",
    "                for p in range(w):\n",
    "                    p = 2*p\n",
    "                    data[p] = train_ppl[i][10*rand_1+j][a]\n",
    "                    data[p+1] = train_ppl[i+k][10*rand_2+l][a]\n",
    "                    a = a + 1\n",
    "            \n",
    "                con = Image.fromarray(data)\n",
    "                            \n",
    "                x = x + 1\n",
    "                rozne.append(con)\n",
    "print(x)"
   ]
  },
  {
   "cell_type": "code",
   "execution_count": 17,
   "metadata": {},
   "outputs": [
    {
     "name": "stdout",
     "output_type": "stream",
     "text": [
      "30240\n"
     ]
    }
   ],
   "source": [
    "\n",
    "# Wybranie odpowiedniej ilośći próbke\n",
    "for i in range(train_len - n):\n",
    "    \n",
    "    rand_1 = random.randint(0,x-1)\n",
    "    \n",
    "    con = rozne[rand_1]\n",
    "    \n",
    "    con.save(train_path+str(n)+png) \n",
    "    \n",
    "    train.append(con)\n",
    "    \n",
    "    train_labels[n] = 0\n",
    "    n = n + 1\n",
    "    \n",
    "print(n)"
   ]
  },
  {
   "cell_type": "code",
   "execution_count": 18,
   "metadata": {},
   "outputs": [
    {
     "name": "stdout",
     "output_type": "stream",
     "text": [
      "30240\n",
      "30240\n",
      "1\n"
     ]
    }
   ],
   "source": [
    "print(n)\n",
    "print(len(train))\n",
    "\n",
    "print(train_labels[7000])"
   ]
  },
  {
   "cell_type": "code",
   "execution_count": 19,
   "metadata": {},
   "outputs": [],
   "source": [
    "#Zapis tablicy do pliku CSV\n",
    "train_labels.tofile(train_path+'train.csv', sep = ' ')  "
   ]
  },
  {
   "cell_type": "code",
   "execution_count": null,
   "metadata": {},
   "outputs": [],
   "source": []
  },
  {
   "cell_type": "code",
   "execution_count": null,
   "metadata": {},
   "outputs": [],
   "source": []
  },
  {
   "cell_type": "code",
   "execution_count": null,
   "metadata": {},
   "outputs": [],
   "source": []
  },
  {
   "cell_type": "code",
   "execution_count": 21,
   "metadata": {},
   "outputs": [
    {
     "name": "stdout",
     "output_type": "stream",
     "text": [
      "2520\n"
     ]
    }
   ],
   "source": [
    "######################################\n",
    "#       Tworzenie próbek Valid       #\n",
    "#             Pozytywne              #\n",
    "######################################\n",
    "\n",
    "valid_len = 2520*2\n",
    "\n",
    "#Tablica przechowuje gotowe próbki validacyjne\n",
    "valid = []\n",
    "\n",
    "n = 0\n",
    "\n",
    "# Inicjalizacja tablicy zerami o rozmiarze 'rozmiar'\n",
    "valid_labels= np.zeros(valid_len, dtype=np.uint8)\n",
    "\n",
    "#Stworzenie nowego katalogu\n",
    "valid_path = r\"C:\\Users\\jankowiaka\\Documents\\python\\mag\\Dataset_both\\Real\\Szum\\Valid\\\\\"\n",
    "if not os.path.exists(valid_path):\n",
    "    os.makedirs(valid_path)\n",
    "\n",
    "#Petla przechodzi po ludziach\n",
    "for i in range(0,4):\n",
    "    #Petla przechodzi po zdjeciach\n",
    "    \n",
    "    for l in range(0,140,10):\n",
    "    \n",
    "        m = 10\n",
    "    \n",
    "        for j in range(rozmiar):       \n",
    "            m = m - 1\n",
    "        \n",
    "            for k in range(m):\n",
    "                \n",
    "                a = 0\n",
    "                \n",
    "                #Pętla służy do przeplatania wierszy zdjęć\n",
    "                for p in range(len(valid_ppl[i][j+l])):\n",
    "                    p = 2*p\n",
    "                    data[p] = valid_ppl[i][j+l][a]\n",
    "                    data[p+1] = valid_ppl[i][9-k+l][a]\n",
    "                    a = a + 1\n",
    "    \n",
    "    \n",
    "    \n",
    "                #Zapisanie zmienionego zdjecia\n",
    "                con = Image.fromarray(data)\n",
    "                con.save(valid_path+str(n)+png) \n",
    "      \n",
    "                valid.append(con)\n",
    "                valid_labels[n] = 1\n",
    "                n = n + 1\n",
    "                \n",
    "print(n)"
   ]
  },
  {
   "cell_type": "code",
   "execution_count": 24,
   "metadata": {},
   "outputs": [
    {
     "name": "stdout",
     "output_type": "stream",
     "text": [
      "2592\n"
     ]
    }
   ],
   "source": [
    "######################################\n",
    "#       Tworzenie próbek Valid       #\n",
    "#             Negatywne              #\n",
    "######################################\n",
    "\n",
    "x = 0 #Zamiast n \n",
    "\n",
    "polaczone = n\n",
    "m = 5\n",
    "rozne_valid = []\n",
    "\n",
    "\n",
    "for i in range(4):\n",
    "\n",
    "    rand_1 = random.randint(2,5)\n",
    "    rand_2 = random.randint(2,5)\n",
    "   \n",
    "    m = m - 1\n",
    "    \n",
    "    for k in range(1,m):\n",
    "    \n",
    "        for j in range(12):\n",
    "       \n",
    "            for l in range(12):\n",
    "            \n",
    "                a = 0\n",
    "                \n",
    "                data = np.zeros((h, w), dtype=np.uint8)\n",
    "                \n",
    "                #Pętla służy do przeplatania wierszy zdjęć\n",
    "                for p in range(w):\n",
    "                    p = 2*p\n",
    "                    data[p] = valid_ppl[i][10*rand_1+j][a]\n",
    "                    data[p+1] = valid_ppl[i+k][10*rand_2+l][a]\n",
    "                    a = a + 1\n",
    "            \n",
    "                con = Image.fromarray(data)\n",
    "                x = x + 1\n",
    "                rozne_valid.append(con)\n",
    "            \n",
    "                a = 0\n",
    "                \n",
    "                data = np.zeros((h, w), dtype=np.uint8)\n",
    "                \n",
    "                #Pętla służy do przeplatania wierszy zdjęć\n",
    "                for p in range(w):\n",
    "                    p = 2*p\n",
    "                    data[p] = valid_ppl[i][10*(rand_1+2)+j][a]\n",
    "                    data[p+1] = valid_ppl[i+k][10*(rand_2+2)+l][a]\n",
    "                    a = a + 1\n",
    "            \n",
    "                con = Image.fromarray(data)\n",
    "                x = x + 1\n",
    "                rozne_valid.append(con)\n",
    "            \n",
    "            \n",
    "                a = 0\n",
    "                \n",
    "                data = np.zeros((h, w), dtype=np.uint8)\n",
    "                \n",
    "                #Pętla służy do przeplatania wierszy zdjęć\n",
    "                for p in range(w):\n",
    "                    p = 2*p\n",
    "                    data[p] = valid_ppl[i][10*(rand_1-2)+j][a]\n",
    "                    data[p+1] = valid_ppl[i+k][10*(rand_2-2)+l][a]\n",
    "                    a = a + 1\n",
    "            \n",
    "                con = Image.fromarray(data)\n",
    "                x = x + 1\n",
    "                rozne_valid.append(con)\n",
    "                \n",
    "print(x)"
   ]
  },
  {
   "cell_type": "code",
   "execution_count": 25,
   "metadata": {},
   "outputs": [
    {
     "name": "stdout",
     "output_type": "stream",
     "text": [
      "5040\n",
      "5040\n"
     ]
    }
   ],
   "source": [
    "for i in range(valid_len - n):\n",
    "    \n",
    "    rand_1 = random.randint(0,x-1)\n",
    "    \n",
    "    con = rozne_valid[rand_1]\n",
    "    \n",
    "    con.save(valid_path+str(n)+png) \n",
    "    \n",
    "    valid.append(con)\n",
    "    \n",
    "    valid_labels[n] = 0\n",
    "    n = n + 1\n",
    "    \n",
    "print(n)\n",
    "print(len(valid_labels))"
   ]
  },
  {
   "cell_type": "code",
   "execution_count": 26,
   "metadata": {},
   "outputs": [],
   "source": [
    "#Zapis tablicy do pliku CSV\n",
    "valid_labels.tofile(valid_path+'valid.csv', sep = ' ')  "
   ]
  },
  {
   "cell_type": "code",
   "execution_count": null,
   "metadata": {},
   "outputs": [],
   "source": []
  },
  {
   "cell_type": "code",
   "execution_count": null,
   "metadata": {},
   "outputs": [],
   "source": []
  },
  {
   "cell_type": "code",
   "execution_count": null,
   "metadata": {},
   "outputs": [],
   "source": []
  },
  {
   "cell_type": "code",
   "execution_count": 27,
   "metadata": {},
   "outputs": [
    {
     "name": "stdout",
     "output_type": "stream",
     "text": [
      "2520\n"
     ]
    }
   ],
   "source": [
    "#####################################\n",
    "#       Tworzenie próbek Test       #\n",
    "#             Pozytywne             #\n",
    "#####################################\n",
    "\n",
    "test_len = 2520*2\n",
    "\n",
    "#Tablica przechowuje gotowe próbki testowe\n",
    "test = []\n",
    "\n",
    "n = 0\n",
    "\n",
    "# Inicjalizacja tablicy zerami o rozmiarze 'rozmiar'\n",
    "test_labels = np.zeros(test_len, dtype=np.uint8)\n",
    "\n",
    "\n",
    "#Stworzenie nowego katalogu\n",
    "test_path = r\"C:\\Users\\jankowiaka\\Documents\\python\\mag\\Dataset_both\\Real\\Szum\\Test\\\\\"\n",
    "if not os.path.exists(test_path):\n",
    "    os.makedirs(test_path)\n",
    "\n",
    "#Petla przechodzi po ludziach\n",
    "for i in range(4):\n",
    "    #Petla przechodzi po zdjeciach\n",
    "    \n",
    "    for l in range(0,140,10):\n",
    "    \n",
    "        m = 10\n",
    "    \n",
    "        for j in range(rozmiar):       \n",
    "            m = m - 1\n",
    "        \n",
    "            for k in range(m):\n",
    "                \n",
    "                a = 0\n",
    "                \n",
    "                #Pętla służy do przeplatania wierszy zdjęć\n",
    "                for p in range(len(test_ppl[i][j+l])):\n",
    "                    p = 2*p\n",
    "                    data[p] = test_ppl[i][j+l][a]\n",
    "                    data[p+1] = test_ppl[i][9-k+l][a]\n",
    "                    a = a + 1\n",
    "    \n",
    "                #Zapisanie zmienionego zdjecia\n",
    "                con = Image.fromarray(data)\n",
    "                con.save(test_path+str(n)+png) \n",
    "      \n",
    "                test.append(con)\n",
    "                test_labels[n] = 1\n",
    "                n = n + 1\n",
    "                \n",
    "print(n)"
   ]
  },
  {
   "cell_type": "code",
   "execution_count": 28,
   "metadata": {},
   "outputs": [
    {
     "name": "stdout",
     "output_type": "stream",
     "text": [
      "2592\n"
     ]
    }
   ],
   "source": [
    "#####################################\n",
    "#       Tworzenie próbek Test       #\n",
    "#             Negatywne             #\n",
    "#####################################\n",
    "\n",
    "x = 0 #Zamiast n \n",
    "\n",
    "polaczone = n\n",
    "m = 5\n",
    "rozne_test = []\n",
    "\n",
    "\n",
    "for i in range(4):\n",
    "\n",
    "    rand_1 = random.randint(2,5)\n",
    "    rand_2 = random.randint(2,5)\n",
    "   \n",
    "    \n",
    "    m = m - 1\n",
    "    \n",
    "    for k in range(1,m):\n",
    "    \n",
    "        for j in range(12):\n",
    "       \n",
    "            for l in range(12):\n",
    "            \n",
    "                a = 0\n",
    "                \n",
    "                data = np.zeros((h, w), dtype=np.uint8)\n",
    "                \n",
    "                #Pętla służy do przeplatania wierszy zdjęć\n",
    "                for p in range(w):\n",
    "                    p = 2*p\n",
    "                    data[p] = test_ppl[i][10*rand_1+j][a]\n",
    "                    data[p+1] = test_ppl[i+k][10*rand_2+l][a]\n",
    "                    a = a + 1\n",
    "            \n",
    "                con = Image.fromarray(data)\n",
    "                x = x + 1\n",
    "                rozne_test.append(con)\n",
    "            \n",
    "                a = 0\n",
    "            \n",
    "                data = np.zeros((h, w), dtype=np.uint8)\n",
    "                \n",
    "                #Pętla służy do przeplatania wierszy zdjęć\n",
    "                for p in range(w):\n",
    "                    p = 2*p\n",
    "                    data[p] = test_ppl[i][10*(rand_1+2)+j][a]\n",
    "                    data[p+1] = test_ppl[i+k][10*(rand_2+2)+l][a]\n",
    "                    a = a + 1\n",
    "            \n",
    "                con = Image.fromarray(data)\n",
    "                x = x + 1\n",
    "                rozne_test.append(con)\n",
    "                a = 0\n",
    "                \n",
    "                data = np.zeros((h, w), dtype=np.uint8)\n",
    "                \n",
    "                #Pętla służy do przeplatania wierszy zdjęć\n",
    "                for p in range(w):\n",
    "                    p = 2*p\n",
    "                    data[p] = test_ppl[i][10*(rand_1-2)+j][a]\n",
    "                    data[p+1] = test_ppl[i+k][10*(rand_2-2)+l][a]\n",
    "                    a = a + 1\n",
    "            \n",
    "                con = Image.fromarray(data)\n",
    "                x = x + 1\n",
    "                rozne_test.append(con)  \n",
    "                \n",
    "print(x)\n",
    "\n",
    "\n"
   ]
  },
  {
   "cell_type": "code",
   "execution_count": 29,
   "metadata": {},
   "outputs": [
    {
     "name": "stdout",
     "output_type": "stream",
     "text": [
      "5040\n",
      "5040\n"
     ]
    }
   ],
   "source": [
    "for i in range(test_len - n):\n",
    "    \n",
    "    rand_1 = random.randint(0,x-1)\n",
    "    \n",
    "    con = rozne_test[rand_1]\n",
    "    \n",
    "    con.save(test_path+str(n)+png) \n",
    "    \n",
    "    test.append(con)\n",
    "    \n",
    "    test_labels[n] = 0\n",
    "    n = n + 1\n",
    "    \n",
    "print(n)\n",
    "print(len(test_labels))"
   ]
  },
  {
   "cell_type": "code",
   "execution_count": 30,
   "metadata": {},
   "outputs": [],
   "source": [
    "#Zapis tablicy do pliku CSV\n",
    "test_labels.tofile(test_path+'test.csv', sep = ' ')"
   ]
  },
  {
   "cell_type": "code",
   "execution_count": null,
   "metadata": {},
   "outputs": [],
   "source": []
  },
  {
   "cell_type": "code",
   "execution_count": null,
   "metadata": {},
   "outputs": [],
   "source": []
  },
  {
   "cell_type": "code",
   "execution_count": null,
   "metadata": {},
   "outputs": [],
   "source": []
  },
  {
   "cell_type": "code",
   "execution_count": 31,
   "metadata": {},
   "outputs": [
    {
     "name": "stdout",
     "output_type": "stream",
     "text": [
      "1\n"
     ]
    },
    {
     "data": {
      "image/png": "[encoded data removed]",
      "text/plain": [
       "<Figure size 640x480 with 1 Axes>"
      ]
     },
     "metadata": {},
     "output_type": "display_data"
    }
   ],
   "source": [
    "a = 2500\n",
    "plt.imshow(train[a], cmap = 'gray')\n",
    "print(train_labels[a])"
   ]
  },
  {
   "cell_type": "code",
   "execution_count": null,
   "metadata": {},
   "outputs": [],
   "source": []
  }
 ],
 "metadata": {
  "kernelspec": {
   "display_name": "Python 3",
   "language": "python",
   "name": "python3"
  },
  "language_info": {
   "codemirror_mode": {
    "name": "ipython",
    "version": 3
   },
   "file_extension": ".py",
   "mimetype": "text/x-python",
   "name": "python",
   "nbconvert_exporter": "python",
   "pygments_lexer": "ipython3",
   "version": "3.10.14"
  }
 },
 "nbformat": 4,
 "nbformat_minor": 2
}
