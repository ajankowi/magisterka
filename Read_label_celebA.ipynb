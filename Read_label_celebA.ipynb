{
 "cells": [
  {
   "cell_type": "code",
   "execution_count": 1,
   "id": "6b0262fa",
   "metadata": {},
   "outputs": [
    {
     "name": "stdout",
     "output_type": "stream",
     "text": [
      "3.9.12 (main, Jun  1 2022, 11:38:51) \n",
      "[GCC 7.5.0]\n"
     ]
    }
   ],
   "source": [
    "import sys\n",
    "print(sys.version)"
   ]
  },
  {
   "cell_type": "code",
   "execution_count": 2,
   "id": "66bbcd60",
   "metadata": {},
   "outputs": [],
   "source": [
    "import matplotlib.pyplot as plt\n",
    "import numpy as np\n",
    "import os\n",
    "\n",
    "from PIL import Image"
   ]
  },
  {
   "cell_type": "code",
   "execution_count": 3,
   "id": "fe98c178",
   "metadata": {},
   "outputs": [],
   "source": [
    "#Wczytanie etykiet do treninegu \n",
    "\n",
    "with open('../Magisterka/identity_CelebA (2).txt',\"r\") as csvfile:\n",
    "    lines = csvfile.readlines()\n",
    "csvfile.close()\n",
    "\n",
    "new = []\n",
    "\n",
    "for i in lines:\n",
    "    i = i.replace(\"\\n\",\"\")\n",
    "    new.append(i.split(\" \"))\n",
    " \n",
    "    \n",
    "value_train = []\n",
    "\n",
    "for i in range(len(lines)):\n",
    "    value_train.append(int(new[i][1])) \n",
    "    \n",
    "    \n"
   ]
  },
  {
   "cell_type": "code",
   "execution_count": 4,
   "id": "10d6be0d",
   "metadata": {},
   "outputs": [
    {
     "name": "stdout",
     "output_type": "stream",
     "text": [
      "10177\n"
     ]
    }
   ],
   "source": [
    "print(max(value_train))"
   ]
  },
  {
   "cell_type": "code",
   "execution_count": 5,
   "id": "7f5a0730",
   "metadata": {},
   "outputs": [],
   "source": [
    "chrom = np.zeros((max(value_train)+1), dtype=np.uint16)\n",
    "\n",
    "\n",
    "for i in value_train:\n",
    "    chrom[i] = chrom[i] + 1\n"
   ]
  },
  {
   "cell_type": "code",
   "execution_count": 6,
   "id": "73b238df",
   "metadata": {},
   "outputs": [
    {
     "name": "stdout",
     "output_type": "stream",
     "text": [
      "35\n",
      "(array([2820, 3227, 3782]),)\n"
     ]
    }
   ],
   "source": [
    "print(max(chrom))\n",
    "\n",
    "index = np.where(chrom == max(chrom))\n",
    "\n",
    "print(index)"
   ]
  },
  {
   "cell_type": "code",
   "execution_count": 7,
   "id": "018c543d",
   "metadata": {},
   "outputs": [
    {
     "data": {
      "text/plain": [
       "array([ 2880,  2937,  8692, ...,  9852,  5570, 10101])"
      ]
     },
     "execution_count": 7,
     "metadata": {},
     "output_type": "execute_result"
    }
   ],
   "source": [
    "np.array(value_train)"
   ]
  },
  {
   "cell_type": "code",
   "execution_count": 8,
   "id": "4fa68397",
   "metadata": {},
   "outputs": [
    {
     "ename": "NameError",
     "evalue": "name 'aa' is not defined",
     "output_type": "error",
     "traceback": [
      "\u001b[0;31m---------------------------------------------------------------------------\u001b[0m",
      "\u001b[0;31mNameError\u001b[0m                                 Traceback (most recent call last)",
      "Input \u001b[0;32mIn [8]\u001b[0m, in \u001b[0;36m<cell line: 9>\u001b[0;34m()\u001b[0m\n\u001b[1;32m      6\u001b[0m bb \u001b[38;5;241m=\u001b[39m value_train\u001b[38;5;241m.\u001b[39mindex(val)\n\u001b[1;32m      7\u001b[0m person \u001b[38;5;241m=\u001b[39m np\u001b[38;5;241m.\u001b[39mwhere(value_train \u001b[38;5;241m==\u001b[39m val)\n\u001b[0;32m----> 9\u001b[0m \u001b[38;5;28mprint\u001b[39m(\u001b[43maa\u001b[49m)\n",
      "\u001b[0;31mNameError\u001b[0m: name 'aa' is not defined"
     ]
    }
   ],
   "source": [
    "person = []\n",
    "\n",
    "\n",
    "val = 2820\n",
    "\n",
    "bb = value_train.index(val)\n",
    "person = np.where(value_train == val)\n",
    "\n"
   ]
  },
  {
   "cell_type": "code",
   "execution_count": 9,
   "id": "732efdb4",
   "metadata": {},
   "outputs": [
    {
     "name": "stdout",
     "output_type": "stream",
     "text": [
      "(array([], dtype=int64),)\n",
      "1552\n"
     ]
    }
   ],
   "source": [
    "print(person)\n",
    "print(bb)"
   ]
  },
  {
   "cell_type": "code",
   "execution_count": 12,
   "id": "1b49d00d",
   "metadata": {},
   "outputs": [
    {
     "name": "stdout",
     "output_type": "stream",
     "text": [
      "2937\n"
     ]
    }
   ],
   "source": [
    "print(value_train[1])"
   ]
  },
  {
   "cell_type": "code",
   "execution_count": 19,
   "id": "113bace6",
   "metadata": {},
   "outputs": [],
   "source": [
    "indeksy = [i for i, element in enumerate(value_train) if element == val]\n",
    "\n",
    "\n",
    "\n",
    "for i in range(len(indeksy)):\n",
    "    \n",
    "    indeksy[i] = indeksy[i] + 1"
   ]
  },
  {
   "cell_type": "code",
   "execution_count": 20,
   "id": "c15934d0",
   "metadata": {},
   "outputs": [
    {
     "name": "stdout",
     "output_type": "stream",
     "text": [
      "[1553, 2558, 3568, 5265, 8235, 8286, 12101, 14715, 16174, 18144, 18909, 28690, 34377, 34769, 43941, 45344, 56764, 62065, 67445, 75590, 81558, 85080, 87813, 97468, 114148, 115262, 116428, 130485, 130858, 131983, 137347, 150905, 154010, 156283, 157826]\n",
      "35\n"
     ]
    }
   ],
   "source": [
    "print(indeksy)\n",
    "print(len(indeksy))"
   ]
  },
  {
   "cell_type": "code",
   "execution_count": null,
   "id": "43b48709",
   "metadata": {},
   "outputs": [],
   "source": []
  }
 ],
 "metadata": {
  "kernelspec": {
   "display_name": "py39",
   "language": "python",
   "name": "py39"
  },
  "language_info": {
   "codemirror_mode": {
    "name": "ipython",
    "version": 3
   },
   "file_extension": ".py",
   "mimetype": "text/x-python",
   "name": "python",
   "nbconvert_exporter": "python",
   "pygments_lexer": "ipython3",
   "version": "3.9.12"
  }
 },
 "nbformat": 4,
 "nbformat_minor": 5
}
