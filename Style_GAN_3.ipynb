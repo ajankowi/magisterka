{
  "cells": [
    {
      "cell_type": "code",
      "execution_count": 1,
      "id": "e139a52d",
      "metadata": {
        "colab": {
          "base_uri": "https://localhost:8080/"
        },
        "id": "e139a52d",
        "outputId": "361f9ad4-6982-4f7e-f968-a0914e13ed17"
      },
      "outputs": [
        {
          "output_type": "stream",
          "name": "stdout",
          "text": [
            "3.10.12 (main, Nov 20 2023, 15:14:05) [GCC 11.4.0]\n"
          ]
        }
      ],
      "source": [
        "import sys\n",
        "print(sys.version)"
      ]
    },
    {
      "cell_type": "code",
      "execution_count": 2,
      "id": "OG3xPR0PjOoi",
      "metadata": {
        "colab": {
          "base_uri": "https://localhost:8080/"
        },
        "id": "OG3xPR0PjOoi",
        "outputId": "55035748-f31d-4049-93d6-a0b3fcdc4bc9"
      },
      "outputs": [
        {
          "output_type": "stream",
          "name": "stdout",
          "text": [
            "Mounted at /content/drive\n"
          ]
        }
      ],
      "source": [
        "from google.colab import drive\n",
        "drive.mount(\"/content/drive\", force_remount=True)"
      ]
    },
    {
      "cell_type": "code",
      "execution_count": 3,
      "id": "e091328c",
      "metadata": {
        "id": "e091328c"
      },
      "outputs": [],
      "source": [
        "import matplotlib.pyplot as plt\n",
        "import numpy as np\n",
        "import os\n",
        "\n",
        "from PIL import Image"
      ]
    },
    {
      "cell_type": "code",
      "source": [
        "!pip install --upgrade torch==2.1.0+cu118 torchvision==0.16.0+cu118 -f https://download.pytorch.org/whl/torch_stable.html\n",
        "\n",
        "\n",
        "#!pip install jaxlib==0.4.0\n",
        "#!pip install torch==1.11.0 torchvision==0.12.0"
      ],
      "metadata": {
        "id": "7DXgdZgS-AKX",
        "colab": {
          "base_uri": "https://localhost:8080/"
        },
        "outputId": "2d468157-2b58-4d1f-8703-a8a944d56259"
      },
      "id": "7DXgdZgS-AKX",
      "execution_count": 4,
      "outputs": [
        {
          "output_type": "stream",
          "name": "stdout",
          "text": [
            "Looking in links: https://download.pytorch.org/whl/torch_stable.html\n",
            "Requirement already satisfied: torch==2.1.0+cu118 in /usr/local/lib/python3.10/dist-packages (2.1.0+cu118)\n",
            "Requirement already satisfied: torchvision==0.16.0+cu118 in /usr/local/lib/python3.10/dist-packages (0.16.0+cu118)\n",
            "Requirement already satisfied: filelock in /usr/local/lib/python3.10/dist-packages (from torch==2.1.0+cu118) (3.13.1)\n",
            "Requirement already satisfied: typing-extensions in /usr/local/lib/python3.10/dist-packages (from torch==2.1.0+cu118) (4.5.0)\n",
            "Requirement already satisfied: sympy in /usr/local/lib/python3.10/dist-packages (from torch==2.1.0+cu118) (1.12)\n",
            "Requirement already satisfied: networkx in /usr/local/lib/python3.10/dist-packages (from torch==2.1.0+cu118) (3.2.1)\n",
            "Requirement already satisfied: jinja2 in /usr/local/lib/python3.10/dist-packages (from torch==2.1.0+cu118) (3.1.2)\n",
            "Requirement already satisfied: fsspec in /usr/local/lib/python3.10/dist-packages (from torch==2.1.0+cu118) (2023.6.0)\n",
            "Requirement already satisfied: triton==2.1.0 in /usr/local/lib/python3.10/dist-packages (from torch==2.1.0+cu118) (2.1.0)\n",
            "Requirement already satisfied: numpy in /usr/local/lib/python3.10/dist-packages (from torchvision==0.16.0+cu118) (1.23.5)\n",
            "Requirement already satisfied: requests in /usr/local/lib/python3.10/dist-packages (from torchvision==0.16.0+cu118) (2.31.0)\n",
            "Requirement already satisfied: pillow!=8.3.*,>=5.3.0 in /usr/local/lib/python3.10/dist-packages (from torchvision==0.16.0+cu118) (9.4.0)\n",
            "Requirement already satisfied: MarkupSafe>=2.0 in /usr/local/lib/python3.10/dist-packages (from jinja2->torch==2.1.0+cu118) (2.1.3)\n",
            "Requirement already satisfied: charset-normalizer<4,>=2 in /usr/local/lib/python3.10/dist-packages (from requests->torchvision==0.16.0+cu118) (3.3.2)\n",
            "Requirement already satisfied: idna<4,>=2.5 in /usr/local/lib/python3.10/dist-packages (from requests->torchvision==0.16.0+cu118) (3.6)\n",
            "Requirement already satisfied: urllib3<3,>=1.21.1 in /usr/local/lib/python3.10/dist-packages (from requests->torchvision==0.16.0+cu118) (2.0.7)\n",
            "Requirement already satisfied: certifi>=2017.4.17 in /usr/local/lib/python3.10/dist-packages (from requests->torchvision==0.16.0+cu118) (2023.11.17)\n",
            "Requirement already satisfied: mpmath>=0.19 in /usr/local/lib/python3.10/dist-packages (from sympy->torch==2.1.0+cu118) (1.3.0)\n"
          ]
        }
      ]
    },
    {
      "cell_type": "code",
      "source": [
        "!git clone https://github.com/NVlabs/stylegan3.git\n",
        "!pip install ninja"
      ],
      "metadata": {
        "id": "7Jmuj3AtfFmh",
        "outputId": "080b0be9-eb9b-49a9-d599-6bd0de17ab4f",
        "colab": {
          "base_uri": "https://localhost:8080/"
        }
      },
      "id": "7Jmuj3AtfFmh",
      "execution_count": 5,
      "outputs": [
        {
          "output_type": "stream",
          "name": "stdout",
          "text": [
            "Cloning into 'stylegan3'...\n",
            "remote: Enumerating objects: 212, done.\u001b[K\n",
            "remote: Counting objects: 100% (5/5), done.\u001b[K\n",
            "remote: Compressing objects: 100% (5/5), done.\u001b[K\n",
            "remote: Total 212 (delta 0), reused 1 (delta 0), pack-reused 207\u001b[K\n",
            "Receiving objects: 100% (212/212), 4.17 MiB | 9.05 MiB/s, done.\n",
            "Resolving deltas: 100% (98/98), done.\n",
            "Collecting ninja\n",
            "  Downloading ninja-1.11.1.1-py2.py3-none-manylinux1_x86_64.manylinux_2_5_x86_64.whl (307 kB)\n",
            "\u001b[2K     \u001b[90m━━━━━━━━━━━━━━━━━━━━━━━━━━━━━━━━━━━━━━━━\u001b[0m \u001b[32m307.2/307.2 kB\u001b[0m \u001b[31m5.2 MB/s\u001b[0m eta \u001b[36m0:00:00\u001b[0m\n",
            "\u001b[?25hInstalling collected packages: ninja\n",
            "Successfully installed ninja-1.11.1.1\n"
          ]
        }
      ]
    },
    {
      "cell_type": "code",
      "execution_count": 6,
      "id": "1FpIT6hKjVnu",
      "metadata": {
        "id": "1FpIT6hKjVnu"
      },
      "outputs": [],
      "source": [
        "MNIST_zip = '/content/drive/MyDrive/MNIST/four_img.zip'\n",
        "twarz_zip = '/content/drive/MyDrive/Twarz/twarz_1.zip'"
      ]
    },
    {
      "cell_type": "code",
      "source": [
        "!ls /content/stylegan3"
      ],
      "metadata": {
        "id": "J_o5QxFHfgyj",
        "outputId": "1960dc6f-4eb7-4055-a240-04b34f7b11fc",
        "colab": {
          "base_uri": "https://localhost:8080/"
        }
      },
      "id": "J_o5QxFHfgyj",
      "execution_count": 7,
      "outputs": [
        {
          "output_type": "stream",
          "name": "stdout",
          "text": [
            "avg_spectra.py\t dnnlib      environment.yml  gui_utils    metrics\ttraining       viz\n",
            "calc_metrics.py  Dockerfile  gen_images.py    legacy.py    README.md\ttrain.py\n",
            "dataset_tool.py  docs\t     gen_video.py     LICENSE.txt  torch_utils\tvisualizer.py\n"
          ]
        }
      ]
    },
    {
      "cell_type": "code",
      "source": [
        "import sys\n",
        "sys.path.insert(0, \"/content/stylegan3\")\n",
        "import pickle\n",
        "import os\n",
        "import numpy as np\n",
        "import PIL.Image\n",
        "from IPython.display import Image\n",
        "import matplotlib.pyplot as plt\n",
        "import IPython.display\n",
        "import torch\n",
        "import dnnlib\n",
        "import legacy"
      ],
      "metadata": {
        "id": "XEInyVUJfg3B"
      },
      "id": "XEInyVUJfg3B",
      "execution_count": 8,
      "outputs": []
    },
    {
      "cell_type": "code",
      "source": [
        "device = torch.device('cuda')"
      ],
      "metadata": {
        "id": "rUQpo8kLfg9C"
      },
      "id": "rUQpo8kLfg9C",
      "execution_count": 9,
      "outputs": []
    },
    {
      "cell_type": "code",
      "source": [
        "print(f\"Using device: {device}\")\n",
        "\n",
        "num_of_gpus = torch.cuda.device_count()\n",
        "print(num_of_gpus)\n"
      ],
      "metadata": {
        "id": "-LqvcmnffhBS",
        "outputId": "8b28f7db-e68b-4383-e4ab-249c5495a17e",
        "colab": {
          "base_uri": "https://localhost:8080/"
        }
      },
      "id": "-LqvcmnffhBS",
      "execution_count": 10,
      "outputs": [
        {
          "output_type": "stream",
          "name": "stdout",
          "text": [
            "Using device: cuda\n",
            "1\n"
          ]
        }
      ]
    },
    {
      "cell_type": "code",
      "source": [
        "!python /content/drive/MyDrive/StyleGan3_gray_scale/dataset_tool.py --source=/content/drive/MyDrive/Twarz/twarz_1.zip --dest=/content/drive/MyDrive/Twarz/Dataset_tool_05_12.zip --transform=center-crop --resolution=64x64\n"
      ],
      "metadata": {
        "id": "Tk2L67PzfhFO",
        "colab": {
          "base_uri": "https://localhost:8080/"
        },
        "outputId": "549260db-4ce0-4a22-c96a-f1d5fe5558cb"
      },
      "id": "Tk2L67PzfhFO",
      "execution_count": null,
      "outputs": [
        {
          "output_type": "stream",
          "name": "stdout",
          "text": [
            "100% 245/245 [00:00<00:00, 891.27it/s]\n"
          ]
        }
      ]
    },
    {
      "cell_type": "code",
      "source": [
        "!python /content/drive/MyDrive/mag/stylegan3-main/train.py --outdir=/content/drive/MyDrive/mag/Twarz/Wyniczek_4 --data=/content/drive/MyDrive/mag/twarz/Dataset_tool_05_12.zip  --gpus=1 --cfg=stylegan3-r --batch=16 --gamma=3.2768 --kimg=1000"
      ],
      "metadata": {
        "id": "JFWFfWigfhI8",
        "colab": {
          "base_uri": "https://localhost:8080/"
        },
        "outputId": "ea195c4c-7c0b-4446-f484-94bcae271fd1"
      },
      "id": "JFWFfWigfhI8",
      "execution_count": 11,
      "outputs": [
        {
          "output_type": "stream",
          "name": "stdout",
          "text": [
            "\n",
            "Training options:\n",
            "{\n",
            "  \"G_kwargs\": {\n",
            "    \"class_name\": \"training.networks_stylegan3.Generator\",\n",
            "    \"z_dim\": 512,\n",
            "    \"w_dim\": 512,\n",
            "    \"mapping_kwargs\": {\n",
            "      \"num_layers\": 2\n",
            "    },\n",
            "    \"channel_base\": 65536,\n",
            "    \"channel_max\": 1024,\n",
            "    \"magnitude_ema_beta\": 0.9994456359721023,\n",
            "    \"conv_kernel\": 1,\n",
            "    \"use_radial_filters\": true\n",
            "  },\n",
            "  \"D_kwargs\": {\n",
            "    \"class_name\": \"training.networks_stylegan2.Discriminator\",\n",
            "    \"block_kwargs\": {\n",
            "      \"freeze_layers\": 0\n",
            "    },\n",
            "    \"mapping_kwargs\": {},\n",
            "    \"epilogue_kwargs\": {\n",
            "      \"mbstd_group_size\": 4\n",
            "    },\n",
            "    \"channel_base\": 32768,\n",
            "    \"channel_max\": 512\n",
            "  },\n",
            "  \"G_opt_kwargs\": {\n",
            "    \"class_name\": \"torch.optim.Adam\",\n",
            "    \"betas\": [\n",
            "      0,\n",
            "      0.99\n",
            "    ],\n",
            "    \"eps\": 1e-08,\n",
            "    \"lr\": 0.0025\n",
            "  },\n",
            "  \"D_opt_kwargs\": {\n",
            "    \"class_name\": \"torch.optim.Adam\",\n",
            "    \"betas\": [\n",
            "      0,\n",
            "      0.99\n",
            "    ],\n",
            "    \"eps\": 1e-08,\n",
            "    \"lr\": 0.002\n",
            "  },\n",
            "  \"loss_kwargs\": {\n",
            "    \"class_name\": \"training.loss.StyleGAN2Loss\",\n",
            "    \"r1_gamma\": 3.2768,\n",
            "    \"blur_init_sigma\": 10,\n",
            "    \"blur_fade_kimg\": 100.0\n",
            "  },\n",
            "  \"data_loader_kwargs\": {\n",
            "    \"pin_memory\": true,\n",
            "    \"prefetch_factor\": 2,\n",
            "    \"num_workers\": 3\n",
            "  },\n",
            "  \"training_set_kwargs\": {\n",
            "    \"class_name\": \"training.dataset.ImageFolderDataset\",\n",
            "    \"path\": \"/content/drive/MyDrive/mag/twarz/Dataset_tool_05_12.zip\",\n",
            "    \"use_labels\": false,\n",
            "    \"max_size\": 245,\n",
            "    \"xflip\": false,\n",
            "    \"resolution\": 64,\n",
            "    \"random_seed\": 0\n",
            "  },\n",
            "  \"num_gpus\": 1,\n",
            "  \"batch_size\": 16,\n",
            "  \"batch_gpu\": 16,\n",
            "  \"metrics\": [\n",
            "    \"fid50k_full\"\n",
            "  ],\n",
            "  \"total_kimg\": 1000,\n",
            "  \"kimg_per_tick\": 4,\n",
            "  \"image_snapshot_ticks\": 50,\n",
            "  \"network_snapshot_ticks\": 50,\n",
            "  \"random_seed\": 0,\n",
            "  \"ema_kimg\": 5.0,\n",
            "  \"augment_kwargs\": {\n",
            "    \"class_name\": \"training.augment.AugmentPipe\",\n",
            "    \"xflip\": 1,\n",
            "    \"rotate90\": 1,\n",
            "    \"xint\": 1,\n",
            "    \"scale\": 1,\n",
            "    \"rotate\": 1,\n",
            "    \"aniso\": 1,\n",
            "    \"xfrac\": 1,\n",
            "    \"brightness\": 1,\n",
            "    \"contrast\": 1,\n",
            "    \"lumaflip\": 1,\n",
            "    \"hue\": 1,\n",
            "    \"saturation\": 1\n",
            "  },\n",
            "  \"ada_target\": 0.6,\n",
            "  \"run_dir\": \"/content/drive/MyDrive/mag/Twarz/Wyniczek_4/00000-stylegan3-r-Dataset_tool_05_12-gpus1-batch16-gamma3.2768\"\n",
            "}\n",
            "\n",
            "Output directory:    /content/drive/MyDrive/mag/Twarz/Wyniczek_4/00000-stylegan3-r-Dataset_tool_05_12-gpus1-batch16-gamma3.2768\n",
            "Number of GPUs:      1\n",
            "Batch size:          16 images\n",
            "Training duration:   1000 kimg\n",
            "Dataset path:        /content/drive/MyDrive/mag/twarz/Dataset_tool_05_12.zip\n",
            "Dataset size:        245 images\n",
            "Dataset resolution:  64\n",
            "Dataset labels:      False\n",
            "Dataset x-flips:     False\n",
            "\n",
            "Creating output directory...\n",
            "Launching processes...\n",
            "Loading training set...\n",
            "/usr/local/lib/python3.10/dist-packages/torch/utils/data/sampler.py:64: UserWarning: `data_source` argument is not used and will be removed in 2.2.0.You may still have custom implementation that utilizes it.\n",
            "  warnings.warn(\"`data_source` argument is not used and will be removed in 2.2.0.\"\n",
            "/usr/local/lib/python3.10/dist-packages/torch/utils/data/dataloader.py:557: UserWarning: This DataLoader will create 3 worker processes in total. Our suggested max number of worker in current system is 2, which is smaller than what this DataLoader is going to create. Please be aware that excessive worker creation might get DataLoader running slow or even freeze, lower the worker number to avoid potential slowness/freeze if necessary.\n",
            "  warnings.warn(_create_warning_msg(\n",
            "\n",
            "Num images:  245\n",
            "Image shape: [1, 64, 64]\n",
            "Label shape: [0]\n",
            "\n",
            "Constructing networks...\n",
            "Setting up PyTorch plugin \"bias_act_plugin\"... Done.\n",
            "Setting up PyTorch plugin \"filtered_lrelu_plugin\"... Done.\n",
            "\n",
            "Generator                     Parameters  Buffers  Output shape        Datatype\n",
            "---                           ---         ---      ---                 ---     \n",
            "mapping.fc0                   262656      -        [16, 512]           float32 \n",
            "mapping.fc1                   262656      -        [16, 512]           float32 \n",
            "mapping                       -           512      [16, 16, 512]       float32 \n",
            "synthesis.input.affine        2052        -        [16, 4]             float32 \n",
            "synthesis.input               1048576     3081     [16, 1024, 36, 36]  float32 \n",
            "synthesis.L0_36_1024.affine   525312      -        [16, 1024]          float32 \n",
            "synthesis.L0_36_1024          1049600     157      [16, 1024, 36, 36]  float16 \n",
            "synthesis.L1_36_1024.affine   525312      -        [16, 1024]          float32 \n",
            "synthesis.L1_36_1024          1049600     157      [16, 1024, 36, 36]  float16 \n",
            "synthesis.L2_36_1024.affine   525312      -        [16, 1024]          float32 \n",
            "synthesis.L2_36_1024          1049600     157      [16, 1024, 36, 36]  float16 \n",
            "synthesis.L3_36_1024.affine   525312      -        [16, 1024]          float32 \n",
            "synthesis.L3_36_1024          1049600     157      [16, 1024, 36, 36]  float16 \n",
            "synthesis.L4_52_1024.affine   525312      -        [16, 1024]          float32 \n",
            "synthesis.L4_52_1024          1049600     169      [16, 1024, 52, 52]  float16 \n",
            "synthesis.L5_52_1024.affine   525312      -        [16, 1024]          float32 \n",
            "synthesis.L5_52_1024          1049600     157      [16, 1024, 52, 52]  float16 \n",
            "synthesis.L6_52_1024.affine   525312      -        [16, 1024]          float32 \n",
            "synthesis.L6_52_1024          1049600     157      [16, 1024, 52, 52]  float16 \n",
            "synthesis.L7_52_1024.affine   525312      -        [16, 1024]          float32 \n",
            "synthesis.L7_52_1024          1049600     157      [16, 1024, 52, 52]  float16 \n",
            "synthesis.L8_84_1024.affine   525312      -        [16, 1024]          float32 \n",
            "synthesis.L8_84_1024          1049600     169      [16, 1024, 84, 84]  float16 \n",
            "synthesis.L9_84_1024.affine   525312      -        [16, 1024]          float32 \n",
            "synthesis.L9_84_1024          1049600     157      [16, 1024, 84, 84]  float16 \n",
            "synthesis.L10_84_1024.affine  525312      -        [16, 1024]          float32 \n",
            "synthesis.L10_84_1024         1049600     157      [16, 1024, 84, 84]  float16 \n",
            "synthesis.L11_84_1024.affine  525312      -        [16, 1024]          float32 \n",
            "synthesis.L11_84_1024         1049600     157      [16, 1024, 84, 84]  float16 \n",
            "synthesis.L12_84_1024.affine  525312      -        [16, 1024]          float32 \n",
            "synthesis.L12_84_1024         1049600     25       [16, 1024, 84, 84]  float16 \n",
            "synthesis.L13_64_1024.affine  525312      -        [16, 1024]          float32 \n",
            "synthesis.L13_64_1024         1049600     25       [16, 1024, 64, 64]  float16 \n",
            "synthesis.L14_64_1.affine     525312      -        [16, 1024]          float32 \n",
            "synthesis.L14_64_1            1025        1        [16, 1, 64, 64]     float16 \n",
            "synthesis                     -           -        [16, 1, 64, 64]     float32 \n",
            "---                           ---         ---      ---                 ---     \n",
            "Total                         24151045    5552     -                   -       \n",
            "\n",
            "Setting up PyTorch plugin \"upfirdn2d_plugin\"... Done.\n",
            "\n",
            "Discriminator  Parameters  Buffers  Output shape       Datatype\n",
            "---            ---         ---      ---                ---     \n",
            "b64.fromrgb    1024        16       [16, 512, 64, 64]  float16 \n",
            "b64.skip       262144      16       [16, 512, 32, 32]  float16 \n",
            "b64.conv0      2359808     16       [16, 512, 64, 64]  float16 \n",
            "b64.conv1      2359808     16       [16, 512, 32, 32]  float16 \n",
            "b64            -           16       [16, 512, 32, 32]  float16 \n",
            "b32.skip       262144      16       [16, 512, 16, 16]  float16 \n",
            "b32.conv0      2359808     16       [16, 512, 32, 32]  float16 \n",
            "b32.conv1      2359808     16       [16, 512, 16, 16]  float16 \n",
            "b32            -           16       [16, 512, 16, 16]  float16 \n",
            "b16.skip       262144      16       [16, 512, 8, 8]    float16 \n",
            "b16.conv0      2359808     16       [16, 512, 16, 16]  float16 \n",
            "b16.conv1      2359808     16       [16, 512, 8, 8]    float16 \n",
            "b16            -           16       [16, 512, 8, 8]    float16 \n",
            "b8.skip        262144      16       [16, 512, 4, 4]    float16 \n",
            "b8.conv0       2359808     16       [16, 512, 8, 8]    float16 \n",
            "b8.conv1       2359808     16       [16, 512, 4, 4]    float16 \n",
            "b8             -           16       [16, 512, 4, 4]    float16 \n",
            "b4.mbstd       -           -        [16, 513, 4, 4]    float32 \n",
            "b4.conv        2364416     16       [16, 512, 4, 4]    float32 \n",
            "b4.fc          4194816     -        [16, 512]          float32 \n",
            "b4.out         513         -        [16, 1]            float32 \n",
            "---            ---         ---      ---                ---     \n",
            "Total          26487809    288      -                  -       \n",
            "\n",
            "Setting up augmentation...\n",
            "Distributing across 1 GPUs...\n",
            "Setting up training phases...\n",
            "Exporting sample images...\n",
            "Initializing logs...\n",
            "2023-12-10 10:53:59.767697: E tensorflow/compiler/xla/stream_executor/cuda/cuda_dnn.cc:9342] Unable to register cuDNN factory: Attempting to register factory for plugin cuDNN when one has already been registered\n",
            "2023-12-10 10:53:59.767754: E tensorflow/compiler/xla/stream_executor/cuda/cuda_fft.cc:609] Unable to register cuFFT factory: Attempting to register factory for plugin cuFFT when one has already been registered\n",
            "2023-12-10 10:53:59.767796: E tensorflow/compiler/xla/stream_executor/cuda/cuda_blas.cc:1518] Unable to register cuBLAS factory: Attempting to register factory for plugin cuBLAS when one has already been registered\n",
            "2023-12-10 10:54:01.396585: W tensorflow/compiler/tf2tensorrt/utils/py_utils.cc:38] TF-TRT Warning: Could not find TensorRT\n",
            "Training for 1000 kimg...\n",
            "\n",
            "tick 0     kimg 0.0      time 5m 28s       sec/tick 11.4    sec/kimg 712.91  maintenance 316.3  cpumem 4.53   gpumem 9.82   reserved 10.19  augment 0.000\n",
            "Evaluating metrics...\n",
            "/usr/local/lib/python3.10/dist-packages/torch/utils/data/dataloader.py:557: UserWarning: This DataLoader will create 3 worker processes in total. Our suggested max number of worker in current system is 2, which is smaller than what this DataLoader is going to create. Please be aware that excessive worker creation might get DataLoader running slow or even freeze, lower the worker number to avoid potential slowness/freeze if necessary.\n",
            "  warnings.warn(_create_warning_msg(\n",
            "{\"results\": {\"fid50k_full\": -1.5767802984931742e+105}, \"metric\": \"fid50k_full\", \"total_time\": 1671.412533044815, \"total_time_str\": \"27m 51s\", \"num_gpus\": 1, \"snapshot_pkl\": \"network-snapshot-000000.pkl\", \"timestamp\": 1702207355.1065733}\n",
            "tick 1     kimg 4.0      time 42m 25s      sec/tick 516.5   sec/kimg 129.12  maintenance 1701.0 cpumem 4.99   gpumem 5.88   reserved 6.97   augment 0.000\n",
            "tick 2     kimg 8.0      time 51m 03s      sec/tick 518.0   sec/kimg 129.51  maintenance 0.1    cpumem 4.99   gpumem 5.88   reserved 6.97   augment 0.000\n",
            "tick 3     kimg 12.0     time 59m 42s      sec/tick 518.2   sec/kimg 129.54  maintenance 0.1    cpumem 4.99   gpumem 5.88   reserved 6.97   augment 0.002\n",
            "tick 4     kimg 16.0     time 1h 08m 20s   sec/tick 518.0   sec/kimg 129.49  maintenance 0.1    cpumem 4.99   gpumem 5.88   reserved 6.97   augment 0.008\n",
            "tick 5     kimg 20.0     time 1h 16m 59s   sec/tick 519.2   sec/kimg 129.81  maintenance 0.1    cpumem 4.99   gpumem 5.88   reserved 6.97   augment 0.013\n",
            "tick 6     kimg 24.0     time 1h 25m 39s   sec/tick 519.5   sec/kimg 129.86  maintenance 0.1    cpumem 4.99   gpumem 5.88   reserved 6.97   augment 0.018\n",
            "tick 7     kimg 28.0     time 1h 34m 18s   sec/tick 519.4   sec/kimg 129.86  maintenance 0.1    cpumem 4.99   gpumem 5.88   reserved 6.97   augment 0.024\n",
            "tick 8     kimg 32.0     time 1h 42m 58s   sec/tick 519.8   sec/kimg 129.95  maintenance 0.1    cpumem 4.99   gpumem 5.88   reserved 6.97   augment 0.030\n",
            "tick 9     kimg 36.0     time 1h 51m 37s   sec/tick 519.0   sec/kimg 129.75  maintenance 0.2    cpumem 4.99   gpumem 5.88   reserved 6.97   augment 0.036\n",
            "tick 10    kimg 40.0     time 2h 00m 16s   sec/tick 518.4   sec/kimg 129.61  maintenance 0.1    cpumem 4.99   gpumem 5.88   reserved 6.97   augment 0.040\n",
            "tick 11    kimg 44.0     time 2h 08m 54s   sec/tick 518.3   sec/kimg 129.57  maintenance 0.1    cpumem 4.99   gpumem 5.88   reserved 6.97   augment 0.043\n",
            "tick 12    kimg 48.0     time 2h 17m 32s   sec/tick 517.3   sec/kimg 129.33  maintenance 0.1    cpumem 4.99   gpumem 5.88   reserved 6.97   augment 0.046\n",
            "tick 13    kimg 52.0     time 2h 26m 09s   sec/tick 517.3   sec/kimg 129.34  maintenance 0.1    cpumem 4.99   gpumem 5.88   reserved 6.97   augment 0.047\n",
            "tick 14    kimg 56.0     time 2h 34m 47s   sec/tick 517.5   sec/kimg 129.38  maintenance 0.1    cpumem 4.99   gpumem 5.88   reserved 6.97   augment 0.049\n",
            "tick 15    kimg 60.0     time 2h 43m 25s   sec/tick 518.1   sec/kimg 129.52  maintenance 0.1    cpumem 4.99   gpumem 5.88   reserved 6.97   augment 0.052\n",
            "tick 16    kimg 64.0     time 2h 52m 04s   sec/tick 518.6   sec/kimg 129.64  maintenance 0.1    cpumem 4.99   gpumem 5.88   reserved 6.97   augment 0.055\n",
            "tick 17    kimg 68.0     time 3h 00m 41s   sec/tick 517.7   sec/kimg 129.42  maintenance 0.2    cpumem 4.99   gpumem 5.88   reserved 6.97   augment 0.058\n",
            "tick 18    kimg 72.0     time 3h 09m 19s   sec/tick 517.7   sec/kimg 129.42  maintenance 0.1    cpumem 4.99   gpumem 5.88   reserved 6.97   augment 0.058\n",
            "tick 19    kimg 76.0     time 3h 17m 58s   sec/tick 518.5   sec/kimg 129.63  maintenance 0.1    cpumem 4.99   gpumem 5.88   reserved 6.97   augment 0.059\n",
            "tick 20    kimg 80.0     time 3h 26m 37s   sec/tick 519.1   sec/kimg 129.78  maintenance 0.1    cpumem 4.99   gpumem 5.88   reserved 6.97   augment 0.060\n",
            "tick 21    kimg 84.0     time 3h 35m 15s   sec/tick 517.5   sec/kimg 129.38  maintenance 0.1    cpumem 4.99   gpumem 5.88   reserved 6.97   augment 0.059\n",
            "tick 22    kimg 88.0     time 3h 43m 52s   sec/tick 516.8   sec/kimg 129.21  maintenance 0.1    cpumem 4.99   gpumem 5.88   reserved 6.97   augment 0.060\n",
            "tick 23    kimg 92.0     time 3h 52m 29s   sec/tick 516.9   sec/kimg 129.22  maintenance 0.1    cpumem 4.99   gpumem 5.88   reserved 6.97   augment 0.061\n",
            "Traceback (most recent call last):\n",
            "\n",
            "Exception ignored in: Exception ignored in sys.unraisablehook"
          ]
        }
      ]
    },
    {
      "cell_type": "code",
      "source": [],
      "metadata": {
        "id": "mYFbibJofhM7"
      },
      "id": "mYFbibJofhM7",
      "execution_count": null,
      "outputs": []
    },
    {
      "cell_type": "code",
      "source": [
        "!python /content/drive/MyDrive/StyleGan3_gray_scale/gen_images.py --outdir=/content/drive/MyDrive/Twarz/zdjecia_wynikowe --seeds=0-10 --network=/content/drive/MyDrive/MNIST/wyniczek/00005-stylegan3-r-four_new_img_24_11-gpus1-batch16-gamma3.2768/network-snapshot-000100.pkl"
      ],
      "metadata": {
        "id": "iZuhM7_mfhRD",
        "outputId": "b4dd2dec-d747-4605-b9bf-bbf52e25da63",
        "colab": {
          "base_uri": "https://localhost:8080/"
        }
      },
      "id": "iZuhM7_mfhRD",
      "execution_count": null,
      "outputs": [
        {
          "output_type": "stream",
          "name": "stdout",
          "text": [
            "Loading networks from \"/content/drive/MyDrive/MNIST/wyniczek/00005-stylegan3-r-four_new_img_24_11-gpus1-batch16-gamma3.2768/network-snapshot-000100.pkl\"...\n",
            "Generating image for seed 0 (0/11) ...\n",
            "Setting up PyTorch plugin \"bias_act_plugin\"... Done.\n",
            "Setting up PyTorch plugin \"filtered_lrelu_plugin\"... Done.\n",
            "torch.Size([16, 16])\n",
            "Generating image for seed 1 (1/11) ...\n",
            "torch.Size([16, 16])\n",
            "Generating image for seed 2 (2/11) ...\n",
            "torch.Size([16, 16])\n",
            "Generating image for seed 3 (3/11) ...\n",
            "torch.Size([16, 16])\n",
            "Generating image for seed 4 (4/11) ...\n",
            "torch.Size([16, 16])\n",
            "Generating image for seed 5 (5/11) ...\n",
            "torch.Size([16, 16])\n",
            "Generating image for seed 6 (6/11) ...\n",
            "torch.Size([16, 16])\n",
            "Generating image for seed 7 (7/11) ...\n",
            "torch.Size([16, 16])\n",
            "Generating image for seed 8 (8/11) ...\n",
            "torch.Size([16, 16])\n",
            "Generating image for seed 9 (9/11) ...\n",
            "torch.Size([16, 16])\n",
            "Generating image for seed 10 (10/11) ...\n",
            "torch.Size([16, 16])\n"
          ]
        }
      ]
    },
    {
      "cell_type": "code",
      "source": [],
      "metadata": {
        "id": "wWrV4S5PfhWF"
      },
      "id": "wWrV4S5PfhWF",
      "execution_count": null,
      "outputs": []
    },
    {
      "cell_type": "code",
      "source": [],
      "metadata": {
        "id": "Vy_bL4xDfhZ2"
      },
      "id": "Vy_bL4xDfhZ2",
      "execution_count": null,
      "outputs": []
    },
    {
      "cell_type": "code",
      "source": [],
      "metadata": {
        "id": "o3jSe4offhdu"
      },
      "id": "o3jSe4offhdu",
      "execution_count": null,
      "outputs": []
    },
    {
      "cell_type": "code",
      "source": [],
      "metadata": {
        "id": "rGX23yPGfhh2"
      },
      "id": "rGX23yPGfhh2",
      "execution_count": null,
      "outputs": []
    },
    {
      "cell_type": "code",
      "execution_count": null,
      "id": "6ee711f7",
      "metadata": {
        "colab": {
          "base_uri": "https://localhost:8080/"
        },
        "id": "6ee711f7",
        "outputId": "0e4601ca-041e-4510-8d91-95d0d305b015",
        "scrolled": true
      },
      "outputs": [
        {
          "name": "stdout",
          "output_type": "stream",
          "text": [
            "\r",
            "  0% 0/5842 [00:00<?, ?it/s]\r",
            "  0% 0/5842 [00:00<?, ?it/s]\n",
            "Traceback (most recent call last):\n",
            "  File \"/content/drive/MyDrive/Style_GAN_3/dataset_tool.py\", line 456, in <module>\n",
            "    convert_dataset() # pylint: disable=no-value-for-parameter\n",
            "  File \"/usr/local/lib/python3.10/dist-packages/click/core.py\", line 1157, in __call__\n",
            "    return self.main(*args, **kwargs)\n",
            "  File \"/usr/local/lib/python3.10/dist-packages/click/core.py\", line 1078, in main\n",
            "    rv = self.invoke(ctx)\n",
            "  File \"/usr/local/lib/python3.10/dist-packages/click/core.py\", line 1434, in invoke\n",
            "    return ctx.invoke(self.callback, **ctx.params)\n",
            "  File \"/usr/local/lib/python3.10/dist-packages/click/core.py\", line 783, in invoke\n",
            "    return __callback(*args, **kwargs)\n",
            "  File \"/usr/local/lib/python3.10/dist-packages/click/decorators.py\", line 33, in new_func\n",
            "    return f(get_current_context(), *args, **kwargs)\n",
            "  File \"/content/drive/MyDrive/Style_GAN_3/dataset_tool.py\", line 412, in convert_dataset\n",
            "    img = transform_image(image['img'])\n",
            "  File \"/content/drive/MyDrive/Style_GAN_3/dataset_tool.py\", line 235, in center_crop\n",
            "    img = PIL.Image.fromarray(img, 'RGB')\n",
            "  File \"/usr/local/lib/python3.10/dist-packages/PIL/Image.py\", line 3103, in fromarray\n",
            "    return frombuffer(mode, size, obj, \"raw\", rawmode, 0, 1)\n",
            "  File \"/usr/local/lib/python3.10/dist-packages/PIL/Image.py\", line 3027, in frombuffer\n",
            "    return frombytes(mode, size, data, decoder_name, args)\n",
            "  File \"/usr/local/lib/python3.10/dist-packages/PIL/Image.py\", line 2969, in frombytes\n",
            "    im.frombytes(data, decoder_name, args)\n",
            "  File \"/usr/local/lib/python3.10/dist-packages/PIL/Image.py\", line 830, in frombytes\n",
            "    raise ValueError(msg)\n",
            "ValueError: not enough image data\n"
          ]
        }
      ],
      "source": [
        "!python /content/drive/MyDrive/Style_GAN_3/dataset_tool.py --source=/content/drive/MyDrive/MNIST/four_img.zip --dest=/content/drive/MyDrive/MNIST/four_new_img.zip --transform=center-crop --resolution=28x28\n"
      ]
    },
    {
      "cell_type": "code",
      "execution_count": null,
      "id": "e2b0b775",
      "metadata": {
        "id": "e2b0b775",
        "outputId": "643036cf-e355-40d3-c6ad-ffa6e4bb0a7f"
      },
      "outputs": [
        {
          "name": "stdout",
          "output_type": "stream",
          "text": [
            "100%|█████████████████████████████████████| 5842/5842 [00:02<00:00, 2044.61it/s]\n"
          ]
        }
      ],
      "source": [
        "!python stylegan3-main/dataset_tool.py --source=four_img.zip --dest=four_new_img.zip --transform=center-crop --resolution=16x16\n"
      ]
    },
    {
      "cell_type": "code",
      "execution_count": null,
      "id": "0020c699",
      "metadata": {
        "id": "0020c699"
      },
      "outputs": [],
      "source": []
    }
  ],
  "metadata": {
    "colab": {
      "provenance": [],
      "gpuType": "T4"
    },
    "kernelspec": {
      "display_name": "py39",
      "language": "python",
      "name": "py39"
    },
    "language_info": {
      "codemirror_mode": {
        "name": "ipython",
        "version": 3
      },
      "file_extension": ".py",
      "mimetype": "text/x-python",
      "name": "python",
      "nbconvert_exporter": "python",
      "pygments_lexer": "ipython3",
      "version": "3.9.12"
    },
    "accelerator": "GPU"
  },
  "nbformat": 4,
  "nbformat_minor": 5
}