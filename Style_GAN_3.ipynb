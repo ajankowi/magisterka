{
  "cells": [
    {
      "cell_type": "code",
      "execution_count": 1,
      "id": "e139a52d",
      "metadata": {
        "colab": {
          "base_uri": "https://localhost:8080/"
        },
        "id": "e139a52d",
        "outputId": "d95cdc88-9974-44cd-e6d9-ae0695bb611e"
      },
      "outputs": [
        {
          "output_type": "stream",
          "name": "stdout",
          "text": [
            "3.10.12 (main, Nov 20 2023, 15:14:05) [GCC 11.4.0]\n"
          ]
        }
      ],
      "source": [
        "import sys\n",
        "print(sys.version)"
      ]
    },
    {
      "cell_type": "code",
      "execution_count": 5,
      "id": "OG3xPR0PjOoi",
      "metadata": {
        "colab": {
          "base_uri": "https://localhost:8080/"
        },
        "id": "OG3xPR0PjOoi",
        "outputId": "a7da2d32-332d-450f-f6a5-d36fa4c708ac"
      },
      "outputs": [
        {
          "output_type": "stream",
          "name": "stdout",
          "text": [
            "Mounted at /content/drive\n"
          ]
        }
      ],
      "source": [
        "from google.colab import drive\n",
        "drive.mount(\"/content/drive\", force_remount=True)"
      ]
    },
    {
      "cell_type": "code",
      "execution_count": 2,
      "id": "e091328c",
      "metadata": {
        "id": "e091328c"
      },
      "outputs": [],
      "source": [
        "import matplotlib.pyplot as plt\n",
        "import numpy as np\n",
        "import os\n",
        "\n",
        "from PIL import Image"
      ]
    },
    {
      "cell_type": "code",
      "source": [
        "!pip install --upgrade torch==2.1.0+cu121 torchvision==0.16.0+cu121 -f https://download.pytorch.org/whl/torch_stable.html\n",
        "\n",
        "\n",
        "#!pip install jaxlib==0.4.0\n",
        "#!pip install torch==1.11.0 torchvision==0.12.0"
      ],
      "metadata": {
        "id": "7DXgdZgS-AKX",
        "colab": {
          "base_uri": "https://localhost:8080/"
        },
        "outputId": "3df070f0-36fe-4523-f979-61bb0ecb067b"
      },
      "id": "7DXgdZgS-AKX",
      "execution_count": 3,
      "outputs": [
        {
          "output_type": "stream",
          "name": "stdout",
          "text": [
            "Looking in links: https://download.pytorch.org/whl/torch_stable.html\n",
            "Collecting torch==2.1.0+cu121\n",
            "  Downloading https://download.pytorch.org/whl/cu121/torch-2.1.0%2Bcu121-cp310-cp310-linux_x86_64.whl (2200.6 MB)\n",
            "\u001b[2K     \u001b[90m━━━━━━━━━━━━━━━━━━━━━━━━━━━━━━━━━━━━━━━━\u001b[0m \u001b[32m2.2/2.2 GB\u001b[0m \u001b[31m742.7 kB/s\u001b[0m eta \u001b[36m0:00:00\u001b[0m\n",
            "\u001b[?25hCollecting torchvision==0.16.0+cu121\n",
            "  Downloading https://download.pytorch.org/whl/cu121/torchvision-0.16.0%2Bcu121-cp310-cp310-linux_x86_64.whl (7.0 MB)\n",
            "\u001b[2K     \u001b[90m━━━━━━━━━━━━━━━━━━━━━━━━━━━━━━━━━━━━━━━━\u001b[0m \u001b[32m7.0/7.0 MB\u001b[0m \u001b[31m69.6 MB/s\u001b[0m eta \u001b[36m0:00:00\u001b[0m\n",
            "\u001b[?25hRequirement already satisfied: filelock in /usr/local/lib/python3.10/dist-packages (from torch==2.1.0+cu121) (3.13.3)\n",
            "Requirement already satisfied: typing-extensions in /usr/local/lib/python3.10/dist-packages (from torch==2.1.0+cu121) (4.10.0)\n",
            "Requirement already satisfied: sympy in /usr/local/lib/python3.10/dist-packages (from torch==2.1.0+cu121) (1.12)\n",
            "Requirement already satisfied: networkx in /usr/local/lib/python3.10/dist-packages (from torch==2.1.0+cu121) (3.2.1)\n",
            "Requirement already satisfied: jinja2 in /usr/local/lib/python3.10/dist-packages (from torch==2.1.0+cu121) (3.1.3)\n",
            "Requirement already satisfied: fsspec in /usr/local/lib/python3.10/dist-packages (from torch==2.1.0+cu121) (2023.6.0)\n",
            "Collecting triton==2.1.0 (from torch==2.1.0+cu121)\n",
            "  Downloading triton-2.1.0-0-cp310-cp310-manylinux2014_x86_64.manylinux_2_17_x86_64.whl (89.2 MB)\n",
            "\u001b[2K     \u001b[90m━━━━━━━━━━━━━━━━━━━━━━━━━━━━━━━━━━━━━━━━\u001b[0m \u001b[32m89.2/89.2 MB\u001b[0m \u001b[31m9.3 MB/s\u001b[0m eta \u001b[36m0:00:00\u001b[0m\n",
            "\u001b[?25hRequirement already satisfied: numpy in /usr/local/lib/python3.10/dist-packages (from torchvision==0.16.0+cu121) (1.25.2)\n",
            "Requirement already satisfied: requests in /usr/local/lib/python3.10/dist-packages (from torchvision==0.16.0+cu121) (2.31.0)\n",
            "Requirement already satisfied: pillow!=8.3.*,>=5.3.0 in /usr/local/lib/python3.10/dist-packages (from torchvision==0.16.0+cu121) (9.4.0)\n",
            "Requirement already satisfied: MarkupSafe>=2.0 in /usr/local/lib/python3.10/dist-packages (from jinja2->torch==2.1.0+cu121) (2.1.5)\n",
            "Requirement already satisfied: charset-normalizer<4,>=2 in /usr/local/lib/python3.10/dist-packages (from requests->torchvision==0.16.0+cu121) (3.3.2)\n",
            "Requirement already satisfied: idna<4,>=2.5 in /usr/local/lib/python3.10/dist-packages (from requests->torchvision==0.16.0+cu121) (3.6)\n",
            "Requirement already satisfied: urllib3<3,>=1.21.1 in /usr/local/lib/python3.10/dist-packages (from requests->torchvision==0.16.0+cu121) (2.0.7)\n",
            "Requirement already satisfied: certifi>=2017.4.17 in /usr/local/lib/python3.10/dist-packages (from requests->torchvision==0.16.0+cu121) (2024.2.2)\n",
            "Requirement already satisfied: mpmath>=0.19 in /usr/local/lib/python3.10/dist-packages (from sympy->torch==2.1.0+cu121) (1.3.0)\n",
            "Installing collected packages: triton, torch, torchvision\n",
            "  Attempting uninstall: triton\n",
            "    Found existing installation: triton 2.2.0\n",
            "    Uninstalling triton-2.2.0:\n",
            "      Successfully uninstalled triton-2.2.0\n",
            "  Attempting uninstall: torch\n",
            "    Found existing installation: torch 2.2.1+cu121\n",
            "    Uninstalling torch-2.2.1+cu121:\n",
            "      Successfully uninstalled torch-2.2.1+cu121\n",
            "  Attempting uninstall: torchvision\n",
            "    Found existing installation: torchvision 0.17.1+cu121\n",
            "    Uninstalling torchvision-0.17.1+cu121:\n",
            "      Successfully uninstalled torchvision-0.17.1+cu121\n",
            "\u001b[31mERROR: pip's dependency resolver does not currently take into account all the packages that are installed. This behaviour is the source of the following dependency conflicts.\n",
            "torchaudio 2.2.1+cu121 requires torch==2.2.1, but you have torch 2.1.0+cu121 which is incompatible.\n",
            "torchtext 0.17.1 requires torch==2.2.1, but you have torch 2.1.0+cu121 which is incompatible.\u001b[0m\u001b[31m\n",
            "\u001b[0mSuccessfully installed torch-2.1.0+cu121 torchvision-0.16.0+cu121 triton-2.1.0\n"
          ]
        }
      ]
    },
    {
      "cell_type": "code",
      "source": [
        "!git clone https://github.com/NVlabs/stylegan3.git\n",
        "!pip install ninja"
      ],
      "metadata": {
        "id": "7Jmuj3AtfFmh",
        "outputId": "d8391c19-c8e4-4c68-e0d3-4feee0d15497",
        "colab": {
          "base_uri": "https://localhost:8080/"
        }
      },
      "id": "7Jmuj3AtfFmh",
      "execution_count": 4,
      "outputs": [
        {
          "output_type": "stream",
          "name": "stdout",
          "text": [
            "Cloning into 'stylegan3'...\n",
            "remote: Enumerating objects: 212, done.\u001b[K\n",
            "remote: Counting objects: 100% (5/5), done.\u001b[K\n",
            "remote: Compressing objects: 100% (5/5), done.\u001b[K\n",
            "remote: Total 212 (delta 0), reused 1 (delta 0), pack-reused 207\u001b[K\n",
            "Receiving objects: 100% (212/212), 4.16 MiB | 7.68 MiB/s, done.\n",
            "Resolving deltas: 100% (101/101), done.\n",
            "Collecting ninja\n",
            "  Downloading ninja-1.11.1.1-py2.py3-none-manylinux1_x86_64.manylinux_2_5_x86_64.whl (307 kB)\n",
            "\u001b[2K     \u001b[90m━━━━━━━━━━━━━━━━━━━━━━━━━━━━━━━━━━━━━━━━\u001b[0m \u001b[32m307.2/307.2 kB\u001b[0m \u001b[31m6.9 MB/s\u001b[0m eta \u001b[36m0:00:00\u001b[0m\n",
            "\u001b[?25hInstalling collected packages: ninja\n",
            "Successfully installed ninja-1.11.1.1\n"
          ]
        }
      ]
    },
    {
      "cell_type": "code",
      "execution_count": null,
      "id": "1FpIT6hKjVnu",
      "metadata": {
        "id": "1FpIT6hKjVnu"
      },
      "outputs": [],
      "source": [
        "MNIST_zip = '/content/drive/MyDrive/MNIST/four_img.zip'\n",
        "twarz_zip = '/content/drive/MyDrive/Twarz/twarz_1.zip'"
      ]
    },
    {
      "cell_type": "code",
      "source": [],
      "metadata": {
        "id": "5J4GPQFmoMSQ"
      },
      "id": "5J4GPQFmoMSQ",
      "execution_count": null,
      "outputs": []
    },
    {
      "cell_type": "code",
      "source": [
        "!ls /content/stylegan3"
      ],
      "metadata": {
        "id": "J_o5QxFHfgyj",
        "outputId": "2ca4f4b2-98b0-4ad0-8b7f-2777d3b9fffa",
        "colab": {
          "base_uri": "https://localhost:8080/"
        }
      },
      "id": "J_o5QxFHfgyj",
      "execution_count": 6,
      "outputs": [
        {
          "output_type": "stream",
          "name": "stdout",
          "text": [
            "avg_spectra.py\t dnnlib      environment.yml  gui_utils    metrics\ttraining       viz\n",
            "calc_metrics.py  Dockerfile  gen_images.py    legacy.py    README.md\ttrain.py\n",
            "dataset_tool.py  docs\t     gen_video.py     LICENSE.txt  torch_utils\tvisualizer.py\n"
          ]
        }
      ]
    },
    {
      "cell_type": "code",
      "source": [
        "import sys\n",
        "sys.path.insert(0, \"/content/stylegan3\")\n",
        "import pickle\n",
        "import os\n",
        "import numpy as np\n",
        "import PIL.Image\n",
        "from IPython.display import Image\n",
        "import matplotlib.pyplot as plt\n",
        "import IPython.display\n",
        "import torch\n",
        "import dnnlib\n",
        "import legacy"
      ],
      "metadata": {
        "id": "XEInyVUJfg3B"
      },
      "id": "XEInyVUJfg3B",
      "execution_count": 7,
      "outputs": []
    },
    {
      "cell_type": "code",
      "source": [
        "device = torch.device('cuda')"
      ],
      "metadata": {
        "id": "rUQpo8kLfg9C"
      },
      "id": "rUQpo8kLfg9C",
      "execution_count": 8,
      "outputs": []
    },
    {
      "cell_type": "code",
      "source": [
        "print(f\"Using device: {device}\")\n",
        "\n",
        "num_of_gpus = torch.cuda.device_count()\n",
        "print(num_of_gpus)\n"
      ],
      "metadata": {
        "id": "-LqvcmnffhBS",
        "outputId": "15de5604-69d8-4a1e-b746-ea081042b40f",
        "colab": {
          "base_uri": "https://localhost:8080/"
        }
      },
      "id": "-LqvcmnffhBS",
      "execution_count": 9,
      "outputs": [
        {
          "output_type": "stream",
          "name": "stdout",
          "text": [
            "Using device: cuda\n",
            "1\n"
          ]
        }
      ]
    },
    {
      "cell_type": "code",
      "source": [
        "!python /content/drive/MyDrive/Magisterka/stylegan3-main/dataset_tool.py --source=/content/drive/MyDrive/Magisterka/ORL_Database/1/s1.zip --dest=/content/drive/MyDrive/Magisterka/ORL_Database_DONE/1/s1.zip --transform=center-crop --resolution=64x64\n"
      ],
      "metadata": {
        "id": "Tk2L67PzfhFO",
        "colab": {
          "base_uri": "https://localhost:8080/"
        },
        "outputId": "4b5386b9-bee0-48e2-f01b-4c9bb9d25c89"
      },
      "id": "Tk2L67PzfhFO",
      "execution_count": 11,
      "outputs": [
        {
          "output_type": "stream",
          "name": "stdout",
          "text": [
            "100% 140/140 [00:00<00:00, 176.05it/s]\n"
          ]
        }
      ]
    },
    {
      "cell_type": "code",
      "source": [
        "!python /content/drive/MyDrive/Magisterka/stylegan3-main/train.py --outdir=/content/drive/MyDrive/Magisterka/ORL_Model/1 --data=/content/drive/MyDrive/Magisterka/ORL_Database_DONE/1/s1.zip  --gpus=1 --cfg=stylegan2 --batch=16 --gamma=3.2768 --kimg=1000 --snap=50"
      ],
      "metadata": {
        "id": "JFWFfWigfhI8",
        "colab": {
          "base_uri": "https://localhost:8080/"
        },
        "outputId": "c48eb545-8f91-4a4d-de62-bbc1b4c882c2"
      },
      "id": "JFWFfWigfhI8",
      "execution_count": 12,
      "outputs": [
        {
          "output_type": "stream",
          "name": "stdout",
          "text": [
            "\n",
            "Training options:\n",
            "{\n",
            "  \"G_kwargs\": {\n",
            "    \"class_name\": \"training.networks_stylegan2.Generator\",\n",
            "    \"z_dim\": 512,\n",
            "    \"w_dim\": 512,\n",
            "    \"mapping_kwargs\": {\n",
            "      \"num_layers\": 8\n",
            "    },\n",
            "    \"channel_base\": 32768,\n",
            "    \"channel_max\": 512,\n",
            "    \"fused_modconv_default\": \"inference_only\"\n",
            "  },\n",
            "  \"D_kwargs\": {\n",
            "    \"class_name\": \"training.networks_stylegan2.Discriminator\",\n",
            "    \"block_kwargs\": {\n",
            "      \"freeze_layers\": 0\n",
            "    },\n",
            "    \"mapping_kwargs\": {},\n",
            "    \"epilogue_kwargs\": {\n",
            "      \"mbstd_group_size\": 4\n",
            "    },\n",
            "    \"channel_base\": 32768,\n",
            "    \"channel_max\": 512\n",
            "  },\n",
            "  \"G_opt_kwargs\": {\n",
            "    \"class_name\": \"torch.optim.Adam\",\n",
            "    \"betas\": [\n",
            "      0,\n",
            "      0.99\n",
            "    ],\n",
            "    \"eps\": 1e-08,\n",
            "    \"lr\": 0.002\n",
            "  },\n",
            "  \"D_opt_kwargs\": {\n",
            "    \"class_name\": \"torch.optim.Adam\",\n",
            "    \"betas\": [\n",
            "      0,\n",
            "      0.99\n",
            "    ],\n",
            "    \"eps\": 1e-08,\n",
            "    \"lr\": 0.002\n",
            "  },\n",
            "  \"loss_kwargs\": {\n",
            "    \"class_name\": \"training.loss.StyleGAN2Loss\",\n",
            "    \"r1_gamma\": 3.2768,\n",
            "    \"style_mixing_prob\": 0.9,\n",
            "    \"pl_weight\": 2,\n",
            "    \"pl_no_weight_grad\": true\n",
            "  },\n",
            "  \"data_loader_kwargs\": {\n",
            "    \"pin_memory\": true,\n",
            "    \"prefetch_factor\": 2,\n",
            "    \"num_workers\": 3\n",
            "  },\n",
            "  \"training_set_kwargs\": {\n",
            "    \"class_name\": \"training.dataset.ImageFolderDataset\",\n",
            "    \"path\": \"/content/drive/MyDrive/Magisterka/ORL_Database_DONE/1/s1.zip\",\n",
            "    \"use_labels\": false,\n",
            "    \"max_size\": 140,\n",
            "    \"xflip\": false,\n",
            "    \"resolution\": 64,\n",
            "    \"random_seed\": 0\n",
            "  },\n",
            "  \"num_gpus\": 1,\n",
            "  \"batch_size\": 16,\n",
            "  \"batch_gpu\": 16,\n",
            "  \"metrics\": [\n",
            "    \"fid50k_full\"\n",
            "  ],\n",
            "  \"total_kimg\": 1000,\n",
            "  \"kimg_per_tick\": 4,\n",
            "  \"image_snapshot_ticks\": 50,\n",
            "  \"network_snapshot_ticks\": 50,\n",
            "  \"random_seed\": 0,\n",
            "  \"ema_kimg\": 5.0,\n",
            "  \"G_reg_interval\": 4,\n",
            "  \"augment_kwargs\": {\n",
            "    \"class_name\": \"training.augment.AugmentPipe\",\n",
            "    \"xflip\": 1,\n",
            "    \"rotate90\": 1,\n",
            "    \"xint\": 1,\n",
            "    \"scale\": 1,\n",
            "    \"rotate\": 1,\n",
            "    \"aniso\": 1,\n",
            "    \"xfrac\": 1,\n",
            "    \"brightness\": 1,\n",
            "    \"contrast\": 1,\n",
            "    \"lumaflip\": 1,\n",
            "    \"hue\": 1,\n",
            "    \"saturation\": 1\n",
            "  },\n",
            "  \"ada_target\": 0.6,\n",
            "  \"run_dir\": \"/content/drive/MyDrive/Magisterka/ORL_Model/1/00000-stylegan2-s1-gpus1-batch16-gamma3.2768\"\n",
            "}\n",
            "\n",
            "Output directory:    /content/drive/MyDrive/Magisterka/ORL_Model/1/00000-stylegan2-s1-gpus1-batch16-gamma3.2768\n",
            "Number of GPUs:      1\n",
            "Batch size:          16 images\n",
            "Training duration:   1000 kimg\n",
            "Dataset path:        /content/drive/MyDrive/Magisterka/ORL_Database_DONE/1/s1.zip\n",
            "Dataset size:        140 images\n",
            "Dataset resolution:  64\n",
            "Dataset labels:      False\n",
            "Dataset x-flips:     False\n",
            "\n",
            "Creating output directory...\n",
            "Launching processes...\n",
            "Loading training set...\n",
            "/usr/local/lib/python3.10/dist-packages/torch/utils/data/sampler.py:64: UserWarning: `data_source` argument is not used and will be removed in 2.2.0.You may still have custom implementation that utilizes it.\n",
            "  warnings.warn(\"`data_source` argument is not used and will be removed in 2.2.0.\"\n",
            "/usr/local/lib/python3.10/dist-packages/torch/utils/data/dataloader.py:557: UserWarning: This DataLoader will create 3 worker processes in total. Our suggested max number of worker in current system is 2, which is smaller than what this DataLoader is going to create. Please be aware that excessive worker creation might get DataLoader running slow or even freeze, lower the worker number to avoid potential slowness/freeze if necessary.\n",
            "  warnings.warn(_create_warning_msg(\n",
            "\n",
            "Num images:  140\n",
            "Image shape: [1, 64, 64]\n",
            "Label shape: [0]\n",
            "\n",
            "Constructing networks...\n",
            "Setting up PyTorch plugin \"bias_act_plugin\"... Done.\n",
            "Setting up PyTorch plugin \"upfirdn2d_plugin\"... Done.\n",
            "\n",
            "Generator            Parameters  Buffers  Output shape       Datatype\n",
            "---                  ---         ---      ---                ---     \n",
            "mapping.fc0          262656      -        [16, 512]          float32 \n",
            "mapping.fc1          262656      -        [16, 512]          float32 \n",
            "mapping.fc2          262656      -        [16, 512]          float32 \n",
            "mapping.fc3          262656      -        [16, 512]          float32 \n",
            "mapping.fc4          262656      -        [16, 512]          float32 \n",
            "mapping.fc5          262656      -        [16, 512]          float32 \n",
            "mapping.fc6          262656      -        [16, 512]          float32 \n",
            "mapping.fc7          262656      -        [16, 512]          float32 \n",
            "mapping              -           512      [16, 10, 512]      float32 \n",
            "synthesis.b4.conv1   2622465     32       [16, 512, 4, 4]    float32 \n",
            "synthesis.b4.torgb   263169      -        [16, 1, 4, 4]      float32 \n",
            "synthesis.b4:0       8192        16       [16, 512, 4, 4]    float32 \n",
            "synthesis.b4:1       -           -        [16, 1, 4, 4]      float32 \n",
            "synthesis.b8.conv0   2622465     80       [16, 512, 8, 8]    float16 \n",
            "synthesis.b8.conv1   2622465     80       [16, 512, 8, 8]    float16 \n",
            "synthesis.b8.torgb   263169      -        [16, 1, 8, 8]      float16 \n",
            "synthesis.b8:0       -           16       [16, 512, 8, 8]    float16 \n",
            "synthesis.b8:1       -           -        [16, 1, 8, 8]      float32 \n",
            "synthesis.b16.conv0  2622465     272      [16, 512, 16, 16]  float16 \n",
            "synthesis.b16.conv1  2622465     272      [16, 512, 16, 16]  float16 \n",
            "synthesis.b16.torgb  263169      -        [16, 1, 16, 16]    float16 \n",
            "synthesis.b16:0      -           16       [16, 512, 16, 16]  float16 \n",
            "synthesis.b16:1      -           -        [16, 1, 16, 16]    float32 \n",
            "synthesis.b32.conv0  2622465     1040     [16, 512, 32, 32]  float16 \n",
            "synthesis.b32.conv1  2622465     1040     [16, 512, 32, 32]  float16 \n",
            "synthesis.b32.torgb  263169      -        [16, 1, 32, 32]    float16 \n",
            "synthesis.b32:0      -           16       [16, 512, 32, 32]  float16 \n",
            "synthesis.b32:1      -           -        [16, 1, 32, 32]    float32 \n",
            "synthesis.b64.conv0  2622465     4112     [16, 512, 64, 64]  float16 \n",
            "synthesis.b64.conv1  2622465     4112     [16, 512, 64, 64]  float16 \n",
            "synthesis.b64.torgb  263169      -        [16, 1, 64, 64]    float16 \n",
            "synthesis.b64:0      -           16       [16, 512, 64, 64]  float16 \n",
            "synthesis.b64:1      -           -        [16, 1, 64, 64]    float32 \n",
            "---                  ---         ---      ---                ---     \n",
            "Total                27027470    11632    -                  -       \n",
            "\n",
            "\n",
            "Discriminator  Parameters  Buffers  Output shape       Datatype\n",
            "---            ---         ---      ---                ---     \n",
            "b64.fromrgb    1024        16       [16, 512, 64, 64]  float16 \n",
            "b64.skip       262144      16       [16, 512, 32, 32]  float16 \n",
            "b64.conv0      2359808     16       [16, 512, 64, 64]  float16 \n",
            "b64.conv1      2359808     16       [16, 512, 32, 32]  float16 \n",
            "b64            -           16       [16, 512, 32, 32]  float16 \n",
            "b32.skip       262144      16       [16, 512, 16, 16]  float16 \n",
            "b32.conv0      2359808     16       [16, 512, 32, 32]  float16 \n",
            "b32.conv1      2359808     16       [16, 512, 16, 16]  float16 \n",
            "b32            -           16       [16, 512, 16, 16]  float16 \n",
            "b16.skip       262144      16       [16, 512, 8, 8]    float16 \n",
            "b16.conv0      2359808     16       [16, 512, 16, 16]  float16 \n",
            "b16.conv1      2359808     16       [16, 512, 8, 8]    float16 \n",
            "b16            -           16       [16, 512, 8, 8]    float16 \n",
            "b8.skip        262144      16       [16, 512, 4, 4]    float16 \n",
            "b8.conv0       2359808     16       [16, 512, 8, 8]    float16 \n",
            "b8.conv1       2359808     16       [16, 512, 4, 4]    float16 \n",
            "b8             -           16       [16, 512, 4, 4]    float16 \n",
            "b4.mbstd       -           -        [16, 513, 4, 4]    float32 \n",
            "b4.conv        2364416     16       [16, 512, 4, 4]    float32 \n",
            "b4.fc          4194816     -        [16, 512]          float32 \n",
            "b4.out         513         -        [16, 1]            float32 \n",
            "---            ---         ---      ---                ---     \n",
            "Total          26487809    288      -                  -       \n",
            "\n",
            "Setting up augmentation...\n",
            "Distributing across 1 GPUs...\n",
            "Setting up training phases...\n",
            "Exporting sample images...\n",
            "Initializing logs...\n",
            "2024-04-08 17:01:28.894662: E external/local_xla/xla/stream_executor/cuda/cuda_dnn.cc:9261] Unable to register cuDNN factory: Attempting to register factory for plugin cuDNN when one has already been registered\n",
            "2024-04-08 17:01:28.894736: E external/local_xla/xla/stream_executor/cuda/cuda_fft.cc:607] Unable to register cuFFT factory: Attempting to register factory for plugin cuFFT when one has already been registered\n",
            "2024-04-08 17:01:29.025680: E external/local_xla/xla/stream_executor/cuda/cuda_blas.cc:1515] Unable to register cuBLAS factory: Attempting to register factory for plugin cuBLAS when one has already been registered\n",
            "2024-04-08 17:01:31.685566: W tensorflow/compiler/tf2tensorrt/utils/py_utils.cc:38] TF-TRT Warning: Could not find TensorRT\n",
            "Training for 1000 kimg...\n",
            "\n",
            "tick 0     kimg 0.0      time 2m 17s       sec/tick 10.5    sec/kimg 656.33  maintenance 126.7  cpumem 2.13   gpumem 11.42  reserved 11.73  augment 0.000\n",
            "Evaluating metrics...\n",
            "/usr/local/lib/python3.10/dist-packages/torch/utils/data/dataloader.py:557: UserWarning: This DataLoader will create 3 worker processes in total. Our suggested max number of worker in current system is 2, which is smaller than what this DataLoader is going to create. Please be aware that excessive worker creation might get DataLoader running slow or even freeze, lower the worker number to avoid potential slowness/freeze if necessary.\n",
            "  warnings.warn(_create_warning_msg(\n",
            "{\"results\": {\"fid50k_full\": -6.159298040988962e+102}, \"metric\": \"fid50k_full\", \"total_time\": 620.3108599185944, \"total_time_str\": \"10m 20s\", \"num_gpus\": 1, \"snapshot_pkl\": \"network-snapshot-000000.pkl\", \"timestamp\": 1712596332.8192387}\n",
            "tick 1     kimg 4.0      time 15m 35s      sec/tick 169.4   sec/kimg 42.35   maintenance 628.6  cpumem 2.61   gpumem 5.50   reserved 5.70   augment 0.005\n",
            "tick 2     kimg 8.0      time 18m 25s      sec/tick 169.6   sec/kimg 42.41   maintenance 0.1    cpumem 2.61   gpumem 3.79   reserved 4.01   augment 0.009\n",
            "tick 3     kimg 12.0     time 21m 14s      sec/tick 169.3   sec/kimg 42.32   maintenance 0.1    cpumem 2.61   gpumem 3.79   reserved 4.01   augment 0.013\n",
            "tick 4     kimg 16.0     time 24m 04s      sec/tick 169.9   sec/kimg 42.47   maintenance 0.1    cpumem 2.61   gpumem 3.79   reserved 4.01   augment 0.017\n",
            "tick 5     kimg 20.0     time 26m 54s      sec/tick 169.5   sec/kimg 42.38   maintenance 0.1    cpumem 2.61   gpumem 3.79   reserved 4.01   augment 0.020\n",
            "tick 6     kimg 24.0     time 29m 44s      sec/tick 169.6   sec/kimg 42.40   maintenance 0.1    cpumem 2.61   gpumem 3.79   reserved 4.01   augment 0.022\n",
            "tick 7     kimg 28.0     time 32m 33s      sec/tick 169.6   sec/kimg 42.39   maintenance 0.1    cpumem 2.61   gpumem 3.79   reserved 4.01   augment 0.023\n",
            "tick 8     kimg 32.0     time 35m 23s      sec/tick 169.7   sec/kimg 42.43   maintenance 0.1    cpumem 2.61   gpumem 3.79   reserved 4.01   augment 0.024\n",
            "tick 9     kimg 36.0     time 38m 13s      sec/tick 169.3   sec/kimg 42.32   maintenance 0.2    cpumem 2.61   gpumem 3.79   reserved 4.01   augment 0.025\n",
            "tick 10    kimg 40.0     time 41m 03s      sec/tick 169.8   sec/kimg 42.46   maintenance 0.1    cpumem 2.61   gpumem 3.79   reserved 4.01   augment 0.026\n",
            "tick 11    kimg 44.0     time 43m 52s      sec/tick 169.3   sec/kimg 42.33   maintenance 0.1    cpumem 2.61   gpumem 3.79   reserved 4.01   augment 0.026\n",
            "tick 12    kimg 48.0     time 46m 42s      sec/tick 169.9   sec/kimg 42.46   maintenance 0.1    cpumem 2.61   gpumem 3.79   reserved 4.01   augment 0.026\n",
            "tick 13    kimg 52.0     time 49m 31s      sec/tick 169.5   sec/kimg 42.38   maintenance 0.1    cpumem 2.61   gpumem 3.79   reserved 4.01   augment 0.026\n",
            "tick 14    kimg 56.0     time 52m 21s      sec/tick 169.6   sec/kimg 42.39   maintenance 0.1    cpumem 2.61   gpumem 3.79   reserved 4.01   augment 0.027\n",
            "tick 15    kimg 60.0     time 55m 11s      sec/tick 169.5   sec/kimg 42.38   maintenance 0.1    cpumem 2.61   gpumem 3.79   reserved 4.01   augment 0.026\n",
            "tick 16    kimg 64.0     time 58m 01s      sec/tick 169.8   sec/kimg 42.45   maintenance 0.1    cpumem 2.61   gpumem 3.79   reserved 4.01   augment 0.027\n",
            "tick 17    kimg 68.0     time 1h 00m 50s   sec/tick 169.2   sec/kimg 42.30   maintenance 0.2    cpumem 2.61   gpumem 3.79   reserved 4.01   augment 0.027\n",
            "tick 18    kimg 72.0     time 1h 03m 40s   sec/tick 169.9   sec/kimg 42.46   maintenance 0.1    cpumem 2.61   gpumem 3.79   reserved 4.01   augment 0.027\n",
            "tick 19    kimg 76.0     time 1h 06m 29s   sec/tick 169.3   sec/kimg 42.33   maintenance 0.1    cpumem 2.61   gpumem 3.79   reserved 4.01   augment 0.027\n",
            "tick 20    kimg 80.0     time 1h 09m 19s   sec/tick 169.9   sec/kimg 42.46   maintenance 0.1    cpumem 2.61   gpumem 3.79   reserved 4.01   augment 0.026\n",
            "tick 21    kimg 84.0     time 1h 12m 09s   sec/tick 169.5   sec/kimg 42.39   maintenance 0.1    cpumem 2.61   gpumem 3.79   reserved 4.01   augment 0.026\n",
            "tick 22    kimg 88.0     time 1h 14m 59s   sec/tick 169.6   sec/kimg 42.39   maintenance 0.1    cpumem 2.61   gpumem 3.79   reserved 4.01   augment 0.025\n",
            "tick 23    kimg 92.0     time 1h 17m 48s   sec/tick 169.6   sec/kimg 42.39   maintenance 0.1    cpumem 2.61   gpumem 3.79   reserved 4.01   augment 0.025\n",
            "tick 24    kimg 96.0     time 1h 20m 38s   sec/tick 169.8   sec/kimg 42.44   maintenance 0.1    cpumem 2.61   gpumem 3.79   reserved 4.01   augment 0.023\n",
            "tick 25    kimg 100.0    time 1h 23m 28s   sec/tick 169.4   sec/kimg 42.34   maintenance 0.2    cpumem 2.61   gpumem 3.79   reserved 4.01   augment 0.024\n",
            "tick 26    kimg 104.0    time 1h 26m 18s   sec/tick 169.9   sec/kimg 42.48   maintenance 0.1    cpumem 2.61   gpumem 3.79   reserved 4.01   augment 0.023\n",
            "tick 27    kimg 108.0    time 1h 29m 07s   sec/tick 169.3   sec/kimg 42.33   maintenance 0.1    cpumem 2.61   gpumem 3.79   reserved 4.01   augment 0.021\n",
            "tick 28    kimg 112.0    time 1h 31m 57s   sec/tick 169.8   sec/kimg 42.46   maintenance 0.1    cpumem 2.61   gpumem 3.79   reserved 4.01   augment 0.021\n",
            "tick 29    kimg 116.0    time 1h 34m 47s   sec/tick 169.5   sec/kimg 42.37   maintenance 0.1    cpumem 2.61   gpumem 3.79   reserved 4.01   augment 0.019\n",
            "tick 30    kimg 120.0    time 1h 37m 36s   sec/tick 169.6   sec/kimg 42.40   maintenance 0.1    cpumem 2.61   gpumem 3.79   reserved 4.01   augment 0.018\n",
            "tick 31    kimg 124.0    time 1h 40m 26s   sec/tick 169.6   sec/kimg 42.39   maintenance 0.1    cpumem 2.61   gpumem 3.79   reserved 4.01   augment 0.018\n",
            "tick 32    kimg 128.0    time 1h 43m 16s   sec/tick 169.8   sec/kimg 42.45   maintenance 0.1    cpumem 2.61   gpumem 3.79   reserved 4.01   augment 0.016\n",
            "tick 33    kimg 132.0    time 1h 46m 05s   sec/tick 169.3   sec/kimg 42.33   maintenance 0.2    cpumem 2.61   gpumem 3.79   reserved 4.01   augment 0.014\n",
            "tick 34    kimg 136.0    time 1h 48m 55s   sec/tick 169.9   sec/kimg 42.48   maintenance 0.1    cpumem 2.61   gpumem 3.79   reserved 4.01   augment 0.014\n",
            "tick 35    kimg 140.0    time 1h 51m 45s   sec/tick 169.3   sec/kimg 42.33   maintenance 0.1    cpumem 2.61   gpumem 3.79   reserved 4.01   augment 0.013\n",
            "tick 36    kimg 144.0    time 1h 54m 35s   sec/tick 169.9   sec/kimg 42.47   maintenance 0.1    cpumem 2.61   gpumem 3.79   reserved 4.01   augment 0.012\n",
            "tick 37    kimg 148.0    time 1h 57m 25s   sec/tick 169.6   sec/kimg 42.39   maintenance 0.1    cpumem 2.61   gpumem 3.79   reserved 4.01   augment 0.012\n",
            "tick 38    kimg 152.0    time 2h 00m 14s   sec/tick 169.6   sec/kimg 42.39   maintenance 0.1    cpumem 2.61   gpumem 3.79   reserved 4.01   augment 0.012\n",
            "tick 39    kimg 156.0    time 2h 03m 04s   sec/tick 169.5   sec/kimg 42.39   maintenance 0.1    cpumem 2.61   gpumem 3.79   reserved 4.01   augment 0.013\n",
            "tick 40    kimg 160.0    time 2h 05m 54s   sec/tick 169.7   sec/kimg 42.42   maintenance 0.1    cpumem 2.61   gpumem 3.79   reserved 4.01   augment 0.013\n",
            "tick 41    kimg 164.0    time 2h 08m 43s   sec/tick 169.3   sec/kimg 42.32   maintenance 0.2    cpumem 2.61   gpumem 3.79   reserved 4.01   augment 0.012\n",
            "tick 42    kimg 168.0    time 2h 11m 33s   sec/tick 169.8   sec/kimg 42.46   maintenance 0.1    cpumem 2.61   gpumem 3.79   reserved 4.01   augment 0.011\n",
            "tick 43    kimg 172.0    time 2h 14m 22s   sec/tick 169.2   sec/kimg 42.31   maintenance 0.1    cpumem 2.61   gpumem 3.79   reserved 4.01   augment 0.011\n",
            "tick 44    kimg 176.0    time 2h 17m 12s   sec/tick 169.8   sec/kimg 42.46   maintenance 0.1    cpumem 2.61   gpumem 3.79   reserved 4.01   augment 0.009\n",
            "tick 45    kimg 180.0    time 2h 20m 02s   sec/tick 169.5   sec/kimg 42.36   maintenance 0.1    cpumem 2.61   gpumem 3.79   reserved 4.01   augment 0.008\n",
            "tick 46    kimg 184.0    time 2h 22m 52s   sec/tick 169.6   sec/kimg 42.40   maintenance 0.1    cpumem 2.61   gpumem 3.79   reserved 4.01   augment 0.008\n",
            "tick 47    kimg 188.0    time 2h 25m 41s   sec/tick 169.3   sec/kimg 42.33   maintenance 0.1    cpumem 2.61   gpumem 3.79   reserved 4.01   augment 0.009\n",
            "tick 48    kimg 192.0    time 2h 28m 31s   sec/tick 169.7   sec/kimg 42.42   maintenance 0.1    cpumem 2.61   gpumem 3.79   reserved 4.01   augment 0.007\n",
            "tick 49    kimg 196.0    time 2h 31m 20s   sec/tick 169.1   sec/kimg 42.29   maintenance 0.2    cpumem 2.61   gpumem 3.79   reserved 4.01   augment 0.006\n",
            "tick 50    kimg 200.0    time 2h 34m 10s   sec/tick 169.8   sec/kimg 42.45   maintenance 0.1    cpumem 2.61   gpumem 3.79   reserved 4.01   augment 0.006\n",
            "Evaluating metrics...\n",
            "{\"results\": {\"fid50k_full\": -1.0576895500643978e+125}, \"metric\": \"fid50k_full\", \"total_time\": 606.5296559333801, \"total_time_str\": \"10m 07s\", \"num_gpus\": 1, \"snapshot_pkl\": \"network-snapshot-000200.pkl\", \"timestamp\": 1712605436.152572}\n",
            "tick 51    kimg 204.0    time 2h 47m 19s   sec/tick 169.8   sec/kimg 42.45   maintenance 619.2  cpumem 2.61   gpumem 3.79   reserved 4.01   augment 0.007\n",
            "tick 52    kimg 208.0    time 2h 50m 09s   sec/tick 169.7   sec/kimg 42.43   maintenance 0.1    cpumem 2.61   gpumem 3.79   reserved 4.01   augment 0.005\n",
            "tick 53    kimg 212.0    time 2h 52m 58s   sec/tick 169.5   sec/kimg 42.37   maintenance 0.1    cpumem 2.61   gpumem 3.79   reserved 4.01   augment 0.006\n",
            "\n",
            "Aborted!\n"
          ]
        }
      ]
    },
    {
      "cell_type": "code",
      "source": [],
      "metadata": {
        "id": "mYFbibJofhM7"
      },
      "id": "mYFbibJofhM7",
      "execution_count": null,
      "outputs": []
    },
    {
      "cell_type": "code",
      "source": [
        "!python /content/drive/MyDrive/Magisterka/stylegan3-main/gen_images.py --outdir=/content/drive/MyDrive/Magisterka/ORL_Model/1 --seeds=0-10 --network=/content/drive/MyDrive/Magisterka/ORL_Model/1/00000-stylegan2-s1-gpus1-batch16-gamma3.2768/network-snapshot-000200.pkl"
      ],
      "metadata": {
        "id": "iZuhM7_mfhRD",
        "outputId": "9f5285e1-5dec-4884-add6-f2fdf46daabf",
        "colab": {
          "base_uri": "https://localhost:8080/"
        }
      },
      "id": "iZuhM7_mfhRD",
      "execution_count": 14,
      "outputs": [
        {
          "output_type": "stream",
          "name": "stdout",
          "text": [
            "Loading networks from \"/content/drive/MyDrive/Magisterka/ORL_Model/1/00000-stylegan2-s1-gpus1-batch16-gamma3.2768/network-snapshot-000200.pkl\"...\n",
            "Generating image for seed 0 (0/11) ...\n",
            "Setting up PyTorch plugin \"bias_act_plugin\"... Done.\n",
            "Setting up PyTorch plugin \"upfirdn2d_plugin\"... Done.\n",
            "torch.Size([64, 64])\n",
            "Generating image for seed 1 (1/11) ...\n",
            "torch.Size([64, 64])\n",
            "Generating image for seed 2 (2/11) ...\n",
            "torch.Size([64, 64])\n",
            "Generating image for seed 3 (3/11) ...\n",
            "torch.Size([64, 64])\n",
            "Generating image for seed 4 (4/11) ...\n",
            "torch.Size([64, 64])\n",
            "Generating image for seed 5 (5/11) ...\n",
            "torch.Size([64, 64])\n",
            "Generating image for seed 6 (6/11) ...\n",
            "torch.Size([64, 64])\n",
            "Generating image for seed 7 (7/11) ...\n",
            "torch.Size([64, 64])\n",
            "Generating image for seed 8 (8/11) ...\n",
            "torch.Size([64, 64])\n",
            "Generating image for seed 9 (9/11) ...\n",
            "torch.Size([64, 64])\n",
            "Generating image for seed 10 (10/11) ...\n",
            "torch.Size([64, 64])\n"
          ]
        }
      ]
    },
    {
      "cell_type": "code",
      "source": [],
      "metadata": {
        "id": "wWrV4S5PfhWF"
      },
      "id": "wWrV4S5PfhWF",
      "execution_count": null,
      "outputs": []
    },
    {
      "cell_type": "code",
      "source": [],
      "metadata": {
        "id": "Vy_bL4xDfhZ2"
      },
      "id": "Vy_bL4xDfhZ2",
      "execution_count": null,
      "outputs": []
    },
    {
      "cell_type": "code",
      "source": [],
      "metadata": {
        "id": "o3jSe4offhdu"
      },
      "id": "o3jSe4offhdu",
      "execution_count": null,
      "outputs": []
    },
    {
      "cell_type": "code",
      "source": [],
      "metadata": {
        "id": "rGX23yPGfhh2"
      },
      "id": "rGX23yPGfhh2",
      "execution_count": null,
      "outputs": []
    },
    {
      "cell_type": "code",
      "execution_count": null,
      "id": "6ee711f7",
      "metadata": {
        "colab": {
          "base_uri": "https://localhost:8080/"
        },
        "id": "6ee711f7",
        "outputId": "0e4601ca-041e-4510-8d91-95d0d305b015",
        "scrolled": true
      },
      "outputs": [
        {
          "name": "stdout",
          "output_type": "stream",
          "text": [
            "\r",
            "  0% 0/5842 [00:00<?, ?it/s]\r",
            "  0% 0/5842 [00:00<?, ?it/s]\n",
            "Traceback (most recent call last):\n",
            "  File \"/content/drive/MyDrive/Style_GAN_3/dataset_tool.py\", line 456, in <module>\n",
            "    convert_dataset() # pylint: disable=no-value-for-parameter\n",
            "  File \"/usr/local/lib/python3.10/dist-packages/click/core.py\", line 1157, in __call__\n",
            "    return self.main(*args, **kwargs)\n",
            "  File \"/usr/local/lib/python3.10/dist-packages/click/core.py\", line 1078, in main\n",
            "    rv = self.invoke(ctx)\n",
            "  File \"/usr/local/lib/python3.10/dist-packages/click/core.py\", line 1434, in invoke\n",
            "    return ctx.invoke(self.callback, **ctx.params)\n",
            "  File \"/usr/local/lib/python3.10/dist-packages/click/core.py\", line 783, in invoke\n",
            "    return __callback(*args, **kwargs)\n",
            "  File \"/usr/local/lib/python3.10/dist-packages/click/decorators.py\", line 33, in new_func\n",
            "    return f(get_current_context(), *args, **kwargs)\n",
            "  File \"/content/drive/MyDrive/Style_GAN_3/dataset_tool.py\", line 412, in convert_dataset\n",
            "    img = transform_image(image['img'])\n",
            "  File \"/content/drive/MyDrive/Style_GAN_3/dataset_tool.py\", line 235, in center_crop\n",
            "    img = PIL.Image.fromarray(img, 'RGB')\n",
            "  File \"/usr/local/lib/python3.10/dist-packages/PIL/Image.py\", line 3103, in fromarray\n",
            "    return frombuffer(mode, size, obj, \"raw\", rawmode, 0, 1)\n",
            "  File \"/usr/local/lib/python3.10/dist-packages/PIL/Image.py\", line 3027, in frombuffer\n",
            "    return frombytes(mode, size, data, decoder_name, args)\n",
            "  File \"/usr/local/lib/python3.10/dist-packages/PIL/Image.py\", line 2969, in frombytes\n",
            "    im.frombytes(data, decoder_name, args)\n",
            "  File \"/usr/local/lib/python3.10/dist-packages/PIL/Image.py\", line 830, in frombytes\n",
            "    raise ValueError(msg)\n",
            "ValueError: not enough image data\n"
          ]
        }
      ],
      "source": [
        "!python /content/drive/MyDrive/Style_GAN_3/dataset_tool.py --source=/content/drive/MyDrive/MNIST/four_img.zip --dest=/content/drive/MyDrive/MNIST/four_new_img.zip --transform=center-crop --resolution=28x28\n"
      ]
    },
    {
      "cell_type": "code",
      "execution_count": null,
      "id": "e2b0b775",
      "metadata": {
        "id": "e2b0b775",
        "outputId": "643036cf-e355-40d3-c6ad-ffa6e4bb0a7f"
      },
      "outputs": [
        {
          "name": "stdout",
          "output_type": "stream",
          "text": [
            "100%|█████████████████████████████████████| 5842/5842 [00:02<00:00, 2044.61it/s]\n"
          ]
        }
      ],
      "source": [
        "!python stylegan3-main/dataset_tool.py --source=four_img.zip --dest=four_new_img.zip --transform=center-crop --resolution=16x16\n"
      ]
    },
    {
      "cell_type": "code",
      "execution_count": null,
      "id": "0020c699",
      "metadata": {
        "id": "0020c699"
      },
      "outputs": [],
      "source": []
    }
  ],
  "metadata": {
    "colab": {
      "provenance": [],
      "gpuType": "T4"
    },
    "kernelspec": {
      "display_name": "py39",
      "language": "python",
      "name": "py39"
    },
    "language_info": {
      "codemirror_mode": {
        "name": "ipython",
        "version": 3
      },
      "file_extension": ".py",
      "mimetype": "text/x-python",
      "name": "python",
      "nbconvert_exporter": "python",
      "pygments_lexer": "ipython3",
      "version": "3.9.12"
    },
    "accelerator": "GPU"
  },
  "nbformat": 4,
  "nbformat_minor": 5
}