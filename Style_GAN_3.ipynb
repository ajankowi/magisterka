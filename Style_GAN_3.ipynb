{
  "cells": [
    {
      "cell_type": "code",
      "execution_count": 1,
      "id": "e139a52d",
      "metadata": {
        "colab": {
          "base_uri": "https://localhost:8080/"
        },
        "id": "e139a52d",
        "outputId": "8728aacc-b2ba-4fb6-84a4-dfeac8e65187"
      },
      "outputs": [
        {
          "output_type": "stream",
          "name": "stdout",
          "text": [
            "3.10.12 (main, Jun 11 2023, 05:26:28) [GCC 11.4.0]\n"
          ]
        }
      ],
      "source": [
        "import sys\n",
        "print(sys.version)"
      ]
    },
    {
      "cell_type": "code",
      "execution_count": 2,
      "id": "OG3xPR0PjOoi",
      "metadata": {
        "colab": {
          "base_uri": "https://localhost:8080/"
        },
        "id": "OG3xPR0PjOoi",
        "outputId": "621016d6-4253-4bf6-a15d-e5cdfe2c8828"
      },
      "outputs": [
        {
          "output_type": "stream",
          "name": "stdout",
          "text": [
            "Mounted at /content/drive\n"
          ]
        }
      ],
      "source": [
        "from google.colab import drive\n",
        "drive.mount(\"/content/drive\", force_remount=True)"
      ]
    },
    {
      "cell_type": "code",
      "execution_count": 3,
      "id": "e091328c",
      "metadata": {
        "id": "e091328c"
      },
      "outputs": [],
      "source": [
        "import matplotlib.pyplot as plt\n",
        "import numpy as np\n",
        "import os\n",
        "\n",
        "from PIL import Image"
      ]
    },
    {
      "cell_type": "code",
      "source": [
        "!git clone https://github.com/NVlabs/stylegan3.git\n",
        "!pip install ninja"
      ],
      "metadata": {
        "id": "7Jmuj3AtfFmh",
        "outputId": "34b35b12-5dcf-4afe-ab46-dee0b735c351",
        "colab": {
          "base_uri": "https://localhost:8080/"
        }
      },
      "id": "7Jmuj3AtfFmh",
      "execution_count": 4,
      "outputs": [
        {
          "output_type": "stream",
          "name": "stdout",
          "text": [
            "Cloning into 'stylegan3'...\n",
            "remote: Enumerating objects: 212, done.\u001b[K\n",
            "remote: Counting objects: 100% (5/5), done.\u001b[K\n",
            "remote: Compressing objects: 100% (5/5), done.\u001b[K\n",
            "remote: Total 212 (delta 0), reused 1 (delta 0), pack-reused 207\u001b[K\n",
            "Receiving objects: 100% (212/212), 4.16 MiB | 32.80 MiB/s, done.\n",
            "Resolving deltas: 100% (101/101), done.\n",
            "Collecting ninja\n",
            "  Downloading ninja-1.11.1.1-py2.py3-none-manylinux1_x86_64.manylinux_2_5_x86_64.whl (307 kB)\n",
            "\u001b[2K     \u001b[90m━━━━━━━━━━━━━━━━━━━━━━━━━━━━━━━━━━━━━━━━\u001b[0m \u001b[32m307.2/307.2 kB\u001b[0m \u001b[31m4.7 MB/s\u001b[0m eta \u001b[36m0:00:00\u001b[0m\n",
            "\u001b[?25hInstalling collected packages: ninja\n",
            "Successfully installed ninja-1.11.1.1\n"
          ]
        }
      ]
    },
    {
      "cell_type": "code",
      "execution_count": 5,
      "id": "1FpIT6hKjVnu",
      "metadata": {
        "id": "1FpIT6hKjVnu"
      },
      "outputs": [],
      "source": [
        "MNIST_zip = '/content/drive/MyDrive/MNIST/four_img.zip'"
      ]
    },
    {
      "cell_type": "code",
      "source": [
        "!ls /content/stylegan3"
      ],
      "metadata": {
        "id": "J_o5QxFHfgyj",
        "outputId": "a99a0d89-e6b3-48f0-da25-bc5939d1938b",
        "colab": {
          "base_uri": "https://localhost:8080/"
        }
      },
      "id": "J_o5QxFHfgyj",
      "execution_count": 6,
      "outputs": [
        {
          "output_type": "stream",
          "name": "stdout",
          "text": [
            "avg_spectra.py\t dnnlib      environment.yml  gui_utils    metrics\ttraining       viz\n",
            "calc_metrics.py  Dockerfile  gen_images.py    legacy.py    README.md\ttrain.py\n",
            "dataset_tool.py  docs\t     gen_video.py     LICENSE.txt  torch_utils\tvisualizer.py\n"
          ]
        }
      ]
    },
    {
      "cell_type": "code",
      "source": [
        "import sys\n",
        "sys.path.insert(0, \"/content/stylegan3\")\n",
        "import pickle\n",
        "import os\n",
        "import numpy as np\n",
        "import PIL.Image\n",
        "from IPython.display import Image\n",
        "import matplotlib.pyplot as plt\n",
        "import IPython.display\n",
        "import torch\n",
        "import dnnlib\n",
        "import legacy"
      ],
      "metadata": {
        "id": "XEInyVUJfg3B"
      },
      "id": "XEInyVUJfg3B",
      "execution_count": 7,
      "outputs": []
    },
    {
      "cell_type": "code",
      "source": [
        "device = torch.device('cuda')"
      ],
      "metadata": {
        "id": "rUQpo8kLfg9C"
      },
      "id": "rUQpo8kLfg9C",
      "execution_count": 8,
      "outputs": []
    },
    {
      "cell_type": "code",
      "source": [
        "print(f\"Using device: {device}\")\n",
        "\n",
        "num_of_gpus = torch.cuda.device_count()\n",
        "print(num_of_gpus)\n"
      ],
      "metadata": {
        "id": "-LqvcmnffhBS",
        "outputId": "4ee9a357-3a52-4024-bc14-8bf21f6067ba",
        "colab": {
          "base_uri": "https://localhost:8080/"
        }
      },
      "id": "-LqvcmnffhBS",
      "execution_count": 15,
      "outputs": [
        {
          "output_type": "stream",
          "name": "stdout",
          "text": [
            "Using device: cuda\n",
            "1\n"
          ]
        }
      ]
    },
    {
      "cell_type": "code",
      "source": [],
      "metadata": {
        "id": "Tk2L67PzfhFO"
      },
      "id": "Tk2L67PzfhFO",
      "execution_count": null,
      "outputs": []
    },
    {
      "cell_type": "code",
      "source": [],
      "metadata": {
        "id": "JFWFfWigfhI8"
      },
      "id": "JFWFfWigfhI8",
      "execution_count": null,
      "outputs": []
    },
    {
      "cell_type": "code",
      "source": [],
      "metadata": {
        "id": "mYFbibJofhM7"
      },
      "id": "mYFbibJofhM7",
      "execution_count": null,
      "outputs": []
    },
    {
      "cell_type": "code",
      "source": [],
      "metadata": {
        "id": "iZuhM7_mfhRD"
      },
      "id": "iZuhM7_mfhRD",
      "execution_count": null,
      "outputs": []
    },
    {
      "cell_type": "code",
      "source": [],
      "metadata": {
        "id": "wWrV4S5PfhWF"
      },
      "id": "wWrV4S5PfhWF",
      "execution_count": null,
      "outputs": []
    },
    {
      "cell_type": "code",
      "source": [],
      "metadata": {
        "id": "Vy_bL4xDfhZ2"
      },
      "id": "Vy_bL4xDfhZ2",
      "execution_count": null,
      "outputs": []
    },
    {
      "cell_type": "code",
      "source": [],
      "metadata": {
        "id": "o3jSe4offhdu"
      },
      "id": "o3jSe4offhdu",
      "execution_count": null,
      "outputs": []
    },
    {
      "cell_type": "code",
      "source": [],
      "metadata": {
        "id": "rGX23yPGfhh2"
      },
      "id": "rGX23yPGfhh2",
      "execution_count": null,
      "outputs": []
    },
    {
      "cell_type": "code",
      "execution_count": null,
      "id": "6ee711f7",
      "metadata": {
        "colab": {
          "base_uri": "https://localhost:8080/"
        },
        "id": "6ee711f7",
        "outputId": "0e4601ca-041e-4510-8d91-95d0d305b015",
        "scrolled": true
      },
      "outputs": [
        {
          "name": "stdout",
          "output_type": "stream",
          "text": [
            "\r",
            "  0% 0/5842 [00:00<?, ?it/s]\r",
            "  0% 0/5842 [00:00<?, ?it/s]\n",
            "Traceback (most recent call last):\n",
            "  File \"/content/drive/MyDrive/Style_GAN_3/dataset_tool.py\", line 456, in <module>\n",
            "    convert_dataset() # pylint: disable=no-value-for-parameter\n",
            "  File \"/usr/local/lib/python3.10/dist-packages/click/core.py\", line 1157, in __call__\n",
            "    return self.main(*args, **kwargs)\n",
            "  File \"/usr/local/lib/python3.10/dist-packages/click/core.py\", line 1078, in main\n",
            "    rv = self.invoke(ctx)\n",
            "  File \"/usr/local/lib/python3.10/dist-packages/click/core.py\", line 1434, in invoke\n",
            "    return ctx.invoke(self.callback, **ctx.params)\n",
            "  File \"/usr/local/lib/python3.10/dist-packages/click/core.py\", line 783, in invoke\n",
            "    return __callback(*args, **kwargs)\n",
            "  File \"/usr/local/lib/python3.10/dist-packages/click/decorators.py\", line 33, in new_func\n",
            "    return f(get_current_context(), *args, **kwargs)\n",
            "  File \"/content/drive/MyDrive/Style_GAN_3/dataset_tool.py\", line 412, in convert_dataset\n",
            "    img = transform_image(image['img'])\n",
            "  File \"/content/drive/MyDrive/Style_GAN_3/dataset_tool.py\", line 235, in center_crop\n",
            "    img = PIL.Image.fromarray(img, 'RGB')\n",
            "  File \"/usr/local/lib/python3.10/dist-packages/PIL/Image.py\", line 3103, in fromarray\n",
            "    return frombuffer(mode, size, obj, \"raw\", rawmode, 0, 1)\n",
            "  File \"/usr/local/lib/python3.10/dist-packages/PIL/Image.py\", line 3027, in frombuffer\n",
            "    return frombytes(mode, size, data, decoder_name, args)\n",
            "  File \"/usr/local/lib/python3.10/dist-packages/PIL/Image.py\", line 2969, in frombytes\n",
            "    im.frombytes(data, decoder_name, args)\n",
            "  File \"/usr/local/lib/python3.10/dist-packages/PIL/Image.py\", line 830, in frombytes\n",
            "    raise ValueError(msg)\n",
            "ValueError: not enough image data\n"
          ]
        }
      ],
      "source": [
        "!python /content/drive/MyDrive/Style_GAN_3/dataset_tool.py --source=/content/drive/MyDrive/MNIST/four_img.zip --dest=/content/drive/MyDrive/MNIST/four_new_img.zip --transform=center-crop --resolution=28x28\n"
      ]
    },
    {
      "cell_type": "code",
      "execution_count": null,
      "id": "e2b0b775",
      "metadata": {
        "id": "e2b0b775",
        "outputId": "643036cf-e355-40d3-c6ad-ffa6e4bb0a7f"
      },
      "outputs": [
        {
          "name": "stdout",
          "output_type": "stream",
          "text": [
            "100%|█████████████████████████████████████| 5842/5842 [00:02<00:00, 2044.61it/s]\n"
          ]
        }
      ],
      "source": [
        "!python stylegan3-main/dataset_tool.py --source=four_img.zip --dest=four_new_img.zip --transform=center-crop --resolution=16x16\n"
      ]
    },
    {
      "cell_type": "code",
      "execution_count": null,
      "id": "0020c699",
      "metadata": {
        "id": "0020c699"
      },
      "outputs": [],
      "source": []
    }
  ],
  "metadata": {
    "colab": {
      "provenance": [],
      "gpuType": "T4"
    },
    "kernelspec": {
      "display_name": "py39",
      "language": "python",
      "name": "py39"
    },
    "language_info": {
      "codemirror_mode": {
        "name": "ipython",
        "version": 3
      },
      "file_extension": ".py",
      "mimetype": "text/x-python",
      "name": "python",
      "nbconvert_exporter": "python",
      "pygments_lexer": "ipython3",
      "version": "3.9.12"
    },
    "accelerator": "GPU"
  },
  "nbformat": 4,
  "nbformat_minor": 5
}