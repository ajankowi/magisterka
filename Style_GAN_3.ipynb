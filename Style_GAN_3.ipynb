{
  "cells": [
    {
      "cell_type": "code",
      "execution_count": 4,
      "id": "e139a52d",
      "metadata": {
        "id": "e139a52d",
        "outputId": "9ba582b0-0219-44c3-bb86-9ec30141a719",
        "colab": {
          "base_uri": "https://localhost:8080/"
        }
      },
      "outputs": [
        {
          "output_type": "stream",
          "name": "stdout",
          "text": [
            "3.10.12 (main, Jun 11 2023, 05:26:28) [GCC 11.4.0]\n"
          ]
        }
      ],
      "source": [
        "import sys\n",
        "print(sys.version)"
      ]
    },
    {
      "cell_type": "code",
      "source": [
        "from google.colab import drive\n",
        "drive.mount(\"/content/drive\", force_remount=True)"
      ],
      "metadata": {
        "id": "OG3xPR0PjOoi",
        "outputId": "0f7a17d7-b337-447d-b362-ecea67a213ba",
        "colab": {
          "base_uri": "https://localhost:8080/"
        }
      },
      "id": "OG3xPR0PjOoi",
      "execution_count": 5,
      "outputs": [
        {
          "output_type": "stream",
          "name": "stdout",
          "text": [
            "Mounted at /content/drive\n"
          ]
        }
      ]
    },
    {
      "cell_type": "code",
      "execution_count": 6,
      "id": "e091328c",
      "metadata": {
        "id": "e091328c"
      },
      "outputs": [],
      "source": [
        "import matplotlib.pyplot as plt\n",
        "import numpy as np\n",
        "import os\n",
        "\n",
        "from PIL import Image"
      ]
    },
    {
      "cell_type": "code",
      "source": [
        "MNIST_zip = '/content/drive/MyDrive/MNIST/four_img.zip'"
      ],
      "metadata": {
        "id": "1FpIT6hKjVnu"
      },
      "id": "1FpIT6hKjVnu",
      "execution_count": 7,
      "outputs": []
    },
    {
      "cell_type": "code",
      "execution_count": 13,
      "id": "6ee711f7",
      "metadata": {
        "id": "6ee711f7",
        "outputId": "0e4601ca-041e-4510-8d91-95d0d305b015",
        "colab": {
          "base_uri": "https://localhost:8080/"
        }
      },
      "outputs": [
        {
          "output_type": "stream",
          "name": "stdout",
          "text": [
            "\r  0% 0/5842 [00:00<?, ?it/s]\r  0% 0/5842 [00:00<?, ?it/s]\n",
            "Traceback (most recent call last):\n",
            "  File \"/content/drive/MyDrive/Style_GAN_3/dataset_tool.py\", line 456, in <module>\n",
            "    convert_dataset() # pylint: disable=no-value-for-parameter\n",
            "  File \"/usr/local/lib/python3.10/dist-packages/click/core.py\", line 1157, in __call__\n",
            "    return self.main(*args, **kwargs)\n",
            "  File \"/usr/local/lib/python3.10/dist-packages/click/core.py\", line 1078, in main\n",
            "    rv = self.invoke(ctx)\n",
            "  File \"/usr/local/lib/python3.10/dist-packages/click/core.py\", line 1434, in invoke\n",
            "    return ctx.invoke(self.callback, **ctx.params)\n",
            "  File \"/usr/local/lib/python3.10/dist-packages/click/core.py\", line 783, in invoke\n",
            "    return __callback(*args, **kwargs)\n",
            "  File \"/usr/local/lib/python3.10/dist-packages/click/decorators.py\", line 33, in new_func\n",
            "    return f(get_current_context(), *args, **kwargs)\n",
            "  File \"/content/drive/MyDrive/Style_GAN_3/dataset_tool.py\", line 412, in convert_dataset\n",
            "    img = transform_image(image['img'])\n",
            "  File \"/content/drive/MyDrive/Style_GAN_3/dataset_tool.py\", line 235, in center_crop\n",
            "    img = PIL.Image.fromarray(img, 'RGB')\n",
            "  File \"/usr/local/lib/python3.10/dist-packages/PIL/Image.py\", line 3103, in fromarray\n",
            "    return frombuffer(mode, size, obj, \"raw\", rawmode, 0, 1)\n",
            "  File \"/usr/local/lib/python3.10/dist-packages/PIL/Image.py\", line 3027, in frombuffer\n",
            "    return frombytes(mode, size, data, decoder_name, args)\n",
            "  File \"/usr/local/lib/python3.10/dist-packages/PIL/Image.py\", line 2969, in frombytes\n",
            "    im.frombytes(data, decoder_name, args)\n",
            "  File \"/usr/local/lib/python3.10/dist-packages/PIL/Image.py\", line 830, in frombytes\n",
            "    raise ValueError(msg)\n",
            "ValueError: not enough image data\n"
          ]
        }
      ],
      "source": [
        "!python /content/drive/MyDrive/Style_GAN_3/dataset_tool.py --source=/content/drive/MyDrive/MNIST/four_img.zip --dest=/content/drive/MyDrive/MNIST/four_new_img.zip --transform=center-crop --resolution=28x28\n"
      ]
    }
  ],
  "metadata": {
    "kernelspec": {
      "display_name": "py39",
      "language": "python",
      "name": "py39"
    },
    "language_info": {
      "codemirror_mode": {
        "name": "ipython",
        "version": 3
      },
      "file_extension": ".py",
      "mimetype": "text/x-python",
      "name": "python",
      "nbconvert_exporter": "python",
      "pygments_lexer": "ipython3",
      "version": "3.9.12"
    },
    "colab": {
      "provenance": []
    }
  },
  "nbformat": 4,
  "nbformat_minor": 5
}