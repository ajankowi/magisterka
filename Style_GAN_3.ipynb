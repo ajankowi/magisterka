{
  "cells": [
    {
      "cell_type": "code",
      "execution_count": 1,
      "id": "e139a52d",
      "metadata": {
        "colab": {
          "base_uri": "https://localhost:8080/"
        },
        "id": "e139a52d",
        "outputId": "9a0829df-6d8d-4352-a1d5-09c85419c1e7"
      },
      "outputs": [
        {
          "output_type": "stream",
          "name": "stdout",
          "text": [
            "3.10.12 (main, Nov 20 2023, 15:14:05) [GCC 11.4.0]\n"
          ]
        }
      ],
      "source": [
        "import sys\n",
        "print(sys.version)"
      ]
    },
    {
      "cell_type": "code",
      "execution_count": 2,
      "id": "OG3xPR0PjOoi",
      "metadata": {
        "colab": {
          "base_uri": "https://localhost:8080/"
        },
        "id": "OG3xPR0PjOoi",
        "outputId": "3c10f326-8b56-401c-e637-9b3a08dfe60f"
      },
      "outputs": [
        {
          "output_type": "stream",
          "name": "stdout",
          "text": [
            "Mounted at /content/drive\n"
          ]
        }
      ],
      "source": [
        "from google.colab import drive\n",
        "drive.mount(\"/content/drive\", force_remount=True)"
      ]
    },
    {
      "cell_type": "code",
      "execution_count": 3,
      "id": "e091328c",
      "metadata": {
        "id": "e091328c"
      },
      "outputs": [],
      "source": [
        "import matplotlib.pyplot as plt\n",
        "import numpy as np\n",
        "import os\n",
        "\n",
        "from PIL import Image"
      ]
    },
    {
      "cell_type": "code",
      "source": [
        "!pip install --upgrade torch==2.1.0+cu118 torchvision==0.16.0+cu118 -f https://download.pytorch.org/whl/torch_stable.html\n",
        "\n",
        "\n",
        "#!pip install jaxlib==0.4.0\n",
        "#!pip install torch==1.11.0 torchvision==0.12.0"
      ],
      "metadata": {
        "id": "7DXgdZgS-AKX",
        "colab": {
          "base_uri": "https://localhost:8080/"
        },
        "outputId": "cbfc6097-80c5-4965-c275-67670d82f59c"
      },
      "id": "7DXgdZgS-AKX",
      "execution_count": 4,
      "outputs": [
        {
          "output_type": "stream",
          "name": "stdout",
          "text": [
            "Looking in links: https://download.pytorch.org/whl/torch_stable.html\n",
            "Requirement already satisfied: torch==2.1.0+cu118 in /usr/local/lib/python3.10/dist-packages (2.1.0+cu118)\n",
            "Requirement already satisfied: torchvision==0.16.0+cu118 in /usr/local/lib/python3.10/dist-packages (0.16.0+cu118)\n",
            "Requirement already satisfied: filelock in /usr/local/lib/python3.10/dist-packages (from torch==2.1.0+cu118) (3.13.1)\n",
            "Requirement already satisfied: typing-extensions in /usr/local/lib/python3.10/dist-packages (from torch==2.1.0+cu118) (4.5.0)\n",
            "Requirement already satisfied: sympy in /usr/local/lib/python3.10/dist-packages (from torch==2.1.0+cu118) (1.12)\n",
            "Requirement already satisfied: networkx in /usr/local/lib/python3.10/dist-packages (from torch==2.1.0+cu118) (3.2.1)\n",
            "Requirement already satisfied: jinja2 in /usr/local/lib/python3.10/dist-packages (from torch==2.1.0+cu118) (3.1.2)\n",
            "Requirement already satisfied: fsspec in /usr/local/lib/python3.10/dist-packages (from torch==2.1.0+cu118) (2023.6.0)\n",
            "Requirement already satisfied: triton==2.1.0 in /usr/local/lib/python3.10/dist-packages (from torch==2.1.0+cu118) (2.1.0)\n",
            "Requirement already satisfied: numpy in /usr/local/lib/python3.10/dist-packages (from torchvision==0.16.0+cu118) (1.23.5)\n",
            "Requirement already satisfied: requests in /usr/local/lib/python3.10/dist-packages (from torchvision==0.16.0+cu118) (2.31.0)\n",
            "Requirement already satisfied: pillow!=8.3.*,>=5.3.0 in /usr/local/lib/python3.10/dist-packages (from torchvision==0.16.0+cu118) (9.4.0)\n",
            "Requirement already satisfied: MarkupSafe>=2.0 in /usr/local/lib/python3.10/dist-packages (from jinja2->torch==2.1.0+cu118) (2.1.3)\n",
            "Requirement already satisfied: charset-normalizer<4,>=2 in /usr/local/lib/python3.10/dist-packages (from requests->torchvision==0.16.0+cu118) (3.3.2)\n",
            "Requirement already satisfied: idna<4,>=2.5 in /usr/local/lib/python3.10/dist-packages (from requests->torchvision==0.16.0+cu118) (3.6)\n",
            "Requirement already satisfied: urllib3<3,>=1.21.1 in /usr/local/lib/python3.10/dist-packages (from requests->torchvision==0.16.0+cu118) (2.0.7)\n",
            "Requirement already satisfied: certifi>=2017.4.17 in /usr/local/lib/python3.10/dist-packages (from requests->torchvision==0.16.0+cu118) (2023.11.17)\n",
            "Requirement already satisfied: mpmath>=0.19 in /usr/local/lib/python3.10/dist-packages (from sympy->torch==2.1.0+cu118) (1.3.0)\n"
          ]
        }
      ]
    },
    {
      "cell_type": "code",
      "source": [
        "!git clone https://github.com/NVlabs/stylegan3.git\n",
        "!pip install ninja"
      ],
      "metadata": {
        "id": "7Jmuj3AtfFmh",
        "outputId": "62ba76c1-48fd-41d4-d4c5-4d1c78dc0b19",
        "colab": {
          "base_uri": "https://localhost:8080/"
        }
      },
      "id": "7Jmuj3AtfFmh",
      "execution_count": 5,
      "outputs": [
        {
          "output_type": "stream",
          "name": "stdout",
          "text": [
            "Cloning into 'stylegan3'...\n",
            "remote: Enumerating objects: 212, done.\u001b[K\n",
            "remote: Counting objects: 100% (5/5), done.\u001b[K\n",
            "remote: Compressing objects: 100% (5/5), done.\u001b[K\n",
            "remote: Total 212 (delta 0), reused 1 (delta 0), pack-reused 207\u001b[K\n",
            "Receiving objects: 100% (212/212), 4.17 MiB | 22.85 MiB/s, done.\n",
            "Resolving deltas: 100% (98/98), done.\n",
            "Collecting ninja\n",
            "  Downloading ninja-1.11.1.1-py2.py3-none-manylinux1_x86_64.manylinux_2_5_x86_64.whl (307 kB)\n",
            "\u001b[2K     \u001b[90m━━━━━━━━━━━━━━━━━━━━━━━━━━━━━━━━━━━━━━━━\u001b[0m \u001b[32m307.2/307.2 kB\u001b[0m \u001b[31m4.4 MB/s\u001b[0m eta \u001b[36m0:00:00\u001b[0m\n",
            "\u001b[?25hInstalling collected packages: ninja\n",
            "Successfully installed ninja-1.11.1.1\n"
          ]
        }
      ]
    },
    {
      "cell_type": "code",
      "execution_count": 6,
      "id": "1FpIT6hKjVnu",
      "metadata": {
        "id": "1FpIT6hKjVnu"
      },
      "outputs": [],
      "source": [
        "MNIST_zip = '/content/drive/MyDrive/MNIST/four_img.zip'\n",
        "twarz_zip = '/content/drive/MyDrive/Twarz/twarz_1.zip'"
      ]
    },
    {
      "cell_type": "code",
      "source": [
        "!ls /content/stylegan3"
      ],
      "metadata": {
        "id": "J_o5QxFHfgyj",
        "outputId": "98e10423-e66e-418b-f3e1-c21d62e8cde5",
        "colab": {
          "base_uri": "https://localhost:8080/"
        }
      },
      "id": "J_o5QxFHfgyj",
      "execution_count": 7,
      "outputs": [
        {
          "output_type": "stream",
          "name": "stdout",
          "text": [
            "avg_spectra.py\t dnnlib      environment.yml  gui_utils    metrics\ttraining       viz\n",
            "calc_metrics.py  Dockerfile  gen_images.py    legacy.py    README.md\ttrain.py\n",
            "dataset_tool.py  docs\t     gen_video.py     LICENSE.txt  torch_utils\tvisualizer.py\n"
          ]
        }
      ]
    },
    {
      "cell_type": "code",
      "source": [
        "import sys\n",
        "sys.path.insert(0, \"/content/stylegan3\")\n",
        "import pickle\n",
        "import os\n",
        "import numpy as np\n",
        "import PIL.Image\n",
        "from IPython.display import Image\n",
        "import matplotlib.pyplot as plt\n",
        "import IPython.display\n",
        "import torch\n",
        "import dnnlib\n",
        "import legacy"
      ],
      "metadata": {
        "id": "XEInyVUJfg3B"
      },
      "id": "XEInyVUJfg3B",
      "execution_count": 8,
      "outputs": []
    },
    {
      "cell_type": "code",
      "source": [
        "device = torch.device('cuda')"
      ],
      "metadata": {
        "id": "rUQpo8kLfg9C"
      },
      "id": "rUQpo8kLfg9C",
      "execution_count": 9,
      "outputs": []
    },
    {
      "cell_type": "code",
      "source": [
        "print(f\"Using device: {device}\")\n",
        "\n",
        "num_of_gpus = torch.cuda.device_count()\n",
        "print(num_of_gpus)\n"
      ],
      "metadata": {
        "id": "-LqvcmnffhBS",
        "outputId": "4dbaeaa0-c0c1-470c-8367-f0dd2c9e5dd5",
        "colab": {
          "base_uri": "https://localhost:8080/"
        }
      },
      "id": "-LqvcmnffhBS",
      "execution_count": 10,
      "outputs": [
        {
          "output_type": "stream",
          "name": "stdout",
          "text": [
            "Using device: cuda\n",
            "1\n"
          ]
        }
      ]
    },
    {
      "cell_type": "code",
      "source": [
        "!python /content/drive/MyDrive/StyleGan3_gray_scale/dataset_tool.py --source=/content/drive/MyDrive/Twarz/twarz_1.zip --dest=/content/drive/MyDrive/Twarz/Dataset_tool_05_12.zip --transform=center-crop --resolution=64x64\n"
      ],
      "metadata": {
        "id": "Tk2L67PzfhFO",
        "colab": {
          "base_uri": "https://localhost:8080/"
        },
        "outputId": "549260db-4ce0-4a22-c96a-f1d5fe5558cb"
      },
      "id": "Tk2L67PzfhFO",
      "execution_count": null,
      "outputs": [
        {
          "output_type": "stream",
          "name": "stdout",
          "text": [
            "100% 245/245 [00:00<00:00, 891.27it/s]\n"
          ]
        }
      ]
    },
    {
      "cell_type": "code",
      "source": [
        "!python /content/drive/MyDrive/Magisterka/stylegan3-main/train.py --outdir=/content/drive/MyDrive/Magisterka/Twarz/Wyniczek_twarz --data=/content/drive/MyDrive/Magisterka/Twarz/Dataset_tool_05_12.zip  --gpus=1 --cfg=stylegan2 --batch=16 --gamma=3.2768 --kimg=1000"
      ],
      "metadata": {
        "id": "JFWFfWigfhI8",
        "colab": {
          "base_uri": "https://localhost:8080/"
        },
        "outputId": "8128ab7c-15ab-4eeb-823c-929fe4a2c776"
      },
      "id": "JFWFfWigfhI8",
      "execution_count": null,
      "outputs": [
        {
          "output_type": "stream",
          "name": "stdout",
          "text": [
            "\n",
            "Training options:\n",
            "{\n",
            "  \"G_kwargs\": {\n",
            "    \"class_name\": \"training.networks_stylegan2.Generator\",\n",
            "    \"z_dim\": 512,\n",
            "    \"w_dim\": 512,\n",
            "    \"mapping_kwargs\": {\n",
            "      \"num_layers\": 8\n",
            "    },\n",
            "    \"channel_base\": 32768,\n",
            "    \"channel_max\": 512,\n",
            "    \"fused_modconv_default\": \"inference_only\"\n",
            "  },\n",
            "  \"D_kwargs\": {\n",
            "    \"class_name\": \"training.networks_stylegan2.Discriminator\",\n",
            "    \"block_kwargs\": {\n",
            "      \"freeze_layers\": 0\n",
            "    },\n",
            "    \"mapping_kwargs\": {},\n",
            "    \"epilogue_kwargs\": {\n",
            "      \"mbstd_group_size\": 4\n",
            "    },\n",
            "    \"channel_base\": 32768,\n",
            "    \"channel_max\": 512\n",
            "  },\n",
            "  \"G_opt_kwargs\": {\n",
            "    \"class_name\": \"torch.optim.Adam\",\n",
            "    \"betas\": [\n",
            "      0,\n",
            "      0.99\n",
            "    ],\n",
            "    \"eps\": 1e-08,\n",
            "    \"lr\": 0.002\n",
            "  },\n",
            "  \"D_opt_kwargs\": {\n",
            "    \"class_name\": \"torch.optim.Adam\",\n",
            "    \"betas\": [\n",
            "      0,\n",
            "      0.99\n",
            "    ],\n",
            "    \"eps\": 1e-08,\n",
            "    \"lr\": 0.002\n",
            "  },\n",
            "  \"loss_kwargs\": {\n",
            "    \"class_name\": \"training.loss.StyleGAN2Loss\",\n",
            "    \"r1_gamma\": 3.2768,\n",
            "    \"style_mixing_prob\": 0.9,\n",
            "    \"pl_weight\": 2,\n",
            "    \"pl_no_weight_grad\": true\n",
            "  },\n",
            "  \"data_loader_kwargs\": {\n",
            "    \"pin_memory\": true,\n",
            "    \"prefetch_factor\": 2,\n",
            "    \"num_workers\": 3\n",
            "  },\n",
            "  \"training_set_kwargs\": {\n",
            "    \"class_name\": \"training.dataset.ImageFolderDataset\",\n",
            "    \"path\": \"/content/drive/MyDrive/Magisterka/Twarz/Dataset_tool_05_12.zip\",\n",
            "    \"use_labels\": false,\n",
            "    \"max_size\": 245,\n",
            "    \"xflip\": false,\n",
            "    \"resolution\": 64,\n",
            "    \"random_seed\": 0\n",
            "  },\n",
            "  \"num_gpus\": 1,\n",
            "  \"batch_size\": 16,\n",
            "  \"batch_gpu\": 16,\n",
            "  \"metrics\": [\n",
            "    \"fid50k_full\"\n",
            "  ],\n",
            "  \"total_kimg\": 1000,\n",
            "  \"kimg_per_tick\": 4,\n",
            "  \"image_snapshot_ticks\": 50,\n",
            "  \"network_snapshot_ticks\": 50,\n",
            "  \"random_seed\": 0,\n",
            "  \"ema_kimg\": 5.0,\n",
            "  \"G_reg_interval\": 4,\n",
            "  \"augment_kwargs\": {\n",
            "    \"class_name\": \"training.augment.AugmentPipe\",\n",
            "    \"xflip\": 1,\n",
            "    \"rotate90\": 1,\n",
            "    \"xint\": 1,\n",
            "    \"scale\": 1,\n",
            "    \"rotate\": 1,\n",
            "    \"aniso\": 1,\n",
            "    \"xfrac\": 1,\n",
            "    \"brightness\": 1,\n",
            "    \"contrast\": 1,\n",
            "    \"lumaflip\": 1,\n",
            "    \"hue\": 1,\n",
            "    \"saturation\": 1\n",
            "  },\n",
            "  \"ada_target\": 0.6,\n",
            "  \"run_dir\": \"/content/drive/MyDrive/Magisterka/Twarz/Wyniczek_twarz/00000-stylegan2-Dataset_tool_05_12-gpus1-batch16-gamma3.2768\"\n",
            "}\n",
            "\n",
            "Output directory:    /content/drive/MyDrive/Magisterka/Twarz/Wyniczek_twarz/00000-stylegan2-Dataset_tool_05_12-gpus1-batch16-gamma3.2768\n",
            "Number of GPUs:      1\n",
            "Batch size:          16 images\n",
            "Training duration:   1000 kimg\n",
            "Dataset path:        /content/drive/MyDrive/Magisterka/Twarz/Dataset_tool_05_12.zip\n",
            "Dataset size:        245 images\n",
            "Dataset resolution:  64\n",
            "Dataset labels:      False\n",
            "Dataset x-flips:     False\n",
            "\n",
            "Creating output directory...\n",
            "Launching processes...\n",
            "Loading training set...\n",
            "/usr/local/lib/python3.10/dist-packages/torch/utils/data/sampler.py:64: UserWarning: `data_source` argument is not used and will be removed in 2.2.0.You may still have custom implementation that utilizes it.\n",
            "  warnings.warn(\"`data_source` argument is not used and will be removed in 2.2.0.\"\n",
            "/usr/local/lib/python3.10/dist-packages/torch/utils/data/dataloader.py:557: UserWarning: This DataLoader will create 3 worker processes in total. Our suggested max number of worker in current system is 2, which is smaller than what this DataLoader is going to create. Please be aware that excessive worker creation might get DataLoader running slow or even freeze, lower the worker number to avoid potential slowness/freeze if necessary.\n",
            "  warnings.warn(_create_warning_msg(\n",
            "\n",
            "Num images:  245\n",
            "Image shape: [1, 64, 64]\n",
            "Label shape: [0]\n",
            "\n",
            "Constructing networks...\n",
            "Setting up PyTorch plugin \"bias_act_plugin\"... Done.\n",
            "Setting up PyTorch plugin \"upfirdn2d_plugin\"... Done.\n",
            "\n",
            "Generator            Parameters  Buffers  Output shape       Datatype\n",
            "---                  ---         ---      ---                ---     \n",
            "mapping.fc0          262656      -        [16, 512]          float32 \n",
            "mapping.fc1          262656      -        [16, 512]          float32 \n",
            "mapping.fc2          262656      -        [16, 512]          float32 \n",
            "mapping.fc3          262656      -        [16, 512]          float32 \n",
            "mapping.fc4          262656      -        [16, 512]          float32 \n",
            "mapping.fc5          262656      -        [16, 512]          float32 \n",
            "mapping.fc6          262656      -        [16, 512]          float32 \n",
            "mapping.fc7          262656      -        [16, 512]          float32 \n",
            "mapping              -           512      [16, 10, 512]      float32 \n",
            "synthesis.b4.conv1   2622465     32       [16, 512, 4, 4]    float32 \n",
            "synthesis.b4.torgb   263169      -        [16, 1, 4, 4]      float32 \n",
            "synthesis.b4:0       8192        16       [16, 512, 4, 4]    float32 \n",
            "synthesis.b4:1       -           -        [16, 1, 4, 4]      float32 \n",
            "synthesis.b8.conv0   2622465     80       [16, 512, 8, 8]    float16 \n",
            "synthesis.b8.conv1   2622465     80       [16, 512, 8, 8]    float16 \n",
            "synthesis.b8.torgb   263169      -        [16, 1, 8, 8]      float16 \n",
            "synthesis.b8:0       -           16       [16, 512, 8, 8]    float16 \n",
            "synthesis.b8:1       -           -        [16, 1, 8, 8]      float32 \n",
            "synthesis.b16.conv0  2622465     272      [16, 512, 16, 16]  float16 \n",
            "synthesis.b16.conv1  2622465     272      [16, 512, 16, 16]  float16 \n",
            "synthesis.b16.torgb  263169      -        [16, 1, 16, 16]    float16 \n",
            "synthesis.b16:0      -           16       [16, 512, 16, 16]  float16 \n",
            "synthesis.b16:1      -           -        [16, 1, 16, 16]    float32 \n",
            "synthesis.b32.conv0  2622465     1040     [16, 512, 32, 32]  float16 \n",
            "synthesis.b32.conv1  2622465     1040     [16, 512, 32, 32]  float16 \n",
            "synthesis.b32.torgb  263169      -        [16, 1, 32, 32]    float16 \n",
            "synthesis.b32:0      -           16       [16, 512, 32, 32]  float16 \n",
            "synthesis.b32:1      -           -        [16, 1, 32, 32]    float32 \n",
            "synthesis.b64.conv0  2622465     4112     [16, 512, 64, 64]  float16 \n",
            "synthesis.b64.conv1  2622465     4112     [16, 512, 64, 64]  float16 \n",
            "synthesis.b64.torgb  263169      -        [16, 1, 64, 64]    float16 \n",
            "synthesis.b64:0      -           16       [16, 512, 64, 64]  float16 \n",
            "synthesis.b64:1      -           -        [16, 1, 64, 64]    float32 \n",
            "---                  ---         ---      ---                ---     \n",
            "Total                27027470    11632    -                  -       \n",
            "\n",
            "\n",
            "Discriminator  Parameters  Buffers  Output shape       Datatype\n",
            "---            ---         ---      ---                ---     \n",
            "b64.fromrgb    1024        16       [16, 512, 64, 64]  float16 \n",
            "b64.skip       262144      16       [16, 512, 32, 32]  float16 \n",
            "b64.conv0      2359808     16       [16, 512, 64, 64]  float16 \n",
            "b64.conv1      2359808     16       [16, 512, 32, 32]  float16 \n",
            "b64            -           16       [16, 512, 32, 32]  float16 \n",
            "b32.skip       262144      16       [16, 512, 16, 16]  float16 \n",
            "b32.conv0      2359808     16       [16, 512, 32, 32]  float16 \n",
            "b32.conv1      2359808     16       [16, 512, 16, 16]  float16 \n",
            "b32            -           16       [16, 512, 16, 16]  float16 \n",
            "b16.skip       262144      16       [16, 512, 8, 8]    float16 \n",
            "b16.conv0      2359808     16       [16, 512, 16, 16]  float16 \n",
            "b16.conv1      2359808     16       [16, 512, 8, 8]    float16 \n",
            "b16            -           16       [16, 512, 8, 8]    float16 \n",
            "b8.skip        262144      16       [16, 512, 4, 4]    float16 \n",
            "b8.conv0       2359808     16       [16, 512, 8, 8]    float16 \n",
            "b8.conv1       2359808     16       [16, 512, 4, 4]    float16 \n",
            "b8             -           16       [16, 512, 4, 4]    float16 \n",
            "b4.mbstd       -           -        [16, 513, 4, 4]    float32 \n",
            "b4.conv        2364416     16       [16, 512, 4, 4]    float32 \n",
            "b4.fc          4194816     -        [16, 512]          float32 \n",
            "b4.out         513         -        [16, 1]            float32 \n",
            "---            ---         ---      ---                ---     \n",
            "Total          26487809    288      -                  -       \n",
            "\n",
            "Setting up augmentation...\n",
            "Distributing across 1 GPUs...\n",
            "Setting up training phases...\n",
            "Exporting sample images...\n",
            "Initializing logs...\n",
            "2023-12-10 18:26:18.362740: E tensorflow/compiler/xla/stream_executor/cuda/cuda_dnn.cc:9342] Unable to register cuDNN factory: Attempting to register factory for plugin cuDNN when one has already been registered\n",
            "2023-12-10 18:26:18.362807: E tensorflow/compiler/xla/stream_executor/cuda/cuda_fft.cc:609] Unable to register cuFFT factory: Attempting to register factory for plugin cuFFT when one has already been registered\n",
            "2023-12-10 18:26:18.362854: E tensorflow/compiler/xla/stream_executor/cuda/cuda_blas.cc:1518] Unable to register cuBLAS factory: Attempting to register factory for plugin cuBLAS when one has already been registered\n",
            "2023-12-10 18:26:19.474995: W tensorflow/compiler/tf2tensorrt/utils/py_utils.cc:38] TF-TRT Warning: Could not find TensorRT\n",
            "Training for 1000 kimg...\n",
            "\n",
            "tick 0     kimg 0.0      time 2m 11s       sec/tick 12.4    sec/kimg 776.85  maintenance 118.4  cpumem 4.52   gpumem 11.42  reserved 11.73  augment 0.000\n",
            "Evaluating metrics...\n",
            "/usr/local/lib/python3.10/dist-packages/torch/utils/data/dataloader.py:557: UserWarning: This DataLoader will create 3 worker processes in total. Our suggested max number of worker in current system is 2, which is smaller than what this DataLoader is going to create. Please be aware that excessive worker creation might get DataLoader running slow or even freeze, lower the worker number to avoid potential slowness/freeze if necessary.\n",
            "  warnings.warn(_create_warning_msg(\n",
            "{\"results\": {\"fid50k_full\": 4.805970830822048e+96}, \"metric\": \"fid50k_full\", \"total_time\": 639.5327467918396, \"total_time_str\": \"10m 40s\", \"num_gpus\": 1, \"snapshot_pkl\": \"network-snapshot-000000.pkl\", \"timestamp\": 1702233440.4392102}\n",
            "tick 1     kimg 4.0      time 15m 55s      sec/tick 176.6   sec/kimg 44.16   maintenance 647.7  cpumem 5.01   gpumem 10.29  reserved 10.35  augment 0.003\n",
            "tick 2     kimg 8.0      time 18m 53s      sec/tick 177.4   sec/kimg 44.36   maintenance 0.1    cpumem 5.01   gpumem 3.79   reserved 4.03   augment 0.006\n",
            "tick 3     kimg 12.0     time 21m 50s      sec/tick 176.8   sec/kimg 44.19   maintenance 0.1    cpumem 5.01   gpumem 3.79   reserved 4.03   augment 0.009\n",
            "tick 4     kimg 16.0     time 24m 47s      sec/tick 177.4   sec/kimg 44.34   maintenance 0.1    cpumem 5.01   gpumem 3.79   reserved 4.03   augment 0.012\n",
            "tick 5     kimg 20.0     time 27m 44s      sec/tick 176.8   sec/kimg 44.20   maintenance 0.1    cpumem 5.01   gpumem 3.79   reserved 4.03   augment 0.016\n",
            "tick 6     kimg 24.0     time 30m 41s      sec/tick 176.7   sec/kimg 44.18   maintenance 0.1    cpumem 5.01   gpumem 3.79   reserved 4.03   augment 0.018\n",
            "tick 7     kimg 28.0     time 33m 38s      sec/tick 177.2   sec/kimg 44.29   maintenance 0.1    cpumem 5.01   gpumem 3.79   reserved 4.03   augment 0.021\n",
            "tick 8     kimg 32.0     time 36m 35s      sec/tick 177.2   sec/kimg 44.29   maintenance 0.1    cpumem 5.01   gpumem 3.79   reserved 4.03   augment 0.022\n",
            "tick 9     kimg 36.0     time 39m 32s      sec/tick 176.5   sec/kimg 44.13   maintenance 0.2    cpumem 5.01   gpumem 3.79   reserved 4.03   augment 0.025\n",
            "tick 10    kimg 40.0     time 42m 29s      sec/tick 177.1   sec/kimg 44.28   maintenance 0.1    cpumem 5.01   gpumem 3.79   reserved 4.03   augment 0.029\n",
            "tick 11    kimg 44.0     time 45m 26s      sec/tick 176.6   sec/kimg 44.15   maintenance 0.1    cpumem 5.01   gpumem 3.79   reserved 4.03   augment 0.030\n",
            "tick 12    kimg 48.0     time 48m 23s      sec/tick 176.9   sec/kimg 44.23   maintenance 0.1    cpumem 5.01   gpumem 3.79   reserved 4.03   augment 0.033\n",
            "tick 13    kimg 52.0     time 51m 20s      sec/tick 176.7   sec/kimg 44.17   maintenance 0.1    cpumem 5.01   gpumem 3.79   reserved 4.03   augment 0.035\n",
            "tick 14    kimg 56.0     time 54m 17s      sec/tick 176.8   sec/kimg 44.20   maintenance 0.1    cpumem 5.01   gpumem 3.79   reserved 4.03   augment 0.037\n",
            "tick 15    kimg 60.0     time 57m 14s      sec/tick 176.7   sec/kimg 44.19   maintenance 0.1    cpumem 5.01   gpumem 3.79   reserved 4.03   augment 0.038\n",
            "tick 16    kimg 64.0     time 1h 00m 10s   sec/tick 176.7   sec/kimg 44.18   maintenance 0.1    cpumem 5.01   gpumem 3.79   reserved 4.03   augment 0.039\n",
            "tick 17    kimg 68.0     time 1h 03m 07s   sec/tick 176.5   sec/kimg 44.12   maintenance 0.2    cpumem 5.01   gpumem 3.79   reserved 4.03   augment 0.041\n",
            "tick 18    kimg 72.0     time 1h 06m 04s   sec/tick 176.7   sec/kimg 44.18   maintenance 0.1    cpumem 5.01   gpumem 3.79   reserved 4.03   augment 0.041\n",
            "tick 19    kimg 76.0     time 1h 09m 00s   sec/tick 176.2   sec/kimg 44.05   maintenance 0.1    cpumem 5.01   gpumem 3.79   reserved 4.03   augment 0.042\n",
            "tick 20    kimg 80.0     time 1h 11m 57s   sec/tick 176.9   sec/kimg 44.24   maintenance 0.1    cpumem 5.01   gpumem 3.79   reserved 4.03   augment 0.042\n",
            "tick 21    kimg 84.0     time 1h 14m 54s   sec/tick 176.7   sec/kimg 44.18   maintenance 0.1    cpumem 5.01   gpumem 3.79   reserved 4.03   augment 0.045\n",
            "tick 22    kimg 88.0     time 1h 17m 51s   sec/tick 176.5   sec/kimg 44.11   maintenance 0.1    cpumem 5.01   gpumem 3.79   reserved 4.03   augment 0.043\n",
            "tick 23    kimg 92.0     time 1h 20m 47s   sec/tick 176.5   sec/kimg 44.12   maintenance 0.1    cpumem 5.01   gpumem 3.79   reserved 4.03   augment 0.042\n",
            "tick 24    kimg 96.0     time 1h 23m 44s   sec/tick 176.7   sec/kimg 44.17   maintenance 0.1    cpumem 5.01   gpumem 3.79   reserved 4.03   augment 0.042\n",
            "tick 25    kimg 100.0    time 1h 26m 41s   sec/tick 176.4   sec/kimg 44.10   maintenance 0.2    cpumem 5.01   gpumem 3.79   reserved 4.03   augment 0.041\n",
            "tick 26    kimg 104.0    time 1h 29m 37s   sec/tick 176.6   sec/kimg 44.14   maintenance 0.1    cpumem 5.01   gpumem 3.79   reserved 4.03   augment 0.041\n",
            "tick 27    kimg 108.0    time 1h 32m 33s   sec/tick 176.0   sec/kimg 44.00   maintenance 0.1    cpumem 5.01   gpumem 3.79   reserved 4.03   augment 0.040\n",
            "tick 28    kimg 112.0    time 1h 35m 30s   sec/tick 176.7   sec/kimg 44.18   maintenance 0.1    cpumem 5.01   gpumem 3.79   reserved 4.03   augment 0.040\n",
            "tick 29    kimg 116.0    time 1h 38m 27s   sec/tick 176.6   sec/kimg 44.15   maintenance 0.1    cpumem 5.01   gpumem 3.79   reserved 4.03   augment 0.040\n",
            "tick 30    kimg 120.0    time 1h 41m 23s   sec/tick 176.4   sec/kimg 44.10   maintenance 0.1    cpumem 5.01   gpumem 3.79   reserved 4.03   augment 0.038\n",
            "tick 31    kimg 124.0    time 1h 44m 20s   sec/tick 176.3   sec/kimg 44.08   maintenance 0.1    cpumem 5.01   gpumem 3.79   reserved 4.03   augment 0.038\n",
            "tick 32    kimg 128.0    time 1h 47m 17s   sec/tick 176.6   sec/kimg 44.16   maintenance 0.1    cpumem 5.01   gpumem 3.79   reserved 4.03   augment 0.037\n",
            "tick 33    kimg 132.0    time 1h 50m 13s   sec/tick 176.3   sec/kimg 44.08   maintenance 0.2    cpumem 5.01   gpumem 3.79   reserved 4.03   augment 0.038\n",
            "tick 34    kimg 136.0    time 1h 53m 10s   sec/tick 176.5   sec/kimg 44.12   maintenance 0.1    cpumem 5.01   gpumem 3.79   reserved 4.03   augment 0.038\n",
            "tick 35    kimg 140.0    time 1h 56m 06s   sec/tick 175.9   sec/kimg 43.98   maintenance 0.1    cpumem 5.01   gpumem 3.79   reserved 4.03   augment 0.037\n",
            "tick 36    kimg 144.0    time 1h 59m 03s   sec/tick 176.9   sec/kimg 44.22   maintenance 0.1    cpumem 5.01   gpumem 3.79   reserved 4.03   augment 0.038\n",
            "tick 37    kimg 148.0    time 2h 01m 59s   sec/tick 176.4   sec/kimg 44.10   maintenance 0.1    cpumem 5.01   gpumem 3.79   reserved 4.03   augment 0.038\n",
            "tick 38    kimg 152.0    time 2h 04m 56s   sec/tick 176.3   sec/kimg 44.08   maintenance 0.1    cpumem 5.01   gpumem 3.79   reserved 4.03   augment 0.037\n",
            "tick 39    kimg 156.0    time 2h 07m 52s   sec/tick 176.3   sec/kimg 44.06   maintenance 0.1    cpumem 5.01   gpumem 3.79   reserved 4.03   augment 0.037\n",
            "tick 40    kimg 160.0    time 2h 10m 49s   sec/tick 176.7   sec/kimg 44.16   maintenance 0.1    cpumem 5.01   gpumem 3.79   reserved 4.03   augment 0.036\n",
            "tick 41    kimg 164.0    time 2h 13m 45s   sec/tick 176.1   sec/kimg 44.02   maintenance 0.2    cpumem 5.01   gpumem 3.79   reserved 4.03   augment 0.038\n",
            "tick 42    kimg 168.0    time 2h 16m 42s   sec/tick 176.5   sec/kimg 44.13   maintenance 0.1    cpumem 5.01   gpumem 3.79   reserved 4.03   augment 0.038\n",
            "tick 43    kimg 172.0    time 2h 19m 38s   sec/tick 175.8   sec/kimg 43.96   maintenance 0.1    cpumem 5.01   gpumem 3.79   reserved 4.03   augment 0.037\n",
            "tick 44    kimg 176.0    time 2h 22m 35s   sec/tick 176.7   sec/kimg 44.18   maintenance 0.1    cpumem 5.01   gpumem 3.79   reserved 4.03   augment 0.036\n",
            "tick 45    kimg 180.0    time 2h 25m 31s   sec/tick 176.2   sec/kimg 44.06   maintenance 0.1    cpumem 5.01   gpumem 3.79   reserved 4.03   augment 0.035\n",
            "tick 46    kimg 184.0    time 2h 28m 27s   sec/tick 176.0   sec/kimg 44.00   maintenance 0.1    cpumem 5.01   gpumem 3.79   reserved 4.03   augment 0.035\n",
            "tick 47    kimg 188.0    time 2h 31m 23s   sec/tick 176.1   sec/kimg 44.02   maintenance 0.1    cpumem 5.01   gpumem 3.79   reserved 4.03   augment 0.034\n",
            "tick 48    kimg 192.0    time 2h 34m 19s   sec/tick 176.2   sec/kimg 44.04   maintenance 0.1    cpumem 5.01   gpumem 3.79   reserved 4.03   augment 0.035\n",
            "tick 49    kimg 196.0    time 2h 37m 16s   sec/tick 176.2   sec/kimg 44.06   maintenance 0.2    cpumem 5.01   gpumem 3.79   reserved 4.03   augment 0.033\n",
            "tick 50    kimg 200.0    time 2h 40m 13s   sec/tick 176.6   sec/kimg 44.14   maintenance 0.1    cpumem 5.01   gpumem 3.79   reserved 4.03   augment 0.032\n",
            "Evaluating metrics...\n",
            "{\"results\": {\"fid50k_full\": 7.655377536740542e+99}, \"metric\": \"fid50k_full\", \"total_time\": 621.5503442287445, \"total_time_str\": \"10m 22s\", \"num_gpus\": 1, \"snapshot_pkl\": \"network-snapshot-000200.pkl\", \"timestamp\": 1702242905.0196917}\n",
            "tick 51    kimg 204.0    time 2h 53m 40s   sec/tick 177.0   sec/kimg 44.26   maintenance 630.4  cpumem 4.99   gpumem 3.79   reserved 4.03   augment 0.033\n",
            "tick 52    kimg 208.0    time 2h 56m 37s   sec/tick 176.6   sec/kimg 44.15   maintenance 0.1    cpumem 4.99   gpumem 3.79   reserved 4.03   augment 0.033\n"
          ]
        }
      ]
    },
    {
      "cell_type": "code",
      "source": [],
      "metadata": {
        "id": "mYFbibJofhM7"
      },
      "id": "mYFbibJofhM7",
      "execution_count": null,
      "outputs": []
    },
    {
      "cell_type": "code",
      "source": [
        "!python /content/drive/MyDrive/StyleGan3_gray_scale/gen_images.py --outdir=/content/drive/MyDrive/Twarz/zdjecia_wynikowe --seeds=0-10 --network=/content/drive/MyDrive/MNIST/wyniczek/00005-stylegan3-r-four_new_img_24_11-gpus1-batch16-gamma3.2768/network-snapshot-000100.pkl"
      ],
      "metadata": {
        "id": "iZuhM7_mfhRD",
        "outputId": "b4dd2dec-d747-4605-b9bf-bbf52e25da63",
        "colab": {
          "base_uri": "https://localhost:8080/"
        }
      },
      "id": "iZuhM7_mfhRD",
      "execution_count": null,
      "outputs": [
        {
          "output_type": "stream",
          "name": "stdout",
          "text": [
            "Loading networks from \"/content/drive/MyDrive/MNIST/wyniczek/00005-stylegan3-r-four_new_img_24_11-gpus1-batch16-gamma3.2768/network-snapshot-000100.pkl\"...\n",
            "Generating image for seed 0 (0/11) ...\n",
            "Setting up PyTorch plugin \"bias_act_plugin\"... Done.\n",
            "Setting up PyTorch plugin \"filtered_lrelu_plugin\"... Done.\n",
            "torch.Size([16, 16])\n",
            "Generating image for seed 1 (1/11) ...\n",
            "torch.Size([16, 16])\n",
            "Generating image for seed 2 (2/11) ...\n",
            "torch.Size([16, 16])\n",
            "Generating image for seed 3 (3/11) ...\n",
            "torch.Size([16, 16])\n",
            "Generating image for seed 4 (4/11) ...\n",
            "torch.Size([16, 16])\n",
            "Generating image for seed 5 (5/11) ...\n",
            "torch.Size([16, 16])\n",
            "Generating image for seed 6 (6/11) ...\n",
            "torch.Size([16, 16])\n",
            "Generating image for seed 7 (7/11) ...\n",
            "torch.Size([16, 16])\n",
            "Generating image for seed 8 (8/11) ...\n",
            "torch.Size([16, 16])\n",
            "Generating image for seed 9 (9/11) ...\n",
            "torch.Size([16, 16])\n",
            "Generating image for seed 10 (10/11) ...\n",
            "torch.Size([16, 16])\n"
          ]
        }
      ]
    },
    {
      "cell_type": "code",
      "source": [],
      "metadata": {
        "id": "wWrV4S5PfhWF"
      },
      "id": "wWrV4S5PfhWF",
      "execution_count": null,
      "outputs": []
    },
    {
      "cell_type": "code",
      "source": [],
      "metadata": {
        "id": "Vy_bL4xDfhZ2"
      },
      "id": "Vy_bL4xDfhZ2",
      "execution_count": null,
      "outputs": []
    },
    {
      "cell_type": "code",
      "source": [],
      "metadata": {
        "id": "o3jSe4offhdu"
      },
      "id": "o3jSe4offhdu",
      "execution_count": null,
      "outputs": []
    },
    {
      "cell_type": "code",
      "source": [],
      "metadata": {
        "id": "rGX23yPGfhh2"
      },
      "id": "rGX23yPGfhh2",
      "execution_count": null,
      "outputs": []
    },
    {
      "cell_type": "code",
      "execution_count": null,
      "id": "6ee711f7",
      "metadata": {
        "colab": {
          "base_uri": "https://localhost:8080/"
        },
        "id": "6ee711f7",
        "outputId": "0e4601ca-041e-4510-8d91-95d0d305b015",
        "scrolled": true
      },
      "outputs": [
        {
          "name": "stdout",
          "output_type": "stream",
          "text": [
            "\r",
            "  0% 0/5842 [00:00<?, ?it/s]\r",
            "  0% 0/5842 [00:00<?, ?it/s]\n",
            "Traceback (most recent call last):\n",
            "  File \"/content/drive/MyDrive/Style_GAN_3/dataset_tool.py\", line 456, in <module>\n",
            "    convert_dataset() # pylint: disable=no-value-for-parameter\n",
            "  File \"/usr/local/lib/python3.10/dist-packages/click/core.py\", line 1157, in __call__\n",
            "    return self.main(*args, **kwargs)\n",
            "  File \"/usr/local/lib/python3.10/dist-packages/click/core.py\", line 1078, in main\n",
            "    rv = self.invoke(ctx)\n",
            "  File \"/usr/local/lib/python3.10/dist-packages/click/core.py\", line 1434, in invoke\n",
            "    return ctx.invoke(self.callback, **ctx.params)\n",
            "  File \"/usr/local/lib/python3.10/dist-packages/click/core.py\", line 783, in invoke\n",
            "    return __callback(*args, **kwargs)\n",
            "  File \"/usr/local/lib/python3.10/dist-packages/click/decorators.py\", line 33, in new_func\n",
            "    return f(get_current_context(), *args, **kwargs)\n",
            "  File \"/content/drive/MyDrive/Style_GAN_3/dataset_tool.py\", line 412, in convert_dataset\n",
            "    img = transform_image(image['img'])\n",
            "  File \"/content/drive/MyDrive/Style_GAN_3/dataset_tool.py\", line 235, in center_crop\n",
            "    img = PIL.Image.fromarray(img, 'RGB')\n",
            "  File \"/usr/local/lib/python3.10/dist-packages/PIL/Image.py\", line 3103, in fromarray\n",
            "    return frombuffer(mode, size, obj, \"raw\", rawmode, 0, 1)\n",
            "  File \"/usr/local/lib/python3.10/dist-packages/PIL/Image.py\", line 3027, in frombuffer\n",
            "    return frombytes(mode, size, data, decoder_name, args)\n",
            "  File \"/usr/local/lib/python3.10/dist-packages/PIL/Image.py\", line 2969, in frombytes\n",
            "    im.frombytes(data, decoder_name, args)\n",
            "  File \"/usr/local/lib/python3.10/dist-packages/PIL/Image.py\", line 830, in frombytes\n",
            "    raise ValueError(msg)\n",
            "ValueError: not enough image data\n"
          ]
        }
      ],
      "source": [
        "!python /content/drive/MyDrive/Style_GAN_3/dataset_tool.py --source=/content/drive/MyDrive/MNIST/four_img.zip --dest=/content/drive/MyDrive/MNIST/four_new_img.zip --transform=center-crop --resolution=28x28\n"
      ]
    },
    {
      "cell_type": "code",
      "execution_count": null,
      "id": "e2b0b775",
      "metadata": {
        "id": "e2b0b775",
        "outputId": "643036cf-e355-40d3-c6ad-ffa6e4bb0a7f"
      },
      "outputs": [
        {
          "name": "stdout",
          "output_type": "stream",
          "text": [
            "100%|█████████████████████████████████████| 5842/5842 [00:02<00:00, 2044.61it/s]\n"
          ]
        }
      ],
      "source": [
        "!python stylegan3-main/dataset_tool.py --source=four_img.zip --dest=four_new_img.zip --transform=center-crop --resolution=16x16\n"
      ]
    },
    {
      "cell_type": "code",
      "execution_count": null,
      "id": "0020c699",
      "metadata": {
        "id": "0020c699"
      },
      "outputs": [],
      "source": []
    }
  ],
  "metadata": {
    "colab": {
      "provenance": [],
      "gpuType": "T4"
    },
    "kernelspec": {
      "display_name": "py39",
      "language": "python",
      "name": "py39"
    },
    "language_info": {
      "codemirror_mode": {
        "name": "ipython",
        "version": 3
      },
      "file_extension": ".py",
      "mimetype": "text/x-python",
      "name": "python",
      "nbconvert_exporter": "python",
      "pygments_lexer": "ipython3",
      "version": "3.9.12"
    },
    "accelerator": "GPU"
  },
  "nbformat": 4,
  "nbformat_minor": 5
}